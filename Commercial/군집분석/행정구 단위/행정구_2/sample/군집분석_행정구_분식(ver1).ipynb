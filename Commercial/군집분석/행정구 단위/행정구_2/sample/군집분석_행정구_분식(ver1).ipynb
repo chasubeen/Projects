{
 "cells": [
  {
   "cell_type": "markdown",
   "id": "8f7c1e82",
   "metadata": {},
   "source": [
    "- 변수: 상위 10개 선택\n",
    "- 로그 변환 -> 표준화"
   ]
  },
  {
   "cell_type": "code",
   "execution_count": 1,
   "id": "4022c70e",
   "metadata": {},
   "outputs": [],
   "source": [
    "import numpy as np\n",
    "import pandas as pd\n",
    "import matplotlib.pyplot as plt\n",
    "import seaborn as sns"
   ]
  },
  {
   "cell_type": "code",
   "execution_count": 2,
   "id": "719074cc",
   "metadata": {},
   "outputs": [],
   "source": [
    "plt.rc('font',family = 'NanumBarunGothic')"
   ]
  },
  {
   "cell_type": "markdown",
   "id": "495efb7e",
   "metadata": {},
   "source": [
    "# **0. 데이터 준비**"
   ]
  },
  {
   "cell_type": "markdown",
   "id": "c520aeea",
   "metadata": {},
   "source": [
    "- **행정구** 단위까지 구분되어 있는 데이터로 군집화 수행"
   ]
  },
  {
   "cell_type": "code",
   "execution_count": 3,
   "id": "9ed1e401",
   "metadata": {},
   "outputs": [
    {
     "data": {
      "text/html": [
       "<div>\n",
       "<style scoped>\n",
       "    .dataframe tbody tr th:only-of-type {\n",
       "        vertical-align: middle;\n",
       "    }\n",
       "\n",
       "    .dataframe tbody tr th {\n",
       "        vertical-align: top;\n",
       "    }\n",
       "\n",
       "    .dataframe thead th {\n",
       "        text-align: right;\n",
       "    }\n",
       "</style>\n",
       "<table border=\"1\" class=\"dataframe\">\n",
       "  <thead>\n",
       "    <tr style=\"text-align: right;\">\n",
       "      <th></th>\n",
       "      <th>행정구</th>\n",
       "      <th>갈비/삼겹살</th>\n",
       "      <th>곱창/양구이전문</th>\n",
       "      <th>기사식당</th>\n",
       "      <th>기타고기요리</th>\n",
       "      <th>냉면집</th>\n",
       "      <th>닭/오리요리</th>\n",
       "      <th>돌솥/비빕밥전문점</th>\n",
       "      <th>두부요리전문</th>\n",
       "      <th>버섯전문점</th>\n",
       "      <th>...</th>\n",
       "      <th>폐업점포영업개월</th>\n",
       "      <th>10대 미만</th>\n",
       "      <th>10대</th>\n",
       "      <th>20 ~ 30대</th>\n",
       "      <th>40 ~ 50대</th>\n",
       "      <th>60대</th>\n",
       "      <th>70대 이상</th>\n",
       "      <th>총인구</th>\n",
       "      <th>역(전체)</th>\n",
       "      <th>역(환승역)</th>\n",
       "    </tr>\n",
       "  </thead>\n",
       "  <tbody>\n",
       "    <tr>\n",
       "      <th>0</th>\n",
       "      <td>강남구</td>\n",
       "      <td>301</td>\n",
       "      <td>79</td>\n",
       "      <td>3</td>\n",
       "      <td>65</td>\n",
       "      <td>37</td>\n",
       "      <td>340</td>\n",
       "      <td>7</td>\n",
       "      <td>3</td>\n",
       "      <td>0</td>\n",
       "      <td>...</td>\n",
       "      <td>51</td>\n",
       "      <td>33039</td>\n",
       "      <td>60155</td>\n",
       "      <td>147884</td>\n",
       "      <td>180804</td>\n",
       "      <td>61167</td>\n",
       "      <td>51939</td>\n",
       "      <td>534988</td>\n",
       "      <td>33</td>\n",
       "      <td>18</td>\n",
       "    </tr>\n",
       "    <tr>\n",
       "      <th>1</th>\n",
       "      <td>강동구</td>\n",
       "      <td>174</td>\n",
       "      <td>56</td>\n",
       "      <td>1</td>\n",
       "      <td>25</td>\n",
       "      <td>29</td>\n",
       "      <td>270</td>\n",
       "      <td>2</td>\n",
       "      <td>3</td>\n",
       "      <td>1</td>\n",
       "      <td>...</td>\n",
       "      <td>52</td>\n",
       "      <td>33211</td>\n",
       "      <td>39020</td>\n",
       "      <td>130022</td>\n",
       "      <td>147455</td>\n",
       "      <td>67493</td>\n",
       "      <td>47289</td>\n",
       "      <td>464490</td>\n",
       "      <td>12</td>\n",
       "      <td>2</td>\n",
       "    </tr>\n",
       "    <tr>\n",
       "      <th>2</th>\n",
       "      <td>강북구</td>\n",
       "      <td>102</td>\n",
       "      <td>56</td>\n",
       "      <td>4</td>\n",
       "      <td>22</td>\n",
       "      <td>13</td>\n",
       "      <td>213</td>\n",
       "      <td>4</td>\n",
       "      <td>3</td>\n",
       "      <td>0</td>\n",
       "      <td>...</td>\n",
       "      <td>52</td>\n",
       "      <td>13243</td>\n",
       "      <td>20362</td>\n",
       "      <td>78696</td>\n",
       "      <td>94561</td>\n",
       "      <td>47245</td>\n",
       "      <td>44515</td>\n",
       "      <td>298622</td>\n",
       "      <td>11</td>\n",
       "      <td>0</td>\n",
       "    </tr>\n",
       "    <tr>\n",
       "      <th>3</th>\n",
       "      <td>강서구</td>\n",
       "      <td>188</td>\n",
       "      <td>55</td>\n",
       "      <td>2</td>\n",
       "      <td>36</td>\n",
       "      <td>27</td>\n",
       "      <td>328</td>\n",
       "      <td>4</td>\n",
       "      <td>5</td>\n",
       "      <td>0</td>\n",
       "      <td>...</td>\n",
       "      <td>52</td>\n",
       "      <td>34702</td>\n",
       "      <td>43165</td>\n",
       "      <td>184028</td>\n",
       "      <td>173825</td>\n",
       "      <td>79738</td>\n",
       "      <td>60355</td>\n",
       "      <td>575813</td>\n",
       "      <td>23</td>\n",
       "      <td>8</td>\n",
       "    </tr>\n",
       "    <tr>\n",
       "      <th>4</th>\n",
       "      <td>관악구</td>\n",
       "      <td>146</td>\n",
       "      <td>48</td>\n",
       "      <td>1</td>\n",
       "      <td>27</td>\n",
       "      <td>18</td>\n",
       "      <td>252</td>\n",
       "      <td>0</td>\n",
       "      <td>5</td>\n",
       "      <td>0</td>\n",
       "      <td>...</td>\n",
       "      <td>54</td>\n",
       "      <td>19106</td>\n",
       "      <td>27057</td>\n",
       "      <td>204193</td>\n",
       "      <td>134898</td>\n",
       "      <td>60985</td>\n",
       "      <td>54511</td>\n",
       "      <td>500750</td>\n",
       "      <td>9</td>\n",
       "      <td>2</td>\n",
       "    </tr>\n",
       "    <tr>\n",
       "      <th>5</th>\n",
       "      <td>광진구</td>\n",
       "      <td>185</td>\n",
       "      <td>38</td>\n",
       "      <td>3</td>\n",
       "      <td>26</td>\n",
       "      <td>21</td>\n",
       "      <td>221</td>\n",
       "      <td>2</td>\n",
       "      <td>4</td>\n",
       "      <td>0</td>\n",
       "      <td>...</td>\n",
       "      <td>54</td>\n",
       "      <td>17359</td>\n",
       "      <td>25131</td>\n",
       "      <td>123028</td>\n",
       "      <td>106294</td>\n",
       "      <td>45120</td>\n",
       "      <td>34141</td>\n",
       "      <td>351073</td>\n",
       "      <td>11</td>\n",
       "      <td>4</td>\n",
       "    </tr>\n",
       "    <tr>\n",
       "      <th>6</th>\n",
       "      <td>구로구</td>\n",
       "      <td>163</td>\n",
       "      <td>45</td>\n",
       "      <td>0</td>\n",
       "      <td>13</td>\n",
       "      <td>19</td>\n",
       "      <td>280</td>\n",
       "      <td>5</td>\n",
       "      <td>6</td>\n",
       "      <td>1</td>\n",
       "      <td>...</td>\n",
       "      <td>54</td>\n",
       "      <td>25890</td>\n",
       "      <td>29422</td>\n",
       "      <td>119016</td>\n",
       "      <td>133415</td>\n",
       "      <td>60825</td>\n",
       "      <td>48002</td>\n",
       "      <td>416570</td>\n",
       "      <td>13</td>\n",
       "      <td>5</td>\n",
       "    </tr>\n",
       "    <tr>\n",
       "      <th>7</th>\n",
       "      <td>금천구</td>\n",
       "      <td>122</td>\n",
       "      <td>30</td>\n",
       "      <td>1</td>\n",
       "      <td>34</td>\n",
       "      <td>12</td>\n",
       "      <td>178</td>\n",
       "      <td>3</td>\n",
       "      <td>6</td>\n",
       "      <td>0</td>\n",
       "      <td>...</td>\n",
       "      <td>54</td>\n",
       "      <td>11848</td>\n",
       "      <td>14124</td>\n",
       "      <td>77606</td>\n",
       "      <td>76374</td>\n",
       "      <td>36827</td>\n",
       "      <td>27093</td>\n",
       "      <td>243872</td>\n",
       "      <td>4</td>\n",
       "      <td>2</td>\n",
       "    </tr>\n",
       "    <tr>\n",
       "      <th>8</th>\n",
       "      <td>노원구</td>\n",
       "      <td>136</td>\n",
       "      <td>45</td>\n",
       "      <td>0</td>\n",
       "      <td>20</td>\n",
       "      <td>16</td>\n",
       "      <td>307</td>\n",
       "      <td>3</td>\n",
       "      <td>3</td>\n",
       "      <td>0</td>\n",
       "      <td>...</td>\n",
       "      <td>53</td>\n",
       "      <td>29100</td>\n",
       "      <td>49687</td>\n",
       "      <td>133684</td>\n",
       "      <td>166527</td>\n",
       "      <td>71351</td>\n",
       "      <td>59337</td>\n",
       "      <td>509686</td>\n",
       "      <td>16</td>\n",
       "      <td>6</td>\n",
       "    </tr>\n",
       "    <tr>\n",
       "      <th>9</th>\n",
       "      <td>도봉구</td>\n",
       "      <td>95</td>\n",
       "      <td>40</td>\n",
       "      <td>2</td>\n",
       "      <td>41</td>\n",
       "      <td>13</td>\n",
       "      <td>184</td>\n",
       "      <td>2</td>\n",
       "      <td>6</td>\n",
       "      <td>0</td>\n",
       "      <td>...</td>\n",
       "      <td>53</td>\n",
       "      <td>15953</td>\n",
       "      <td>23787</td>\n",
       "      <td>79509</td>\n",
       "      <td>100618</td>\n",
       "      <td>51773</td>\n",
       "      <td>43244</td>\n",
       "      <td>314884</td>\n",
       "      <td>8</td>\n",
       "      <td>4</td>\n",
       "    </tr>\n",
       "  </tbody>\n",
       "</table>\n",
       "<p>10 rows × 71 columns</p>\n",
       "</div>"
      ],
      "text/plain": [
       "   행정구  갈비/삼겹살  곱창/양구이전문  기사식당  기타고기요리  냉면집  닭/오리요리  돌솥/비빕밥전문점  두부요리전문  버섯전문점  \\\n",
       "0  강남구     301        79     3      65   37     340          7       3      0   \n",
       "1  강동구     174        56     1      25   29     270          2       3      1   \n",
       "2  강북구     102        56     4      22   13     213          4       3      0   \n",
       "3  강서구     188        55     2      36   27     328          4       5      0   \n",
       "4  관악구     146        48     1      27   18     252          0       5      0   \n",
       "5  광진구     185        38     3      26   21     221          2       4      0   \n",
       "6  구로구     163        45     0      13   19     280          5       6      1   \n",
       "7  금천구     122        30     1      34   12     178          3       6      0   \n",
       "8  노원구     136        45     0      20   16     307          3       3      0   \n",
       "9  도봉구      95        40     2      41   13     184          2       6      0   \n",
       "\n",
       "   ...  폐업점포영업개월  10대 미만    10대  20 ~ 30대  40 ~ 50대    60대  70대 이상     총인구  \\\n",
       "0  ...        51   33039  60155    147884    180804  61167   51939  534988   \n",
       "1  ...        52   33211  39020    130022    147455  67493   47289  464490   \n",
       "2  ...        52   13243  20362     78696     94561  47245   44515  298622   \n",
       "3  ...        52   34702  43165    184028    173825  79738   60355  575813   \n",
       "4  ...        54   19106  27057    204193    134898  60985   54511  500750   \n",
       "5  ...        54   17359  25131    123028    106294  45120   34141  351073   \n",
       "6  ...        54   25890  29422    119016    133415  60825   48002  416570   \n",
       "7  ...        54   11848  14124     77606     76374  36827   27093  243872   \n",
       "8  ...        53   29100  49687    133684    166527  71351   59337  509686   \n",
       "9  ...        53   15953  23787     79509    100618  51773   43244  314884   \n",
       "\n",
       "   역(전체)  역(환승역)  \n",
       "0     33      18  \n",
       "1     12       2  \n",
       "2     11       0  \n",
       "3     23       8  \n",
       "4      9       2  \n",
       "5     11       4  \n",
       "6     13       5  \n",
       "7      4       2  \n",
       "8     16       6  \n",
       "9      8       4  \n",
       "\n",
       "[10 rows x 71 columns]"
      ]
     },
     "execution_count": 3,
     "metadata": {},
     "output_type": "execute_result"
    }
   ],
   "source": [
    "df = pd.read_csv(\"./datasets/final2.csv\",encoding =\"euc-kr\")\n",
    "df.head(10)"
   ]
  },
  {
   "cell_type": "code",
   "execution_count": 4,
   "id": "68195122",
   "metadata": {},
   "outputs": [
    {
     "name": "stdout",
     "output_type": "stream",
     "text": [
      "<class 'pandas.core.frame.DataFrame'>\n",
      "RangeIndex: 25 entries, 0 to 24\n",
      "Data columns (total 71 columns):\n",
      " #   Column          Non-Null Count  Dtype  \n",
      "---  ------          --------------  -----  \n",
      " 0   행정구             25 non-null     object \n",
      " 1   갈비/삼겹살          25 non-null     int64  \n",
      " 2   곱창/양구이전문        25 non-null     int64  \n",
      " 3   기사식당            25 non-null     int64  \n",
      " 4   기타고기요리          25 non-null     int64  \n",
      " 5   냉면집             25 non-null     int64  \n",
      " 6   닭/오리요리          25 non-null     int64  \n",
      " 7   돌솥/비빕밥전문점       25 non-null     int64  \n",
      " 8   두부요리전문          25 non-null     int64  \n",
      " 9   버섯전문점           25 non-null     int64  \n",
      " 10  별식/퓨전요리         25 non-null     int64  \n",
      " 11  보리밥전문           25 non-null     int64  \n",
      " 12  부대찌개/섞어찌개       25 non-null     int64  \n",
      " 13  부페              25 non-null     int64  \n",
      " 14  분식              25 non-null     int64  \n",
      " 15  설렁탕집            25 non-null     int64  \n",
      " 16  순두부전문           25 non-null     int64  \n",
      " 17  쌈밥전문            25 non-null     int64  \n",
      " 18  양식              25 non-null     int64  \n",
      " 19  유흥주점            25 non-null     int64  \n",
      " 20  음식배달서비스         25 non-null     int64  \n",
      " 21  일식/수산물          25 non-null     int64  \n",
      " 22  재첩국전문           25 non-null     int64  \n",
      " 23  제과제빵떡케익         25 non-null     int64  \n",
      " 24  족발/보쌈전문         25 non-null     int64  \n",
      " 25  중식              25 non-null     int64  \n",
      " 26  추어탕전문           25 non-null     int64  \n",
      " 27  커피점/카페          25 non-null     int64  \n",
      " 28  파전전문            25 non-null     int64  \n",
      " 29  패스트푸드           25 non-null     int64  \n",
      " 30  한식/백반/한정식       25 non-null     int64  \n",
      " 31  한정식전문           25 non-null     int64  \n",
      " 32  해장국/감자탕         25 non-null     int64  \n",
      " 33  황태전문            25 non-null     int64  \n",
      " 34  총생활인구수_평일       25 non-null     float64\n",
      " 35  10대 미만 생활인구_평일  25 non-null     float64\n",
      " 36  10대 생활인구_평일     25 non-null     float64\n",
      " 37  20~30대 생활인구_평일  25 non-null     float64\n",
      " 38  40~50대 생활인구_평일  25 non-null     float64\n",
      " 39  60대 생활인구_평일     25 non-null     float64\n",
      " 40  70대 이상 생활인구_평일  25 non-null     float64\n",
      " 41  총생활인구수_주말       25 non-null     float64\n",
      " 42  10대 미만 생활인구_주말  25 non-null     float64\n",
      " 43  10대 생활인구_주말     25 non-null     float64\n",
      " 44  20~30대 생활인구_주말  25 non-null     float64\n",
      " 45  40~50대 생활인구_주말  25 non-null     float64\n",
      " 46  60대 생활인구_주말     25 non-null     float64\n",
      " 47  70대 이상 생활인구_주말  25 non-null     float64\n",
      " 48  대학교(전체)         25 non-null     int64  \n",
      " 49  일반대학            25 non-null     int64  \n",
      " 50  온라인대학           25 non-null     int64  \n",
      " 51  초중고(전체)         25 non-null     int64  \n",
      " 52  초등학교            25 non-null     int64  \n",
      " 53  중학교             25 non-null     int64  \n",
      " 54  고등학교            25 non-null     int64  \n",
      " 55  총인구수            25 non-null     int64  \n",
      " 56  총가구수            25 non-null     int64  \n",
      " 57  가구당인구수          25 non-null     float64\n",
      " 58  평균소득금액          25 non-null     float64\n",
      " 59  상권변화지표          25 non-null     object \n",
      " 60  운영점포영업개월        25 non-null     int64  \n",
      " 61  폐업점포영업개월        25 non-null     int64  \n",
      " 62  10대 미만          25 non-null     int64  \n",
      " 63  10대             25 non-null     int64  \n",
      " 64  20 ~ 30대        25 non-null     int64  \n",
      " 65  40 ~ 50대        25 non-null     int64  \n",
      " 66  60대             25 non-null     int64  \n",
      " 67  70대 이상          25 non-null     int64  \n",
      " 68  총인구             25 non-null     int64  \n",
      " 69  역(전체)           25 non-null     int64  \n",
      " 70  역(환승역)          25 non-null     int64  \n",
      "dtypes: float64(16), int64(53), object(2)\n",
      "memory usage: 14.0+ KB\n"
     ]
    }
   ],
   "source": [
    "df.info()"
   ]
  },
  {
   "cell_type": "markdown",
   "id": "9fa19987",
   "metadata": {},
   "source": [
    "- 총 71개의 컬럼, 25개의 데이터(행, 행정구 단위)\n",
    "    - 음식 업종 수(33개) + 변수(38개)\n",
    "- 결측치는 존재하지 않는다."
   ]
  },
  {
   "cell_type": "markdown",
   "id": "d1a52b4d",
   "metadata": {},
   "source": [
    "# **1. 데이터 선택 & EDA**"
   ]
  },
  {
   "cell_type": "code",
   "execution_count": 5,
   "id": "245ab0be",
   "metadata": {},
   "outputs": [
    {
     "data": {
      "text/html": [
       "<div>\n",
       "<style scoped>\n",
       "    .dataframe tbody tr th:only-of-type {\n",
       "        vertical-align: middle;\n",
       "    }\n",
       "\n",
       "    .dataframe tbody tr th {\n",
       "        vertical-align: top;\n",
       "    }\n",
       "\n",
       "    .dataframe thead th {\n",
       "        text-align: right;\n",
       "    }\n",
       "</style>\n",
       "<table border=\"1\" class=\"dataframe\">\n",
       "  <thead>\n",
       "    <tr style=\"text-align: right;\">\n",
       "      <th></th>\n",
       "      <th>행정구</th>\n",
       "      <th>분식</th>\n",
       "      <th>총생활인구수_평일</th>\n",
       "      <th>10대 미만 생활인구_평일</th>\n",
       "      <th>10대 생활인구_평일</th>\n",
       "      <th>20~30대 생활인구_평일</th>\n",
       "      <th>40~50대 생활인구_평일</th>\n",
       "      <th>60대 생활인구_평일</th>\n",
       "      <th>70대 이상 생활인구_평일</th>\n",
       "      <th>총생활인구수_주말</th>\n",
       "      <th>...</th>\n",
       "      <th>폐업점포영업개월</th>\n",
       "      <th>10대 미만</th>\n",
       "      <th>10대</th>\n",
       "      <th>20 ~ 30대</th>\n",
       "      <th>40 ~ 50대</th>\n",
       "      <th>60대</th>\n",
       "      <th>70대 이상</th>\n",
       "      <th>총인구</th>\n",
       "      <th>역(전체)</th>\n",
       "      <th>역(환승역)</th>\n",
       "    </tr>\n",
       "  </thead>\n",
       "  <tbody>\n",
       "    <tr>\n",
       "      <th>0</th>\n",
       "      <td>강남구</td>\n",
       "      <td>751</td>\n",
       "      <td>2.049828e+07</td>\n",
       "      <td>1.219102e+06</td>\n",
       "      <td>1.989315e+06</td>\n",
       "      <td>7.353311e+06</td>\n",
       "      <td>6.772562e+06</td>\n",
       "      <td>1.644169e+06</td>\n",
       "      <td>1.519817e+06</td>\n",
       "      <td>1.694812e+07</td>\n",
       "      <td>...</td>\n",
       "      <td>51</td>\n",
       "      <td>33039</td>\n",
       "      <td>60155</td>\n",
       "      <td>147884</td>\n",
       "      <td>180804</td>\n",
       "      <td>61167</td>\n",
       "      <td>51939</td>\n",
       "      <td>534988</td>\n",
       "      <td>33</td>\n",
       "      <td>18</td>\n",
       "    </tr>\n",
       "    <tr>\n",
       "      <th>1</th>\n",
       "      <td>강동구</td>\n",
       "      <td>439</td>\n",
       "      <td>1.181135e+07</td>\n",
       "      <td>1.002138e+06</td>\n",
       "      <td>1.215699e+06</td>\n",
       "      <td>3.062175e+06</td>\n",
       "      <td>3.721769e+06</td>\n",
       "      <td>1.422661e+06</td>\n",
       "      <td>1.386905e+06</td>\n",
       "      <td>1.206012e+07</td>\n",
       "      <td>...</td>\n",
       "      <td>52</td>\n",
       "      <td>33211</td>\n",
       "      <td>39020</td>\n",
       "      <td>130022</td>\n",
       "      <td>147455</td>\n",
       "      <td>67493</td>\n",
       "      <td>47289</td>\n",
       "      <td>464490</td>\n",
       "      <td>12</td>\n",
       "      <td>2</td>\n",
       "    </tr>\n",
       "    <tr>\n",
       "      <th>2</th>\n",
       "      <td>강북구</td>\n",
       "      <td>312</td>\n",
       "      <td>6.666287e+06</td>\n",
       "      <td>4.432063e+05</td>\n",
       "      <td>5.618048e+05</td>\n",
       "      <td>1.753008e+06</td>\n",
       "      <td>2.060718e+06</td>\n",
       "      <td>8.383629e+05</td>\n",
       "      <td>1.009187e+06</td>\n",
       "      <td>6.967055e+06</td>\n",
       "      <td>...</td>\n",
       "      <td>52</td>\n",
       "      <td>13243</td>\n",
       "      <td>20362</td>\n",
       "      <td>78696</td>\n",
       "      <td>94561</td>\n",
       "      <td>47245</td>\n",
       "      <td>44515</td>\n",
       "      <td>298622</td>\n",
       "      <td>11</td>\n",
       "      <td>0</td>\n",
       "    </tr>\n",
       "    <tr>\n",
       "      <th>3</th>\n",
       "      <td>강서구</td>\n",
       "      <td>519</td>\n",
       "      <td>1.285747e+07</td>\n",
       "      <td>1.006538e+06</td>\n",
       "      <td>1.045185e+06</td>\n",
       "      <td>4.138328e+06</td>\n",
       "      <td>3.929851e+06</td>\n",
       "      <td>1.365295e+06</td>\n",
       "      <td>1.372272e+06</td>\n",
       "      <td>1.278144e+07</td>\n",
       "      <td>...</td>\n",
       "      <td>52</td>\n",
       "      <td>34702</td>\n",
       "      <td>43165</td>\n",
       "      <td>184028</td>\n",
       "      <td>173825</td>\n",
       "      <td>79738</td>\n",
       "      <td>60355</td>\n",
       "      <td>575813</td>\n",
       "      <td>23</td>\n",
       "      <td>8</td>\n",
       "    </tr>\n",
       "    <tr>\n",
       "      <th>4</th>\n",
       "      <td>관악구</td>\n",
       "      <td>417</td>\n",
       "      <td>1.093507e+07</td>\n",
       "      <td>5.414203e+05</td>\n",
       "      <td>7.535122e+05</td>\n",
       "      <td>4.559442e+06</td>\n",
       "      <td>2.941770e+06</td>\n",
       "      <td>1.031023e+06</td>\n",
       "      <td>1.107899e+06</td>\n",
       "      <td>1.131414e+07</td>\n",
       "      <td>...</td>\n",
       "      <td>54</td>\n",
       "      <td>19106</td>\n",
       "      <td>27057</td>\n",
       "      <td>204193</td>\n",
       "      <td>134898</td>\n",
       "      <td>60985</td>\n",
       "      <td>54511</td>\n",
       "      <td>500750</td>\n",
       "      <td>9</td>\n",
       "      <td>2</td>\n",
       "    </tr>\n",
       "  </tbody>\n",
       "</table>\n",
       "<p>5 rows × 39 columns</p>\n",
       "</div>"
      ],
      "text/plain": [
       "   행정구   분식     총생활인구수_평일  10대 미만 생활인구_평일   10대 생활인구_평일  20~30대 생활인구_평일  \\\n",
       "0  강남구  751  2.049828e+07    1.219102e+06  1.989315e+06    7.353311e+06   \n",
       "1  강동구  439  1.181135e+07    1.002138e+06  1.215699e+06    3.062175e+06   \n",
       "2  강북구  312  6.666287e+06    4.432063e+05  5.618048e+05    1.753008e+06   \n",
       "3  강서구  519  1.285747e+07    1.006538e+06  1.045185e+06    4.138328e+06   \n",
       "4  관악구  417  1.093507e+07    5.414203e+05  7.535122e+05    4.559442e+06   \n",
       "\n",
       "   40~50대 생활인구_평일   60대 생활인구_평일  70대 이상 생활인구_평일     총생활인구수_주말  ...  폐업점포영업개월  \\\n",
       "0    6.772562e+06  1.644169e+06    1.519817e+06  1.694812e+07  ...        51   \n",
       "1    3.721769e+06  1.422661e+06    1.386905e+06  1.206012e+07  ...        52   \n",
       "2    2.060718e+06  8.383629e+05    1.009187e+06  6.967055e+06  ...        52   \n",
       "3    3.929851e+06  1.365295e+06    1.372272e+06  1.278144e+07  ...        52   \n",
       "4    2.941770e+06  1.031023e+06    1.107899e+06  1.131414e+07  ...        54   \n",
       "\n",
       "   10대 미만    10대  20 ~ 30대  40 ~ 50대    60대  70대 이상     총인구  역(전체)  역(환승역)  \n",
       "0   33039  60155    147884    180804  61167   51939  534988     33      18  \n",
       "1   33211  39020    130022    147455  67493   47289  464490     12       2  \n",
       "2   13243  20362     78696     94561  47245   44515  298622     11       0  \n",
       "3   34702  43165    184028    173825  79738   60355  575813     23       8  \n",
       "4   19106  27057    204193    134898  60985   54511  500750      9       2  \n",
       "\n",
       "[5 rows x 39 columns]"
      ]
     },
     "execution_count": 5,
     "metadata": {},
     "output_type": "execute_result"
    }
   ],
   "source": [
    "### 분식 업종만 선택\n",
    "\n",
    "bunsik = pd.concat([df.iloc[:,0],df.iloc[:,14],df.iloc[:,34:]],axis = 1)\n",
    "bunsik.head()"
   ]
  },
  {
   "cell_type": "code",
   "execution_count": 6,
   "id": "cadfb242",
   "metadata": {},
   "outputs": [
    {
     "data": {
      "text/html": [
       "<div>\n",
       "<style scoped>\n",
       "    .dataframe tbody tr th:only-of-type {\n",
       "        vertical-align: middle;\n",
       "    }\n",
       "\n",
       "    .dataframe tbody tr th {\n",
       "        vertical-align: top;\n",
       "    }\n",
       "\n",
       "    .dataframe thead th {\n",
       "        text-align: right;\n",
       "    }\n",
       "</style>\n",
       "<table border=\"1\" class=\"dataframe\">\n",
       "  <thead>\n",
       "    <tr style=\"text-align: right;\">\n",
       "      <th></th>\n",
       "      <th>변수</th>\n",
       "      <th>상관계수</th>\n",
       "      <th>절댓값</th>\n",
       "    </tr>\n",
       "  </thead>\n",
       "  <tbody>\n",
       "    <tr>\n",
       "      <th>0</th>\n",
       "      <td>40~50대 생활인구_평일</td>\n",
       "      <td>0.922324</td>\n",
       "      <td>0.922324</td>\n",
       "    </tr>\n",
       "    <tr>\n",
       "      <th>1</th>\n",
       "      <td>총생활인구수_평일</td>\n",
       "      <td>0.910378</td>\n",
       "      <td>0.910378</td>\n",
       "    </tr>\n",
       "    <tr>\n",
       "      <th>2</th>\n",
       "      <td>20~30대 생활인구_평일</td>\n",
       "      <td>0.867541</td>\n",
       "      <td>0.867541</td>\n",
       "    </tr>\n",
       "    <tr>\n",
       "      <th>3</th>\n",
       "      <td>40~50대 생활인구_주말</td>\n",
       "      <td>0.838176</td>\n",
       "      <td>0.838176</td>\n",
       "    </tr>\n",
       "    <tr>\n",
       "      <th>4</th>\n",
       "      <td>총생활인구수_주말</td>\n",
       "      <td>0.826119</td>\n",
       "      <td>0.826119</td>\n",
       "    </tr>\n",
       "    <tr>\n",
       "      <th>5</th>\n",
       "      <td>10대 생활인구_주말</td>\n",
       "      <td>0.792531</td>\n",
       "      <td>0.792531</td>\n",
       "    </tr>\n",
       "    <tr>\n",
       "      <th>6</th>\n",
       "      <td>평균소득금액</td>\n",
       "      <td>0.786651</td>\n",
       "      <td>0.786651</td>\n",
       "    </tr>\n",
       "    <tr>\n",
       "      <th>7</th>\n",
       "      <td>60대 생활인구_평일</td>\n",
       "      <td>0.785354</td>\n",
       "      <td>0.785354</td>\n",
       "    </tr>\n",
       "    <tr>\n",
       "      <th>8</th>\n",
       "      <td>20~30대 생활인구_주말</td>\n",
       "      <td>0.781049</td>\n",
       "      <td>0.781049</td>\n",
       "    </tr>\n",
       "    <tr>\n",
       "      <th>9</th>\n",
       "      <td>10대 생활인구_평일</td>\n",
       "      <td>0.774321</td>\n",
       "      <td>0.774321</td>\n",
       "    </tr>\n",
       "    <tr>\n",
       "      <th>10</th>\n",
       "      <td>10대 미만 생활인구_주말</td>\n",
       "      <td>0.754580</td>\n",
       "      <td>0.754580</td>\n",
       "    </tr>\n",
       "    <tr>\n",
       "      <th>11</th>\n",
       "      <td>10대 미만 생활인구_평일</td>\n",
       "      <td>0.736886</td>\n",
       "      <td>0.736886</td>\n",
       "    </tr>\n",
       "    <tr>\n",
       "      <th>12</th>\n",
       "      <td>10대</td>\n",
       "      <td>0.691348</td>\n",
       "      <td>0.691348</td>\n",
       "    </tr>\n",
       "    <tr>\n",
       "      <th>13</th>\n",
       "      <td>60대 생활인구_주말</td>\n",
       "      <td>0.675106</td>\n",
       "      <td>0.675106</td>\n",
       "    </tr>\n",
       "    <tr>\n",
       "      <th>14</th>\n",
       "      <td>70대 이상 생활인구_평일</td>\n",
       "      <td>0.674733</td>\n",
       "      <td>0.674733</td>\n",
       "    </tr>\n",
       "    <tr>\n",
       "      <th>15</th>\n",
       "      <td>역(전체)</td>\n",
       "      <td>0.661488</td>\n",
       "      <td>0.661488</td>\n",
       "    </tr>\n",
       "    <tr>\n",
       "      <th>16</th>\n",
       "      <td>고등학교</td>\n",
       "      <td>0.641575</td>\n",
       "      <td>0.641575</td>\n",
       "    </tr>\n",
       "    <tr>\n",
       "      <th>17</th>\n",
       "      <td>10대 미만</td>\n",
       "      <td>0.623623</td>\n",
       "      <td>0.623623</td>\n",
       "    </tr>\n",
       "    <tr>\n",
       "      <th>18</th>\n",
       "      <td>40 ~ 50대</td>\n",
       "      <td>0.614869</td>\n",
       "      <td>0.614869</td>\n",
       "    </tr>\n",
       "    <tr>\n",
       "      <th>19</th>\n",
       "      <td>중학교</td>\n",
       "      <td>0.608879</td>\n",
       "      <td>0.608879</td>\n",
       "    </tr>\n",
       "    <tr>\n",
       "      <th>20</th>\n",
       "      <td>초중고(전체)</td>\n",
       "      <td>0.601315</td>\n",
       "      <td>0.601315</td>\n",
       "    </tr>\n",
       "    <tr>\n",
       "      <th>21</th>\n",
       "      <td>70대 이상 생활인구_주말</td>\n",
       "      <td>0.597176</td>\n",
       "      <td>0.597176</td>\n",
       "    </tr>\n",
       "    <tr>\n",
       "      <th>22</th>\n",
       "      <td>총인구</td>\n",
       "      <td>0.584846</td>\n",
       "      <td>0.584846</td>\n",
       "    </tr>\n",
       "    <tr>\n",
       "      <th>23</th>\n",
       "      <td>총인구수</td>\n",
       "      <td>0.565346</td>\n",
       "      <td>0.565346</td>\n",
       "    </tr>\n",
       "    <tr>\n",
       "      <th>24</th>\n",
       "      <td>총가구수</td>\n",
       "      <td>0.532448</td>\n",
       "      <td>0.532448</td>\n",
       "    </tr>\n",
       "    <tr>\n",
       "      <th>25</th>\n",
       "      <td>20 ~ 30대</td>\n",
       "      <td>0.521447</td>\n",
       "      <td>0.521447</td>\n",
       "    </tr>\n",
       "    <tr>\n",
       "      <th>26</th>\n",
       "      <td>역(환승역)</td>\n",
       "      <td>0.519535</td>\n",
       "      <td>0.519535</td>\n",
       "    </tr>\n",
       "    <tr>\n",
       "      <th>27</th>\n",
       "      <td>초등학교</td>\n",
       "      <td>0.492298</td>\n",
       "      <td>0.492298</td>\n",
       "    </tr>\n",
       "    <tr>\n",
       "      <th>28</th>\n",
       "      <td>60대</td>\n",
       "      <td>0.425999</td>\n",
       "      <td>0.425999</td>\n",
       "    </tr>\n",
       "    <tr>\n",
       "      <th>29</th>\n",
       "      <td>70대 이상</td>\n",
       "      <td>0.391873</td>\n",
       "      <td>0.391873</td>\n",
       "    </tr>\n",
       "    <tr>\n",
       "      <th>30</th>\n",
       "      <td>폐업점포영업개월</td>\n",
       "      <td>-0.227900</td>\n",
       "      <td>0.227900</td>\n",
       "    </tr>\n",
       "    <tr>\n",
       "      <th>31</th>\n",
       "      <td>가구당인구수</td>\n",
       "      <td>0.216035</td>\n",
       "      <td>0.216035</td>\n",
       "    </tr>\n",
       "    <tr>\n",
       "      <th>32</th>\n",
       "      <td>온라인대학</td>\n",
       "      <td>-0.121441</td>\n",
       "      <td>0.121441</td>\n",
       "    </tr>\n",
       "    <tr>\n",
       "      <th>33</th>\n",
       "      <td>대학교(전체)</td>\n",
       "      <td>-0.096042</td>\n",
       "      <td>0.096042</td>\n",
       "    </tr>\n",
       "    <tr>\n",
       "      <th>34</th>\n",
       "      <td>운영점포영업개월</td>\n",
       "      <td>-0.090318</td>\n",
       "      <td>0.090318</td>\n",
       "    </tr>\n",
       "    <tr>\n",
       "      <th>35</th>\n",
       "      <td>일반대학</td>\n",
       "      <td>-0.076722</td>\n",
       "      <td>0.076722</td>\n",
       "    </tr>\n",
       "  </tbody>\n",
       "</table>\n",
       "</div>"
      ],
      "text/plain": [
       "                변수      상관계수       절댓값\n",
       "0   40~50대 생활인구_평일  0.922324  0.922324\n",
       "1        총생활인구수_평일  0.910378  0.910378\n",
       "2   20~30대 생활인구_평일  0.867541  0.867541\n",
       "3   40~50대 생활인구_주말  0.838176  0.838176\n",
       "4        총생활인구수_주말  0.826119  0.826119\n",
       "5      10대 생활인구_주말  0.792531  0.792531\n",
       "6           평균소득금액  0.786651  0.786651\n",
       "7      60대 생활인구_평일  0.785354  0.785354\n",
       "8   20~30대 생활인구_주말  0.781049  0.781049\n",
       "9      10대 생활인구_평일  0.774321  0.774321\n",
       "10  10대 미만 생활인구_주말  0.754580  0.754580\n",
       "11  10대 미만 생활인구_평일  0.736886  0.736886\n",
       "12             10대  0.691348  0.691348\n",
       "13     60대 생활인구_주말  0.675106  0.675106\n",
       "14  70대 이상 생활인구_평일  0.674733  0.674733\n",
       "15           역(전체)  0.661488  0.661488\n",
       "16            고등학교  0.641575  0.641575\n",
       "17          10대 미만  0.623623  0.623623\n",
       "18        40 ~ 50대  0.614869  0.614869\n",
       "19             중학교  0.608879  0.608879\n",
       "20         초중고(전체)  0.601315  0.601315\n",
       "21  70대 이상 생활인구_주말  0.597176  0.597176\n",
       "22             총인구  0.584846  0.584846\n",
       "23            총인구수  0.565346  0.565346\n",
       "24            총가구수  0.532448  0.532448\n",
       "25        20 ~ 30대  0.521447  0.521447\n",
       "26          역(환승역)  0.519535  0.519535\n",
       "27            초등학교  0.492298  0.492298\n",
       "28             60대  0.425999  0.425999\n",
       "29          70대 이상  0.391873  0.391873\n",
       "30        폐업점포영업개월 -0.227900  0.227900\n",
       "31          가구당인구수  0.216035  0.216035\n",
       "32           온라인대학 -0.121441  0.121441\n",
       "33         대학교(전체) -0.096042  0.096042\n",
       "34        운영점포영업개월 -0.090318  0.090318\n",
       "35            일반대학 -0.076722  0.076722"
      ]
     },
     "execution_count": 6,
     "metadata": {},
     "output_type": "execute_result"
    }
   ],
   "source": [
    "### 상관계수\n",
    "# 각 변수들과 업소 수 간의 상관관계 파악\n",
    "\n",
    "bunsik_corr = pd.DataFrame(bunsik.corr().iloc[0,1:])\n",
    "bunsik_corr['절댓값'] = bunsik_corr.abs() # 상관계수 절댓값\n",
    "bunsik_corr = bunsik_corr.sort_values(by = '절댓값',ascending = False).reset_index(drop = False)\n",
    "bunsik_corr.columns = ['변수','상관계수','절댓값']\n",
    "bunsik_corr"
   ]
  },
  {
   "cell_type": "markdown",
   "id": "faf384c0",
   "metadata": {},
   "source": [
    "### **1-1. 변수 선택**\n",
    "- 각 데이터셋에서 상관계수가 높은 변수들을 적정 개수만큼 선택\n",
    "- 상위 10개 변수 선택\n",
    "    - 생활인구: 2개\n",
    "    - 대학정보: 1개\n",
    "    - 초중고학교정보: 2개\n",
    "    - 소득정보: 1개\n",
    "    - 상권변화지표: 1개\n",
    "    - 주민등록인구: 2개\n",
    "    - 지하철: 1개"
   ]
  },
  {
   "cell_type": "code",
   "execution_count": 7,
   "id": "58c82152",
   "metadata": {},
   "outputs": [
    {
     "data": {
      "text/plain": [
       "['40~50대 생활인구_평일',\n",
       " '총생활인구수_평일',\n",
       " '평균소득금액',\n",
       " '10대',\n",
       " '역(전체)',\n",
       " '고등학교',\n",
       " '초중고(전체)',\n",
       " '총인구',\n",
       " '폐업점포영업개월',\n",
       " '대학교(전체)']"
      ]
     },
     "execution_count": 7,
     "metadata": {},
     "output_type": "execute_result"
    }
   ],
   "source": [
    "bunsik_variables = list(bunsik_corr.iloc[[0,1,6,12,15,16,20,22,30,33]]['변수'])\n",
    "bunsik_variables"
   ]
  },
  {
   "cell_type": "code",
   "execution_count": 8,
   "id": "463e7567",
   "metadata": {
    "scrolled": false
   },
   "outputs": [
    {
     "data": {
      "text/html": [
       "<div>\n",
       "<style scoped>\n",
       "    .dataframe tbody tr th:only-of-type {\n",
       "        vertical-align: middle;\n",
       "    }\n",
       "\n",
       "    .dataframe tbody tr th {\n",
       "        vertical-align: top;\n",
       "    }\n",
       "\n",
       "    .dataframe thead th {\n",
       "        text-align: right;\n",
       "    }\n",
       "</style>\n",
       "<table border=\"1\" class=\"dataframe\">\n",
       "  <thead>\n",
       "    <tr style=\"text-align: right;\">\n",
       "      <th></th>\n",
       "      <th>행정구</th>\n",
       "      <th>분식</th>\n",
       "      <th>총생활인구수_평일</th>\n",
       "      <th>40~50대 생활인구_평일</th>\n",
       "      <th>대학교(전체)</th>\n",
       "      <th>초중고(전체)</th>\n",
       "      <th>고등학교</th>\n",
       "      <th>평균소득금액</th>\n",
       "      <th>폐업점포영업개월</th>\n",
       "      <th>10대</th>\n",
       "      <th>총인구</th>\n",
       "      <th>역(전체)</th>\n",
       "    </tr>\n",
       "  </thead>\n",
       "  <tbody>\n",
       "    <tr>\n",
       "      <th>0</th>\n",
       "      <td>강남구</td>\n",
       "      <td>751</td>\n",
       "      <td>2.049828e+07</td>\n",
       "      <td>6.772562e+06</td>\n",
       "      <td>1</td>\n",
       "      <td>76</td>\n",
       "      <td>22</td>\n",
       "      <td>12484.671288</td>\n",
       "      <td>51</td>\n",
       "      <td>60155</td>\n",
       "      <td>534988</td>\n",
       "      <td>33</td>\n",
       "    </tr>\n",
       "    <tr>\n",
       "      <th>1</th>\n",
       "      <td>강동구</td>\n",
       "      <td>439</td>\n",
       "      <td>1.181135e+07</td>\n",
       "      <td>3.721769e+06</td>\n",
       "      <td>0</td>\n",
       "      <td>60</td>\n",
       "      <td>14</td>\n",
       "      <td>6100.191842</td>\n",
       "      <td>52</td>\n",
       "      <td>39020</td>\n",
       "      <td>464490</td>\n",
       "      <td>12</td>\n",
       "    </tr>\n",
       "    <tr>\n",
       "      <th>2</th>\n",
       "      <td>강북구</td>\n",
       "      <td>312</td>\n",
       "      <td>6.666287e+06</td>\n",
       "      <td>2.060718e+06</td>\n",
       "      <td>1</td>\n",
       "      <td>34</td>\n",
       "      <td>7</td>\n",
       "      <td>3581.261923</td>\n",
       "      <td>52</td>\n",
       "      <td>20362</td>\n",
       "      <td>298622</td>\n",
       "      <td>11</td>\n",
       "    </tr>\n",
       "    <tr>\n",
       "      <th>3</th>\n",
       "      <td>강서구</td>\n",
       "      <td>519</td>\n",
       "      <td>1.285747e+07</td>\n",
       "      <td>3.929851e+06</td>\n",
       "      <td>2</td>\n",
       "      <td>80</td>\n",
       "      <td>23</td>\n",
       "      <td>5034.876000</td>\n",
       "      <td>52</td>\n",
       "      <td>43165</td>\n",
       "      <td>575813</td>\n",
       "      <td>23</td>\n",
       "    </tr>\n",
       "    <tr>\n",
       "      <th>4</th>\n",
       "      <td>관악구</td>\n",
       "      <td>417</td>\n",
       "      <td>1.093507e+07</td>\n",
       "      <td>2.941770e+06</td>\n",
       "      <td>1</td>\n",
       "      <td>55</td>\n",
       "      <td>17</td>\n",
       "      <td>5369.149682</td>\n",
       "      <td>54</td>\n",
       "      <td>27057</td>\n",
       "      <td>500750</td>\n",
       "      <td>9</td>\n",
       "    </tr>\n",
       "  </tbody>\n",
       "</table>\n",
       "</div>"
      ],
      "text/plain": [
       "   행정구   분식     총생활인구수_평일  40~50대 생활인구_평일  대학교(전체)  초중고(전체)  고등학교  \\\n",
       "0  강남구  751  2.049828e+07    6.772562e+06        1       76    22   \n",
       "1  강동구  439  1.181135e+07    3.721769e+06        0       60    14   \n",
       "2  강북구  312  6.666287e+06    2.060718e+06        1       34     7   \n",
       "3  강서구  519  1.285747e+07    3.929851e+06        2       80    23   \n",
       "4  관악구  417  1.093507e+07    2.941770e+06        1       55    17   \n",
       "\n",
       "         평균소득금액  폐업점포영업개월    10대     총인구  역(전체)  \n",
       "0  12484.671288        51  60155  534988     33  \n",
       "1   6100.191842        52  39020  464490     12  \n",
       "2   3581.261923        52  20362  298622     11  \n",
       "3   5034.876000        52  43165  575813     23  \n",
       "4   5369.149682        54  27057  500750      9  "
      ]
     },
     "execution_count": 8,
     "metadata": {},
     "output_type": "execute_result"
    }
   ],
   "source": [
    "### 군집분석에 활용할 데이터 가공\n",
    "\n",
    "df2 = bunsik.iloc[:, (i for i,x in enumerate(bunsik.columns) if x in bunsik_variables)]\n",
    "df_bunsik = pd.concat([bunsik.iloc[:,0:2],df2],axis = 1)\n",
    "df_bunsik.head()"
   ]
  },
  {
   "cell_type": "markdown",
   "id": "434de6c7",
   "metadata": {},
   "source": [
    "### **1-2. 데이터 분포 확인**\n",
    "- 히스토그램을 통해 각 칼럼의 값 분포도 확인"
   ]
  },
  {
   "cell_type": "markdown",
   "id": "c8746f4a",
   "metadata": {},
   "source": [
    "#### **a) 생활인구 데이터**"
   ]
  },
  {
   "cell_type": "code",
   "execution_count": 9,
   "id": "b2337ef4",
   "metadata": {},
   "outputs": [
    {
     "data": {
      "text/plain": [
       "(array([4., 4., 6., 4., 4., 1., 0., 0., 1., 1.]),\n",
       " array([ 5400775.3084 ,  6910525.30335,  8420275.2983 ,  9930025.29325,\n",
       "        11439775.2882 , 12949525.28315, 14459275.2781 , 15969025.27305,\n",
       "        17478775.268  , 18988525.26295, 20498275.2579 ]),\n",
       " <BarContainer object of 10 artists>)"
      ]
     },
     "execution_count": 9,
     "metadata": {},
     "output_type": "execute_result"
    },
    {
     "data": {
      "image/png": "[encoded data removed]",
      "text/plain": [
       "<Figure size 1200x400 with 2 Axes>"
      ]
     },
     "metadata": {},
     "output_type": "display_data"
    }
   ],
   "source": [
    "fig,(ax1,ax2) = plt.subplots(figsize = (12,4),nrows = 1,ncols = 2)\n",
    "ax1.set_title('40~50대 생활인구_평일')\n",
    "ax1.hist(df_bunsik['40~50대 생활인구_평일'])\n",
    "\n",
    "ax2.set_title('총생활인구수_평일')\n",
    "ax2.hist(df_bunsik['총생활인구수_평일'])"
   ]
  },
  {
   "cell_type": "markdown",
   "id": "db35303b",
   "metadata": {},
   "source": [
    "    - 왜곡된 데이터 값 분포도를 가지고 있다.\n",
    "    - 특정 범위에 값이 몰려 있어서 왜곡 정도가 매우 심하다."
   ]
  },
  {
   "cell_type": "markdown",
   "id": "8e0e8876",
   "metadata": {},
   "source": [
    "#### **b) 대학정보**"
   ]
  },
  {
   "cell_type": "code",
   "execution_count": 10,
   "id": "441999bd",
   "metadata": {},
   "outputs": [
    {
     "data": {
      "text/plain": [
       "(array([4., 7., 4., 5., 0., 2., 0., 2., 0., 1.]),\n",
       " array([0. , 0.9, 1.8, 2.7, 3.6, 4.5, 5.4, 6.3, 7.2, 8.1, 9. ]),\n",
       " <BarContainer object of 10 artists>)"
      ]
     },
     "execution_count": 10,
     "metadata": {},
     "output_type": "execute_result"
    },
    {
     "data": {
      "image/png": "[encoded data removed]",
      "text/plain": [
       "<Figure size 600x400 with 1 Axes>"
      ]
     },
     "metadata": {},
     "output_type": "display_data"
    }
   ],
   "source": [
    "fig = plt.figure(figsize = (6,4))\n",
    "plt.title('대학교(전체)')\n",
    "plt.xticks(np.arange(0,10))\n",
    "plt.hist(df_bunsik['대학교(전체)'])"
   ]
  },
  {
   "cell_type": "markdown",
   "id": "1ca68df9",
   "metadata": {},
   "source": [
    "    - 특정 범위에 값이 몰려 있어서 왜곡 정도가 매우 심하다."
   ]
  },
  {
   "cell_type": "markdown",
   "id": "591de9dc",
   "metadata": {},
   "source": [
    "#### **c) 초중고학교정보**"
   ]
  },
  {
   "cell_type": "code",
   "execution_count": 11,
   "id": "19cd8d85",
   "metadata": {},
   "outputs": [
    {
     "data": {
      "text/plain": [
       "(array([4., 3., 7., 1., 4., 1., 2., 0., 2., 1.]),\n",
       " array([ 6. ,  7.9,  9.8, 11.7, 13.6, 15.5, 17.4, 19.3, 21.2, 23.1, 25. ]),\n",
       " <BarContainer object of 10 artists>)"
      ]
     },
     "execution_count": 11,
     "metadata": {},
     "output_type": "execute_result"
    },
    {
     "data": {
      "image/png": "[encoded data removed]",
      "text/plain": [
       "<Figure size 1200x400 with 2 Axes>"
      ]
     },
     "metadata": {},
     "output_type": "display_data"
    }
   ],
   "source": [
    "fig,(ax1,ax2) = plt.subplots(figsize = (12,4),nrows = 1,ncols = 2)\n",
    "ax1.set_title('초중고(전체)')\n",
    "ax1.hist(df_bunsik['초중고(전체)'])\n",
    "\n",
    "ax2.set_title('고등학교')\n",
    "ax2.hist(df_bunsik['고등학교'])"
   ]
  },
  {
   "cell_type": "markdown",
   "id": "529e99b3",
   "metadata": {},
   "source": [
    "    - 초중고등학교 전체 개수에 대한 데이터는 왜곡된 분포를 띄고 있다.\n",
    "    - 고등학교 개수 데이터는 왜곡된 분포를 띄고 있다."
   ]
  },
  {
   "cell_type": "markdown",
   "id": "273108ee",
   "metadata": {},
   "source": [
    "#### **d) 소득정보**"
   ]
  },
  {
   "cell_type": "code",
   "execution_count": 12,
   "id": "237c2068",
   "metadata": {},
   "outputs": [
    {
     "data": {
      "text/plain": [
       "(array([10.,  7.,  5.,  0.,  1.,  0.,  0.,  1.,  0.,  1.]),\n",
       " array([ 3581.26192308,  4471.60285954,  5361.94379601,  6252.28473247,\n",
       "         7142.62566894,  8032.9666054 ,  8923.30754187,  9813.64847833,\n",
       "        10703.9894148 , 11594.33035126, 12484.67128773]),\n",
       " <BarContainer object of 10 artists>)"
      ]
     },
     "execution_count": 12,
     "metadata": {},
     "output_type": "execute_result"
    },
    {
     "data": {
      "image/png": "[encoded data removed]",
      "text/plain": [
       "<Figure size 600x400 with 1 Axes>"
      ]
     },
     "metadata": {},
     "output_type": "display_data"
    }
   ],
   "source": [
    "fig = plt.figure(figsize = (6,4))\n",
    "plt.title('평균소득금액')\n",
    "plt.hist(df_bunsik['평균소득금액'])"
   ]
  },
  {
   "cell_type": "markdown",
   "id": "bf82006a",
   "metadata": {},
   "source": [
    "    - 왜곡된 데이터 분포를 보인다."
   ]
  },
  {
   "cell_type": "markdown",
   "id": "32a6ac46",
   "metadata": {},
   "source": [
    "#### **e) 상권변화지표**"
   ]
  },
  {
   "cell_type": "code",
   "execution_count": 13,
   "id": "ec89cc99",
   "metadata": {},
   "outputs": [
    {
     "data": {
      "text/plain": [
       "(array([6., 3., 6., 2., 2., 4., 0., 0., 0., 2.]),\n",
       " array([51. , 52.5, 54. , 55.5, 57. , 58.5, 60. , 61.5, 63. , 64.5, 66. ]),\n",
       " <BarContainer object of 10 artists>)"
      ]
     },
     "execution_count": 13,
     "metadata": {},
     "output_type": "execute_result"
    },
    {
     "data": {
      "image/png": "[encoded data removed]",
      "text/plain": [
       "<Figure size 600x400 with 1 Axes>"
      ]
     },
     "metadata": {},
     "output_type": "display_data"
    }
   ],
   "source": [
    "fig = plt.figure(figsize = (6,4))\n",
    "plt.title('폐업점포영업개월')\n",
    "plt.hist(df_bunsik['폐업점포영업개월'])"
   ]
  },
  {
   "cell_type": "markdown",
   "id": "2c1e5a2c",
   "metadata": {},
   "source": [
    "    - 왜곡된 데이터 분포를 가지고 있다."
   ]
  },
  {
   "cell_type": "markdown",
   "id": "5ad4dc1f",
   "metadata": {},
   "source": [
    "#### **f) 주민등록인구**"
   ]
  },
  {
   "cell_type": "code",
   "execution_count": 14,
   "id": "d185685c",
   "metadata": {},
   "outputs": [
    {
     "data": {
      "text/plain": [
       "(array([2., 1., 2., 3., 5., 5., 3., 2., 1., 1.]),\n",
       " array([130764. , 184272.3, 237780.6, 291288.9, 344797.2, 398305.5,\n",
       "        451813.8, 505322.1, 558830.4, 612338.7, 665847. ]),\n",
       " <BarContainer object of 10 artists>)"
      ]
     },
     "execution_count": 14,
     "metadata": {},
     "output_type": "execute_result"
    },
    {
     "data": {
      "image/png": "[encoded data removed]",
      "text/plain": [
       "<Figure size 1200x400 with 2 Axes>"
      ]
     },
     "metadata": {},
     "output_type": "display_data"
    }
   ],
   "source": [
    "fig,(ax1,ax2) = plt.subplots(figsize = (12,4),nrows = 1,ncols = 2)\n",
    "ax1.set_title('10대')\n",
    "ax1.hist(df_bunsik['10대'])\n",
    "\n",
    "ax2.set_title('총인구')\n",
    "ax2.hist(df_bunsik['총인구'])"
   ]
  },
  {
   "cell_type": "markdown",
   "id": "1c1fe8f8",
   "metadata": {},
   "source": [
    "    - 총인구 데이터는 상당히 고른 데이터 분포를 보인다.\n",
    "    - 10대 인구 데이터는 왜곡된 분포를 보인다."
   ]
  },
  {
   "cell_type": "markdown",
   "id": "19725141",
   "metadata": {},
   "source": [
    "#### **g) 지하철**"
   ]
  },
  {
   "cell_type": "code",
   "execution_count": 15,
   "id": "214deadb",
   "metadata": {},
   "outputs": [
    {
     "data": {
      "text/plain": [
       "(array([2., 3., 3., 5., 2., 5., 3., 1., 0., 1.]),\n",
       " array([ 4. ,  6.9,  9.8, 12.7, 15.6, 18.5, 21.4, 24.3, 27.2, 30.1, 33. ]),\n",
       " <BarContainer object of 10 artists>)"
      ]
     },
     "execution_count": 15,
     "metadata": {},
     "output_type": "execute_result"
    },
    {
     "data": {
      "image/png": "[encoded data removed]",
      "text/plain": [
       "<Figure size 600x400 with 1 Axes>"
      ]
     },
     "metadata": {},
     "output_type": "display_data"
    }
   ],
   "source": [
    "fig = plt.figure(figsize = (6,4))\n",
    "plt.title('역(전체)')\n",
    "plt.hist(df_bunsik['역(전체)'])"
   ]
  },
  {
   "cell_type": "markdown",
   "id": "6e4cafd1",
   "metadata": {},
   "source": [
    "    - 왜곡된 데이터 분포를 가지고 있다."
   ]
  },
  {
   "cell_type": "markdown",
   "id": "71ffaf71",
   "metadata": {},
   "source": [
    "### **1-3. 데이터 세트의 왜곡 정도 낮추기**\n",
    "- Scipy의 stats 모듈의 **skew()** 함수를 이용해 추출\n",
    "- 반환 값이 1 이상인 경우 왜곡 정도가 높다고 판단\n",
    "    - 상황에 따라 편차는 존재함\n",
    "    - 1 이상의 값을 반환하는 피처만 추출해 왜곡 정도를 완화하기 위해 **로그 변환**을 적용"
   ]
  },
  {
   "cell_type": "code",
   "execution_count": 16,
   "id": "8e0d0493",
   "metadata": {},
   "outputs": [
    {
     "name": "stdout",
     "output_type": "stream",
     "text": [
      "전체 왜곡 정도: 1.064868\n",
      "\n",
      "평균소득금액            2.257700\n",
      "40~50대 생활인구_평일    1.631611\n",
      "분식                1.413682\n",
      "총생활인구수_평일         1.388110\n",
      "폐업점포영업개월          1.224739\n",
      "대학교(전체)           1.211515\n",
      "dtype: float64\n"
     ]
    }
   ],
   "source": [
    "### 데이터 왜곡 정도 확인\n",
    "# 왜곡 정도가 1 이상인 컬럼들만 추출\n",
    "\n",
    "from scipy.stats import skew\n",
    "\n",
    "features_idx = df_bunsik.dtypes[df_bunsik.dtypes != 'object'].index\n",
    "skew_features = df_bunsik[features_idx].apply(lambda x:skew(x))\n",
    "print('전체 왜곡 정도: %f' %skew_features.mean())\n",
    "\n",
    "skew_features_top = skew_features[skew_features > 1]\n",
    "print()\n",
    "print(skew_features_top.sort_values(ascending = False))"
   ]
  },
  {
   "cell_type": "code",
   "execution_count": 17,
   "id": "b9218b82",
   "metadata": {},
   "outputs": [
    {
     "data": {
      "text/html": [
       "<div>\n",
       "<style scoped>\n",
       "    .dataframe tbody tr th:only-of-type {\n",
       "        vertical-align: middle;\n",
       "    }\n",
       "\n",
       "    .dataframe tbody tr th {\n",
       "        vertical-align: top;\n",
       "    }\n",
       "\n",
       "    .dataframe thead th {\n",
       "        text-align: right;\n",
       "    }\n",
       "</style>\n",
       "<table border=\"1\" class=\"dataframe\">\n",
       "  <thead>\n",
       "    <tr style=\"text-align: right;\">\n",
       "      <th></th>\n",
       "      <th>행정구</th>\n",
       "      <th>분식</th>\n",
       "      <th>총생활인구수_평일</th>\n",
       "      <th>40~50대 생활인구_평일</th>\n",
       "      <th>대학교(전체)</th>\n",
       "      <th>초중고(전체)</th>\n",
       "      <th>고등학교</th>\n",
       "      <th>평균소득금액</th>\n",
       "      <th>폐업점포영업개월</th>\n",
       "      <th>10대</th>\n",
       "      <th>총인구</th>\n",
       "      <th>역(전체)</th>\n",
       "    </tr>\n",
       "  </thead>\n",
       "  <tbody>\n",
       "    <tr>\n",
       "      <th>0</th>\n",
       "      <td>강남구</td>\n",
       "      <td>6.622736</td>\n",
       "      <td>16.835851</td>\n",
       "      <td>15.728390</td>\n",
       "      <td>0.693147</td>\n",
       "      <td>76</td>\n",
       "      <td>22</td>\n",
       "      <td>9.432337</td>\n",
       "      <td>3.951244</td>\n",
       "      <td>60155</td>\n",
       "      <td>534988</td>\n",
       "      <td>33</td>\n",
       "    </tr>\n",
       "    <tr>\n",
       "      <th>1</th>\n",
       "      <td>강동구</td>\n",
       "      <td>6.086775</td>\n",
       "      <td>16.284571</td>\n",
       "      <td>15.129710</td>\n",
       "      <td>0.000000</td>\n",
       "      <td>60</td>\n",
       "      <td>14</td>\n",
       "      <td>8.716239</td>\n",
       "      <td>3.970292</td>\n",
       "      <td>39020</td>\n",
       "      <td>464490</td>\n",
       "      <td>12</td>\n",
       "    </tr>\n",
       "    <tr>\n",
       "      <th>2</th>\n",
       "      <td>강북구</td>\n",
       "      <td>5.746203</td>\n",
       "      <td>15.712574</td>\n",
       "      <td>14.538566</td>\n",
       "      <td>0.693147</td>\n",
       "      <td>34</td>\n",
       "      <td>7</td>\n",
       "      <td>8.183750</td>\n",
       "      <td>3.970292</td>\n",
       "      <td>20362</td>\n",
       "      <td>298622</td>\n",
       "      <td>11</td>\n",
       "    </tr>\n",
       "    <tr>\n",
       "      <th>3</th>\n",
       "      <td>강서구</td>\n",
       "      <td>6.253829</td>\n",
       "      <td>16.369436</td>\n",
       "      <td>15.184112</td>\n",
       "      <td>1.098612</td>\n",
       "      <td>80</td>\n",
       "      <td>23</td>\n",
       "      <td>8.524343</td>\n",
       "      <td>3.970292</td>\n",
       "      <td>43165</td>\n",
       "      <td>575813</td>\n",
       "      <td>23</td>\n",
       "    </tr>\n",
       "    <tr>\n",
       "      <th>4</th>\n",
       "      <td>관악구</td>\n",
       "      <td>6.035481</td>\n",
       "      <td>16.207485</td>\n",
       "      <td>14.894522</td>\n",
       "      <td>0.693147</td>\n",
       "      <td>55</td>\n",
       "      <td>17</td>\n",
       "      <td>8.588611</td>\n",
       "      <td>4.007333</td>\n",
       "      <td>27057</td>\n",
       "      <td>500750</td>\n",
       "      <td>9</td>\n",
       "    </tr>\n",
       "  </tbody>\n",
       "</table>\n",
       "</div>"
      ],
      "text/plain": [
       "   행정구        분식  총생활인구수_평일  40~50대 생활인구_평일   대학교(전체)  초중고(전체)  고등학교  \\\n",
       "0  강남구  6.622736  16.835851       15.728390  0.693147       76    22   \n",
       "1  강동구  6.086775  16.284571       15.129710  0.000000       60    14   \n",
       "2  강북구  5.746203  15.712574       14.538566  0.693147       34     7   \n",
       "3  강서구  6.253829  16.369436       15.184112  1.098612       80    23   \n",
       "4  관악구  6.035481  16.207485       14.894522  0.693147       55    17   \n",
       "\n",
       "     평균소득금액  폐업점포영업개월    10대     총인구  역(전체)  \n",
       "0  9.432337  3.951244  60155  534988     33  \n",
       "1  8.716239  3.970292  39020  464490     12  \n",
       "2  8.183750  3.970292  20362  298622     11  \n",
       "3  8.524343  3.970292  43165  575813     23  \n",
       "4  8.588611  4.007333  27057  500750      9  "
      ]
     },
     "execution_count": 17,
     "metadata": {},
     "output_type": "execute_result"
    }
   ],
   "source": [
    "### 로그 변환 적용\n",
    "# 데이터를 변환하기 위해서는 데이터가 양수여야 함\n",
    "# 따라서, 모든 데이터에 1을 더해준 후 로그 변환 수행\n",
    "\n",
    "skewed = list(skew_features_top.index)\n",
    "\n",
    "for ftr in skewed:\n",
    "    df_bunsik[ftr] = np.log1p(df_bunsik[ftr])\n",
    "\n",
    "df_bunsik.head()"
   ]
  },
  {
   "cell_type": "markdown",
   "id": "70b1d520",
   "metadata": {},
   "source": [
    "- 데이터가 제대로 로그 변환 되었음을 확인할 수 있다."
   ]
  },
  {
   "cell_type": "code",
   "execution_count": 18,
   "id": "214d503f",
   "metadata": {},
   "outputs": [
    {
     "name": "stdout",
     "output_type": "stream",
     "text": [
      "전체 왜곡 정도: 0.646866\n"
     ]
    }
   ],
   "source": [
    "### 데이터 왜곡 정도 재확인\n",
    "\n",
    "features_idx = df_bunsik.dtypes[df_bunsik.dtypes != 'object'].index\n",
    "skew_features = df_bunsik[features_idx].apply(lambda x:skew(x))\n",
    "print('전체 왜곡 정도: %f' %skew_features.mean())"
   ]
  },
  {
   "cell_type": "markdown",
   "id": "f6a8fcd0",
   "metadata": {},
   "source": [
    "- 데이터의 왜곡 정도가 1.064868에서 0.646866로 완화됨"
   ]
  },
  {
   "cell_type": "markdown",
   "id": "0b592c7c",
   "metadata": {},
   "source": [
    "### **1-4. 스케일 조정**\n",
    "- 데이터의 패턴이 결과에 직접적으로 영향을 미치는 비지도학습의 경우 데이터 스케일링이 선행되는 것이 권장된다.\n",
    "- 피처 스케일링 방법 중 '표준화' 진행\n",
    "    - StandardScaler로 평균과 표준편차를 재조정"
   ]
  },
  {
   "cell_type": "code",
   "execution_count": 19,
   "id": "6a5b5a41",
   "metadata": {},
   "outputs": [
    {
     "data": {
      "text/html": [
       "<div>\n",
       "<style scoped>\n",
       "    .dataframe tbody tr th:only-of-type {\n",
       "        vertical-align: middle;\n",
       "    }\n",
       "\n",
       "    .dataframe tbody tr th {\n",
       "        vertical-align: top;\n",
       "    }\n",
       "\n",
       "    .dataframe thead th {\n",
       "        text-align: right;\n",
       "    }\n",
       "</style>\n",
       "<table border=\"1\" class=\"dataframe\">\n",
       "  <thead>\n",
       "    <tr style=\"text-align: right;\">\n",
       "      <th></th>\n",
       "      <th>행정구</th>\n",
       "      <th>분식</th>\n",
       "      <th>총생활인구수_평일</th>\n",
       "      <th>40~50대 생활인구_평일</th>\n",
       "      <th>대학교(전체)</th>\n",
       "      <th>초중고(전체)</th>\n",
       "      <th>고등학교</th>\n",
       "      <th>평균소득금액</th>\n",
       "      <th>폐업점포영업개월</th>\n",
       "      <th>10대</th>\n",
       "      <th>총인구</th>\n",
       "      <th>역(전체)</th>\n",
       "    </tr>\n",
       "  </thead>\n",
       "  <tbody>\n",
       "    <tr>\n",
       "      <th>0</th>\n",
       "      <td>강남구</td>\n",
       "      <td>2.705121</td>\n",
       "      <td>2.478028</td>\n",
       "      <td>2.619554</td>\n",
       "      <td>-0.544698</td>\n",
       "      <td>1.379286</td>\n",
       "      <td>1.782464</td>\n",
       "      <td>2.987365</td>\n",
       "      <td>-1.262784</td>\n",
       "      <td>2.137795</td>\n",
       "      <td>1.198274</td>\n",
       "      <td>2.580687</td>\n",
       "    </tr>\n",
       "    <tr>\n",
       "      <th>1</th>\n",
       "      <td>강동구</td>\n",
       "      <td>0.528200</td>\n",
       "      <td>0.688516</td>\n",
       "      <td>0.709173</td>\n",
       "      <td>-1.605932</td>\n",
       "      <td>0.437794</td>\n",
       "      <td>0.232495</td>\n",
       "      <td>0.630396</td>\n",
       "      <td>-0.971493</td>\n",
       "      <td>0.615839</td>\n",
       "      <td>0.626343</td>\n",
       "      <td>-0.577496</td>\n",
       "    </tr>\n",
       "    <tr>\n",
       "      <th>2</th>\n",
       "      <td>강북구</td>\n",
       "      <td>-0.855104</td>\n",
       "      <td>-1.168249</td>\n",
       "      <td>-1.177162</td>\n",
       "      <td>-0.544698</td>\n",
       "      <td>-1.092131</td>\n",
       "      <td>-1.123727</td>\n",
       "      <td>-1.122244</td>\n",
       "      <td>-0.971493</td>\n",
       "      <td>-0.727745</td>\n",
       "      <td>-0.719299</td>\n",
       "      <td>-0.727886</td>\n",
       "    </tr>\n",
       "  </tbody>\n",
       "</table>\n",
       "</div>"
      ],
      "text/plain": [
       "   행정구        분식  총생활인구수_평일  40~50대 생활인구_평일   대학교(전체)   초중고(전체)      고등학교  \\\n",
       "0  강남구  2.705121   2.478028        2.619554 -0.544698  1.379286  1.782464   \n",
       "1  강동구  0.528200   0.688516        0.709173 -1.605932  0.437794  0.232495   \n",
       "2  강북구 -0.855104  -1.168249       -1.177162 -0.544698 -1.092131 -1.123727   \n",
       "\n",
       "     평균소득금액  폐업점포영업개월       10대       총인구     역(전체)  \n",
       "0  2.987365 -1.262784  2.137795  1.198274  2.580687  \n",
       "1  0.630396 -0.971493  0.615839  0.626343 -0.577496  \n",
       "2 -1.122244 -0.971493 -0.727745 -0.719299 -0.727886  "
      ]
     },
     "execution_count": 19,
     "metadata": {},
     "output_type": "execute_result"
    }
   ],
   "source": [
    "### 데이터 스케일링\n",
    "\n",
    "from sklearn.preprocessing import StandardScaler\n",
    "\n",
    "feature_df = df_bunsik.iloc[:,1:] # feature data\n",
    "\n",
    "# 표준화\n",
    "scaler = StandardScaler()\n",
    "bunsik_std = pd.DataFrame(scaler.fit_transform(feature_df),columns = feature_df.columns)\n",
    "\n",
    "# 결과 확인을 위해 행정구 컬럼 결합\n",
    "bunsik_std = pd.concat([pd.DataFrame(df_bunsik[['행정구']]),bunsik_std],axis = 1)\n",
    "bunsik_std.head(3) # 표준화된 데이터 확인"
   ]
  },
  {
   "cell_type": "markdown",
   "id": "631914d0",
   "metadata": {},
   "source": [
    "- 제대로 변환된 것을 확인할 수 있다."
   ]
  },
  {
   "cell_type": "markdown",
   "id": "3cd222d5",
   "metadata": {},
   "source": [
    "# **2. K-Means 군집화**"
   ]
  },
  {
   "cell_type": "code",
   "execution_count": 20,
   "id": "8624d034",
   "metadata": {},
   "outputs": [],
   "source": [
    "from sklearn.cluster import KMeans"
   ]
  },
  {
   "cell_type": "markdown",
   "id": "e4146b88",
   "metadata": {},
   "source": [
    "### **2-1. 군집 개수 정하기**"
   ]
  },
  {
   "cell_type": "code",
   "execution_count": 21,
   "id": "b39995be",
   "metadata": {},
   "outputs": [
    {
     "data": {
      "image/png": "[encoded data removed]",
      "text/plain": [
       "<Figure size 1000x500 with 1 Axes>"
      ]
     },
     "metadata": {},
     "output_type": "display_data"
    }
   ],
   "source": [
    "### Inertia, Elbow 구하기\n",
    "\n",
    "# 중심점 - 데이터 거리를 합산한 inertia(sse)를 빈 array로 생성\n",
    "sse = []\n",
    "\n",
    "# 반복문을 실행하며 군집 개수 1~10까지 kmeans를 실행 => sse array에 추가\n",
    "for i in range(1, 11) :\n",
    "    km = KMeans(n_clusters = i, # 군집화 할 개수\n",
    "               init = 'k-means++', # 초기에 군집 중심점의 좌표를 설정할 방식\n",
    "               n_init = 10,\n",
    "               max_iter = 300, # 최대 반복 횟수\n",
    "               random_state = 0)\n",
    "    km.fit(bunsik_std.iloc[:,1:]) # '행정구' 컬럼 제거\n",
    "    sse.append(km.inertia_)\n",
    "\n",
    "# sse array 시각화   \n",
    "plt.figure(figsize = (10,5))\n",
    "plt.title('Elbow 곡선')\n",
    "plt.plot(range(1,11), sse, marker = 'o')\n",
    "plt.xlabel('군집 수',fontsize = 15)\n",
    "plt.ylabel('SSE', fontsize = 15)\n",
    "plt.tight_layout()\n",
    "plt.grid()\n",
    "plt.show()"
   ]
  },
  {
   "cell_type": "markdown",
   "id": "3c3e44b8",
   "metadata": {},
   "source": [
    "- **k = 3**일 때 급격한 거리의 변화가 일어난 것으로 보아 클러스터 수로 **3개**가 적절해 보인다."
   ]
  },
  {
   "cell_type": "markdown",
   "id": "6625db26",
   "metadata": {},
   "source": [
    "### **2-2. K-Means 군집화 수행**"
   ]
  },
  {
   "cell_type": "code",
   "execution_count": 22,
   "id": "155c8d4f",
   "metadata": {},
   "outputs": [
    {
     "data": {
      "text/plain": [
       "KMeans(n_clusters=3, random_state=0)"
      ]
     },
     "execution_count": 22,
     "metadata": {},
     "output_type": "execute_result"
    }
   ],
   "source": [
    "### 데이터를 3개의 그룹으로 군집화\n",
    "# 군집화 시 행정구,행정동 컬럼은 필요 없으므로 제외\n",
    "\n",
    "kmeans = KMeans(\n",
    "    n_clusters = 3, \n",
    "    init = 'k-means++', \n",
    "    max_iter = 300, \n",
    "    random_state = 0)\n",
    "kmeans.fit(bunsik_std.iloc[:,1:])"
   ]
  },
  {
   "cell_type": "code",
   "execution_count": 23,
   "id": "c3c52119",
   "metadata": {},
   "outputs": [
    {
     "name": "stdout",
     "output_type": "stream",
     "text": [
      "[0 2 1 0 2 1 2 1 2 1 1 1 2 1 0 1 2 0 2 2 1 2 1 1 2]\n",
      "\n",
      "25\n"
     ]
    }
   ],
   "source": [
    "### 각 행정구가 어느 군집화 중심에 속하는지 확인\n",
    "\n",
    "bunsik_std['cluster'] = kmeans.labels_ # 군집화 컬럼 추가\n",
    "print(kmeans.labels_)\n",
    "print()\n",
    "print(len(kmeans.labels_))"
   ]
  },
  {
   "cell_type": "code",
   "execution_count": 24,
   "id": "930d905e",
   "metadata": {},
   "outputs": [
    {
     "name": "stdout",
     "output_type": "stream",
     "text": [
      "cluster\n",
      "0     4\n",
      "1    11\n",
      "2    10\n",
      "Name: 행정구, dtype: int64\n"
     ]
    }
   ],
   "source": [
    "### 군집화 결과 확인\n",
    "\n",
    "df_result = bunsik_std.groupby(['cluster'])['행정구'].count()\n",
    "print(df_result)"
   ]
  },
  {
   "cell_type": "code",
   "execution_count": 25,
   "id": "4a2388ca",
   "metadata": {},
   "outputs": [
    {
     "data": {
      "text/html": [
       "<div>\n",
       "<style scoped>\n",
       "    .dataframe tbody tr th:only-of-type {\n",
       "        vertical-align: middle;\n",
       "    }\n",
       "\n",
       "    .dataframe tbody tr th {\n",
       "        vertical-align: top;\n",
       "    }\n",
       "\n",
       "    .dataframe thead th {\n",
       "        text-align: right;\n",
       "    }\n",
       "</style>\n",
       "<table border=\"1\" class=\"dataframe\">\n",
       "  <thead>\n",
       "    <tr style=\"text-align: right;\">\n",
       "      <th></th>\n",
       "      <th>행정구</th>\n",
       "      <th>분식</th>\n",
       "      <th>총생활인구수_평일</th>\n",
       "      <th>40~50대 생활인구_평일</th>\n",
       "      <th>대학교(전체)</th>\n",
       "      <th>초중고(전체)</th>\n",
       "      <th>고등학교</th>\n",
       "      <th>평균소득금액</th>\n",
       "      <th>폐업점포영업개월</th>\n",
       "      <th>10대</th>\n",
       "      <th>총인구</th>\n",
       "      <th>역(전체)</th>\n",
       "      <th>cluster</th>\n",
       "      <th>pca_x</th>\n",
       "      <th>pca_y</th>\n",
       "    </tr>\n",
       "  </thead>\n",
       "  <tbody>\n",
       "    <tr>\n",
       "      <th>0</th>\n",
       "      <td>강남구</td>\n",
       "      <td>2.705121</td>\n",
       "      <td>2.478028</td>\n",
       "      <td>2.619554</td>\n",
       "      <td>-0.544698</td>\n",
       "      <td>1.379286</td>\n",
       "      <td>1.782464</td>\n",
       "      <td>2.987365</td>\n",
       "      <td>-1.262784</td>\n",
       "      <td>2.137795</td>\n",
       "      <td>1.198274</td>\n",
       "      <td>2.580687</td>\n",
       "      <td>0</td>\n",
       "      <td>6.600153</td>\n",
       "      <td>1.569940</td>\n",
       "    </tr>\n",
       "    <tr>\n",
       "      <th>1</th>\n",
       "      <td>강동구</td>\n",
       "      <td>0.528200</td>\n",
       "      <td>0.688516</td>\n",
       "      <td>0.709173</td>\n",
       "      <td>-1.605932</td>\n",
       "      <td>0.437794</td>\n",
       "      <td>0.232495</td>\n",
       "      <td>0.630396</td>\n",
       "      <td>-0.971493</td>\n",
       "      <td>0.615839</td>\n",
       "      <td>0.626343</td>\n",
       "      <td>-0.577496</td>\n",
       "      <td>2</td>\n",
       "      <td>1.612545</td>\n",
       "      <td>-1.141387</td>\n",
       "    </tr>\n",
       "    <tr>\n",
       "      <th>2</th>\n",
       "      <td>강북구</td>\n",
       "      <td>-0.855104</td>\n",
       "      <td>-1.168249</td>\n",
       "      <td>-1.177162</td>\n",
       "      <td>-0.544698</td>\n",
       "      <td>-1.092131</td>\n",
       "      <td>-1.123727</td>\n",
       "      <td>-1.122244</td>\n",
       "      <td>-0.971493</td>\n",
       "      <td>-0.727745</td>\n",
       "      <td>-0.719299</td>\n",
       "      <td>-0.727886</td>\n",
       "      <td>1</td>\n",
       "      <td>-2.641167</td>\n",
       "      <td>-1.257829</td>\n",
       "    </tr>\n",
       "  </tbody>\n",
       "</table>\n",
       "</div>"
      ],
      "text/plain": [
       "   행정구        분식  총생활인구수_평일  40~50대 생활인구_평일   대학교(전체)   초중고(전체)      고등학교  \\\n",
       "0  강남구  2.705121   2.478028        2.619554 -0.544698  1.379286  1.782464   \n",
       "1  강동구  0.528200   0.688516        0.709173 -1.605932  0.437794  0.232495   \n",
       "2  강북구 -0.855104  -1.168249       -1.177162 -0.544698 -1.092131 -1.123727   \n",
       "\n",
       "     평균소득금액  폐업점포영업개월       10대       총인구     역(전체)  cluster     pca_x  \\\n",
       "0  2.987365 -1.262784  2.137795  1.198274  2.580687        0  6.600153   \n",
       "1  0.630396 -0.971493  0.615839  0.626343 -0.577496        2  1.612545   \n",
       "2 -1.122244 -0.971493 -0.727745 -0.719299 -0.727886        1 -2.641167   \n",
       "\n",
       "      pca_y  \n",
       "0  1.569940  \n",
       "1 -1.141387  \n",
       "2 -1.257829  "
      ]
     },
     "execution_count": 25,
     "metadata": {},
     "output_type": "execute_result"
    }
   ],
   "source": [
    "### 차원 축소\n",
    "# 평면에 시각화를 위해 PCA를 통해 속성을 2개로 차원 축소\n",
    "# 이후 X좌표, Y좌표로 개별 데이터를 표현\n",
    "\n",
    "from sklearn.decomposition import PCA\n",
    "\n",
    "pca = PCA(n_components = 2)\n",
    "pca_transformed = pca.fit_transform(bunsik_std.iloc[:,1:-1])\n",
    "\n",
    "bunsik_std['pca_x'] = pca_transformed[:,0]\n",
    "bunsik_std['pca_y'] = pca_transformed[:,1]\n",
    "bunsik_std.head(3)"
   ]
  },
  {
   "cell_type": "code",
   "execution_count": 26,
   "id": "ac39c985",
   "metadata": {},
   "outputs": [
    {
     "name": "stderr",
     "output_type": "stream",
     "text": [
      "c:\\users\\doroc\\appdata\\local\\programs\\python\\python37\\lib\\site-packages\\IPython\\core\\pylabtools.py:151: UserWarning: Glyph 8722 (\\N{MINUS SIGN}) missing from current font.\n",
      "  fig.canvas.print_figure(bytes_io, **kw)\n"
     ]
    },
    {
     "data": {
      "image/png": "[encoded data removed]",
      "text/plain": [
       "<Figure size 1200x800 with 1 Axes>"
      ]
     },
     "metadata": {},
     "output_type": "display_data"
    }
   ],
   "source": [
    "### 군집별 산점도 출력\n",
    "\n",
    "# 군집 값이 0, 1, 2인 경우마다 별도의 인덱스로 추출\n",
    "marker0_ind = bunsik_std[bunsik_std['cluster'] == 0].index\n",
    "marker1_ind = bunsik_std[bunsik_std['cluster'] == 1].index\n",
    "marker2_ind = bunsik_std[bunsik_std['cluster'] == 2].index\n",
    "\n",
    "# 군집 값 0, 1, 2에 해당하는 인덱스로 각 군집 레벨의 pca_x, pca_y 값 추출. 마커 표시\n",
    "plt.figure(figsize = (12,8))\n",
    "\n",
    "plt.scatter(x = bunsik_std.loc[marker0_ind,'pca_x'],y = bunsik_std.loc[marker0_ind,'pca_y'],marker='o')\n",
    "plt.scatter(x = bunsik_std.loc[marker1_ind,'pca_x'],y = bunsik_std.loc[marker1_ind,'pca_y'], marker='s')\n",
    "plt.scatter(x = bunsik_std.loc[marker2_ind,'pca_x'],y = bunsik_std.loc[marker2_ind,'pca_y'], marker='^')\n",
    "\n",
    "plt.legend(['Cluster0','Cluster1','Cluster2'],fontsize = 10)\n",
    "plt.xlabel('PCA 1',size = 15)\n",
    "plt.ylabel('PCA 2',size = 15)\n",
    "plt.title('KMeans 군집화')\n",
    "plt.show()"
   ]
  },
  {
   "cell_type": "code",
   "execution_count": 27,
   "id": "710fe688",
   "metadata": {},
   "outputs": [
    {
     "name": "stdout",
     "output_type": "stream",
     "text": [
      "군집0: ['강남구', '강서구', '서초구', '송파구']\n",
      "\n",
      "군집1: ['강북구', '광진구', '금천구', '도봉구', '동대문구', '동작구', '서대문구', '성동구', '용산구', '종로구', '중구']\n",
      "\n",
      "군집2: ['강동구', '관악구', '구로구', '노원구', '마포구', '성북구', '양천구', '영등포구', '은평구', '중랑구']\n"
     ]
    }
   ],
   "source": [
    "### 각 군집에 해당하는 행정구 확인하기\n",
    "\n",
    "group0 = list(bunsik_std.loc[bunsik_std['cluster'] == 0,'행정구'])\n",
    "print(\"군집0: \"+ str(group0))\n",
    "print()\n",
    "\n",
    "group1 = list(bunsik_std.loc[bunsik_std['cluster'] == 1,'행정구'])\n",
    "print(\"군집1: \"+ str(group1))\n",
    "print()\n",
    "\n",
    "group2 = list(bunsik_std.loc[bunsik_std['cluster'] == 2,'행정구'])\n",
    "print(\"군집2: \"+ str(group2))"
   ]
  },
  {
   "cell_type": "markdown",
   "id": "0d9d5b48",
   "metadata": {},
   "source": [
    "### **2-3. 군집화 평가**"
   ]
  },
  {
   "cell_type": "markdown",
   "id": "cf45f40b",
   "metadata": {},
   "source": [
    "#### **a) 실루엣 계수**"
   ]
  },
  {
   "cell_type": "code",
   "execution_count": 28,
   "id": "df55b3f0",
   "metadata": {},
   "outputs": [],
   "source": [
    "### 실루엣 분석을 위한 API 추가\n",
    "\n",
    "from sklearn.metrics import silhouette_samples, silhouette_score"
   ]
  },
  {
   "cell_type": "code",
   "execution_count": 29,
   "id": "814d3b31",
   "metadata": {},
   "outputs": [
    {
     "name": "stdout",
     "output_type": "stream",
     "text": [
      "silhouette_samples() return 값의 shape (25,)\n"
     ]
    }
   ],
   "source": [
    "### 모든 개별 데이터에 대해 실루엣 계수 값 구하기\n",
    "\n",
    "score_samples = silhouette_samples(bunsik_std.iloc[:,1:-3],bunsik_std['cluster'])\n",
    "print('silhouette_samples() return 값의 shape', score_samples.shape)"
   ]
  },
  {
   "cell_type": "code",
   "execution_count": 30,
   "id": "874f3006",
   "metadata": {},
   "outputs": [
    {
     "name": "stdout",
     "output_type": "stream",
     "text": [
      "실루엣 분석 점수: 0.218\n"
     ]
    }
   ],
   "source": [
    "### 모든 데이터의 평균 실루엣 계수값 구하기\n",
    "\n",
    "average_score = silhouette_score(bunsik_std.iloc[:,1:-3],bunsik_std['cluster'])\n",
    "print(\"실루엣 분석 점수: {0:.3f}\".format(average_score))"
   ]
  },
  {
   "cell_type": "code",
   "execution_count": 31,
   "id": "93d9f460",
   "metadata": {},
   "outputs": [
    {
     "data": {
      "text/html": [
       "<div>\n",
       "<style scoped>\n",
       "    .dataframe tbody tr th:only-of-type {\n",
       "        vertical-align: middle;\n",
       "    }\n",
       "\n",
       "    .dataframe tbody tr th {\n",
       "        vertical-align: top;\n",
       "    }\n",
       "\n",
       "    .dataframe thead th {\n",
       "        text-align: right;\n",
       "    }\n",
       "</style>\n",
       "<table border=\"1\" class=\"dataframe\">\n",
       "  <thead>\n",
       "    <tr style=\"text-align: right;\">\n",
       "      <th></th>\n",
       "      <th>행정구</th>\n",
       "      <th>분식</th>\n",
       "      <th>총생활인구수_평일</th>\n",
       "      <th>40~50대 생활인구_평일</th>\n",
       "      <th>대학교(전체)</th>\n",
       "      <th>초중고(전체)</th>\n",
       "      <th>고등학교</th>\n",
       "      <th>평균소득금액</th>\n",
       "      <th>폐업점포영업개월</th>\n",
       "      <th>10대</th>\n",
       "      <th>총인구</th>\n",
       "      <th>역(전체)</th>\n",
       "      <th>cluster</th>\n",
       "      <th>pca_x</th>\n",
       "      <th>pca_y</th>\n",
       "      <th>silhouette_coef</th>\n",
       "    </tr>\n",
       "  </thead>\n",
       "  <tbody>\n",
       "    <tr>\n",
       "      <th>0</th>\n",
       "      <td>강남구</td>\n",
       "      <td>2.705121</td>\n",
       "      <td>2.478028</td>\n",
       "      <td>2.619554</td>\n",
       "      <td>-0.544698</td>\n",
       "      <td>1.379286</td>\n",
       "      <td>1.782464</td>\n",
       "      <td>2.987365</td>\n",
       "      <td>-1.262784</td>\n",
       "      <td>2.137795</td>\n",
       "      <td>1.198274</td>\n",
       "      <td>2.580687</td>\n",
       "      <td>0</td>\n",
       "      <td>6.600153</td>\n",
       "      <td>1.569940</td>\n",
       "      <td>0.415791</td>\n",
       "    </tr>\n",
       "    <tr>\n",
       "      <th>1</th>\n",
       "      <td>강동구</td>\n",
       "      <td>0.528200</td>\n",
       "      <td>0.688516</td>\n",
       "      <td>0.709173</td>\n",
       "      <td>-1.605932</td>\n",
       "      <td>0.437794</td>\n",
       "      <td>0.232495</td>\n",
       "      <td>0.630396</td>\n",
       "      <td>-0.971493</td>\n",
       "      <td>0.615839</td>\n",
       "      <td>0.626343</td>\n",
       "      <td>-0.577496</td>\n",
       "      <td>2</td>\n",
       "      <td>1.612545</td>\n",
       "      <td>-1.141387</td>\n",
       "      <td>0.300606</td>\n",
       "    </tr>\n",
       "    <tr>\n",
       "      <th>2</th>\n",
       "      <td>강북구</td>\n",
       "      <td>-0.855104</td>\n",
       "      <td>-1.168249</td>\n",
       "      <td>-1.177162</td>\n",
       "      <td>-0.544698</td>\n",
       "      <td>-1.092131</td>\n",
       "      <td>-1.123727</td>\n",
       "      <td>-1.122244</td>\n",
       "      <td>-0.971493</td>\n",
       "      <td>-0.727745</td>\n",
       "      <td>-0.719299</td>\n",
       "      <td>-0.727886</td>\n",
       "      <td>1</td>\n",
       "      <td>-2.641167</td>\n",
       "      <td>-1.257829</td>\n",
       "      <td>0.227405</td>\n",
       "    </tr>\n",
       "  </tbody>\n",
       "</table>\n",
       "</div>"
      ],
      "text/plain": [
       "   행정구        분식  총생활인구수_평일  40~50대 생활인구_평일   대학교(전체)   초중고(전체)      고등학교  \\\n",
       "0  강남구  2.705121   2.478028        2.619554 -0.544698  1.379286  1.782464   \n",
       "1  강동구  0.528200   0.688516        0.709173 -1.605932  0.437794  0.232495   \n",
       "2  강북구 -0.855104  -1.168249       -1.177162 -0.544698 -1.092131 -1.123727   \n",
       "\n",
       "     평균소득금액  폐업점포영업개월       10대       총인구     역(전체)  cluster     pca_x  \\\n",
       "0  2.987365 -1.262784  2.137795  1.198274  2.580687        0  6.600153   \n",
       "1  0.630396 -0.971493  0.615839  0.626343 -0.577496        2  1.612545   \n",
       "2 -1.122244 -0.971493 -0.727745 -0.719299 -0.727886        1 -2.641167   \n",
       "\n",
       "      pca_y  silhouette_coef  \n",
       "0  1.569940         0.415791  \n",
       "1 -1.141387         0.300606  \n",
       "2 -1.257829         0.227405  "
      ]
     },
     "execution_count": 31,
     "metadata": {},
     "output_type": "execute_result"
    }
   ],
   "source": [
    "### 실루엣 계수 컬럼 추가\n",
    "\n",
    "bunsik_std['silhouette_coef'] = score_samples\n",
    "bunsik_std.head(3)"
   ]
  },
  {
   "cell_type": "code",
   "execution_count": 32,
   "id": "211074ac",
   "metadata": {},
   "outputs": [
    {
     "data": {
      "text/plain": [
       "cluster\n",
       "0    0.191690\n",
       "1    0.229841\n",
       "2    0.215757\n",
       "Name: silhouette_coef, dtype: float64"
      ]
     },
     "execution_count": 32,
     "metadata": {},
     "output_type": "execute_result"
    }
   ],
   "source": [
    "### 군집별로 실루엣 계수의 평균값 구하기\n",
    "\n",
    "bunsik_std.groupby('cluster')['silhouette_coef'].mean()"
   ]
  },
  {
   "cell_type": "markdown",
   "id": "edc38a50",
   "metadata": {},
   "source": [
    "- 실루엣 계수의 평균은 고른 편이나, 전체 실루엣 계수의 평균값이 낮은 편이다."
   ]
  },
  {
   "cell_type": "markdown",
   "id": "884c7b4a",
   "metadata": {},
   "source": [
    "#### **b) Davies Bouldin Index**"
   ]
  },
  {
   "cell_type": "code",
   "execution_count": 33,
   "id": "c83ec280",
   "metadata": {},
   "outputs": [],
   "source": [
    "### Davies Bouldin Index 계산을 위한 API 추가\n",
    "\n",
    "from sklearn.metrics import davies_bouldin_score"
   ]
  },
  {
   "cell_type": "code",
   "execution_count": 34,
   "id": "0d196ee3",
   "metadata": {},
   "outputs": [
    {
     "name": "stdout",
     "output_type": "stream",
     "text": [
      "Davies Bouldin Index: 1.191\n"
     ]
    }
   ],
   "source": [
    "### Davies Bouldin Index 값 구하기\n",
    "\n",
    "dbi = davies_bouldin_score(bunsik_std.iloc[:,2:13],bunsik_std['cluster'])\n",
    "print(\"Davies Bouldin Index: {0:.3f}\".format(dbi))"
   ]
  },
  {
   "cell_type": "markdown",
   "id": "a84db90d",
   "metadata": {},
   "source": [
    "- 값이 1 이상으로 조금 높은 편이다."
   ]
  },
  {
   "cell_type": "markdown",
   "id": "27b3652d",
   "metadata": {},
   "source": [
    "# **3. 평균 이동**"
   ]
  },
  {
   "cell_type": "markdown",
   "id": "d969acc4",
   "metadata": {},
   "source": [
    "### **3-1. 평균 이동 군집화 수행**"
   ]
  },
  {
   "cell_type": "code",
   "execution_count": 35,
   "id": "cfbc1ae6",
   "metadata": {},
   "outputs": [],
   "source": [
    "### 필요한 라이브러리 import\n",
    "\n",
    "from sklearn.cluster import MeanShift\n",
    "from sklearn.cluster import estimate_bandwidth"
   ]
  },
  {
   "cell_type": "code",
   "execution_count": 36,
   "id": "0f94ea7f",
   "metadata": {},
   "outputs": [
    {
     "data": {
      "text/html": [
       "<div>\n",
       "<style scoped>\n",
       "    .dataframe tbody tr th:only-of-type {\n",
       "        vertical-align: middle;\n",
       "    }\n",
       "\n",
       "    .dataframe tbody tr th {\n",
       "        vertical-align: top;\n",
       "    }\n",
       "\n",
       "    .dataframe thead th {\n",
       "        text-align: right;\n",
       "    }\n",
       "</style>\n",
       "<table border=\"1\" class=\"dataframe\">\n",
       "  <thead>\n",
       "    <tr style=\"text-align: right;\">\n",
       "      <th></th>\n",
       "      <th>행정구</th>\n",
       "      <th>분식</th>\n",
       "      <th>총생활인구수_평일</th>\n",
       "      <th>40~50대 생활인구_평일</th>\n",
       "      <th>대학교(전체)</th>\n",
       "      <th>초중고(전체)</th>\n",
       "      <th>고등학교</th>\n",
       "      <th>평균소득금액</th>\n",
       "      <th>폐업점포영업개월</th>\n",
       "      <th>10대</th>\n",
       "      <th>총인구</th>\n",
       "      <th>역(전체)</th>\n",
       "    </tr>\n",
       "  </thead>\n",
       "  <tbody>\n",
       "    <tr>\n",
       "      <th>0</th>\n",
       "      <td>강남구</td>\n",
       "      <td>2.705121</td>\n",
       "      <td>2.478028</td>\n",
       "      <td>2.619554</td>\n",
       "      <td>-0.544698</td>\n",
       "      <td>1.379286</td>\n",
       "      <td>1.782464</td>\n",
       "      <td>2.987365</td>\n",
       "      <td>-1.262784</td>\n",
       "      <td>2.137795</td>\n",
       "      <td>1.198274</td>\n",
       "      <td>2.580687</td>\n",
       "    </tr>\n",
       "    <tr>\n",
       "      <th>1</th>\n",
       "      <td>강동구</td>\n",
       "      <td>0.528200</td>\n",
       "      <td>0.688516</td>\n",
       "      <td>0.709173</td>\n",
       "      <td>-1.605932</td>\n",
       "      <td>0.437794</td>\n",
       "      <td>0.232495</td>\n",
       "      <td>0.630396</td>\n",
       "      <td>-0.971493</td>\n",
       "      <td>0.615839</td>\n",
       "      <td>0.626343</td>\n",
       "      <td>-0.577496</td>\n",
       "    </tr>\n",
       "    <tr>\n",
       "      <th>2</th>\n",
       "      <td>강북구</td>\n",
       "      <td>-0.855104</td>\n",
       "      <td>-1.168249</td>\n",
       "      <td>-1.177162</td>\n",
       "      <td>-0.544698</td>\n",
       "      <td>-1.092131</td>\n",
       "      <td>-1.123727</td>\n",
       "      <td>-1.122244</td>\n",
       "      <td>-0.971493</td>\n",
       "      <td>-0.727745</td>\n",
       "      <td>-0.719299</td>\n",
       "      <td>-0.727886</td>\n",
       "    </tr>\n",
       "  </tbody>\n",
       "</table>\n",
       "</div>"
      ],
      "text/plain": [
       "   행정구        분식  총생활인구수_평일  40~50대 생활인구_평일   대학교(전체)   초중고(전체)      고등학교  \\\n",
       "0  강남구  2.705121   2.478028        2.619554 -0.544698  1.379286  1.782464   \n",
       "1  강동구  0.528200   0.688516        0.709173 -1.605932  0.437794  0.232495   \n",
       "2  강북구 -0.855104  -1.168249       -1.177162 -0.544698 -1.092131 -1.123727   \n",
       "\n",
       "     평균소득금액  폐업점포영업개월       10대       총인구     역(전체)  \n",
       "0  2.987365 -1.262784  2.137795  1.198274  2.580687  \n",
       "1  0.630396 -0.971493  0.615839  0.626343 -0.577496  \n",
       "2 -1.122244 -0.971493 -0.727745 -0.719299 -0.727886  "
      ]
     },
     "execution_count": 36,
     "metadata": {},
     "output_type": "execute_result"
    }
   ],
   "source": [
    "### 데이터 다시 준비\n",
    "\n",
    "feature_df = df_bunsik.iloc[:,1:] # 로그 변환은 진행됨\n",
    "\n",
    "scaler = StandardScaler()\n",
    "bunsik_std = pd.DataFrame(scaler.fit_transform(feature_df),columns = feature_df.columns)\n",
    "\n",
    "# 결과 확인을 위해 행정구,행정동 컬럼 결합\n",
    "bunsik_std = pd.concat([pd.DataFrame(df_bunsik[['행정구']]),bunsik_std],axis = 1)\n",
    "bunsik_std.head(3) # 표준화된 데이터 확인"
   ]
  },
  {
   "cell_type": "code",
   "execution_count": 37,
   "id": "c10c8144",
   "metadata": {},
   "outputs": [
    {
     "name": "stdout",
     "output_type": "stream",
     "text": [
      "bandwidth 값:  3.305\n"
     ]
    }
   ],
   "source": [
    "### 최적 대역폭 계산\n",
    "# estimate_bandwidth(feature_data): 최적화된 bandwidth를 찾기 위한 함수\n",
    "# 군집화 시 '행정구','행정동'은 필요 없으므로 제외\n",
    "\n",
    "h = estimate_bandwidth(bunsik_std.iloc[:,1:])\n",
    "print('bandwidth 값: ',round(h,3))"
   ]
  },
  {
   "cell_type": "code",
   "execution_count": 38,
   "id": "179accf1",
   "metadata": {},
   "outputs": [
    {
     "name": "stdout",
     "output_type": "stream",
     "text": [
      "cluster labels 유형:  [0 1]\n"
     ]
    }
   ],
   "source": [
    "### 평균 이동 군집화 수헹\n",
    "\n",
    "ms = MeanShift(bandwidth = h)\n",
    "cluster_labels = ms.fit_predict(bunsik_std.iloc[:,1:])\n",
    "print('cluster labels 유형: ',np.unique(cluster_labels))"
   ]
  },
  {
   "cell_type": "markdown",
   "id": "3b0c3d4d",
   "metadata": {},
   "source": [
    "- **2개**의 군집으로 분류되는 것을 확인할 수 있다."
   ]
  },
  {
   "cell_type": "code",
   "execution_count": 39,
   "id": "dfccc777",
   "metadata": {},
   "outputs": [
    {
     "name": "stdout",
     "output_type": "stream",
     "text": [
      "[1 0 0 1 0 0 0 0 1 0 0 0 0 0 1 0 0 1 0 0 0 0 0 0 0]\n",
      "\n",
      "25\n"
     ]
    }
   ],
   "source": [
    "### 각 행정구가 어느 군집에 속하는지 확인\n",
    "\n",
    "bunsik_std['cluster'] = cluster_labels\n",
    "print(cluster_labels)\n",
    "print()\n",
    "print(len(cluster_labels))"
   ]
  },
  {
   "cell_type": "code",
   "execution_count": 40,
   "id": "7cf5ced1",
   "metadata": {},
   "outputs": [
    {
     "name": "stdout",
     "output_type": "stream",
     "text": [
      "cluster\n",
      "0    20\n",
      "1     5\n",
      "Name: 행정구, dtype: int64\n"
     ]
    }
   ],
   "source": [
    "### 군집화 결과 확인\n",
    "\n",
    "df_result = bunsik_std.groupby(['cluster'])['행정구'].count()\n",
    "print(df_result)"
   ]
  },
  {
   "cell_type": "markdown",
   "id": "fe4798a5",
   "metadata": {},
   "source": [
    "- 군집0을 제외한 나머지 군집들이 지나치게 세분화된 경향을 보인다."
   ]
  },
  {
   "cell_type": "code",
   "execution_count": 41,
   "id": "fec91677",
   "metadata": {},
   "outputs": [
    {
     "data": {
      "text/html": [
       "<div>\n",
       "<style scoped>\n",
       "    .dataframe tbody tr th:only-of-type {\n",
       "        vertical-align: middle;\n",
       "    }\n",
       "\n",
       "    .dataframe tbody tr th {\n",
       "        vertical-align: top;\n",
       "    }\n",
       "\n",
       "    .dataframe thead th {\n",
       "        text-align: right;\n",
       "    }\n",
       "</style>\n",
       "<table border=\"1\" class=\"dataframe\">\n",
       "  <thead>\n",
       "    <tr style=\"text-align: right;\">\n",
       "      <th></th>\n",
       "      <th>행정구</th>\n",
       "      <th>분식</th>\n",
       "      <th>총생활인구수_평일</th>\n",
       "      <th>40~50대 생활인구_평일</th>\n",
       "      <th>대학교(전체)</th>\n",
       "      <th>초중고(전체)</th>\n",
       "      <th>고등학교</th>\n",
       "      <th>평균소득금액</th>\n",
       "      <th>폐업점포영업개월</th>\n",
       "      <th>10대</th>\n",
       "      <th>총인구</th>\n",
       "      <th>역(전체)</th>\n",
       "      <th>cluster</th>\n",
       "      <th>pca_x</th>\n",
       "      <th>pca_y</th>\n",
       "    </tr>\n",
       "  </thead>\n",
       "  <tbody>\n",
       "    <tr>\n",
       "      <th>0</th>\n",
       "      <td>강남구</td>\n",
       "      <td>2.705121</td>\n",
       "      <td>2.478028</td>\n",
       "      <td>2.619554</td>\n",
       "      <td>-0.544698</td>\n",
       "      <td>1.379286</td>\n",
       "      <td>1.782464</td>\n",
       "      <td>2.987365</td>\n",
       "      <td>-1.262784</td>\n",
       "      <td>2.137795</td>\n",
       "      <td>1.198274</td>\n",
       "      <td>2.580687</td>\n",
       "      <td>1</td>\n",
       "      <td>6.600153</td>\n",
       "      <td>1.569940</td>\n",
       "    </tr>\n",
       "    <tr>\n",
       "      <th>1</th>\n",
       "      <td>강동구</td>\n",
       "      <td>0.528200</td>\n",
       "      <td>0.688516</td>\n",
       "      <td>0.709173</td>\n",
       "      <td>-1.605932</td>\n",
       "      <td>0.437794</td>\n",
       "      <td>0.232495</td>\n",
       "      <td>0.630396</td>\n",
       "      <td>-0.971493</td>\n",
       "      <td>0.615839</td>\n",
       "      <td>0.626343</td>\n",
       "      <td>-0.577496</td>\n",
       "      <td>0</td>\n",
       "      <td>1.612545</td>\n",
       "      <td>-1.141387</td>\n",
       "    </tr>\n",
       "    <tr>\n",
       "      <th>2</th>\n",
       "      <td>강북구</td>\n",
       "      <td>-0.855104</td>\n",
       "      <td>-1.168249</td>\n",
       "      <td>-1.177162</td>\n",
       "      <td>-0.544698</td>\n",
       "      <td>-1.092131</td>\n",
       "      <td>-1.123727</td>\n",
       "      <td>-1.122244</td>\n",
       "      <td>-0.971493</td>\n",
       "      <td>-0.727745</td>\n",
       "      <td>-0.719299</td>\n",
       "      <td>-0.727886</td>\n",
       "      <td>0</td>\n",
       "      <td>-2.641167</td>\n",
       "      <td>-1.257829</td>\n",
       "    </tr>\n",
       "  </tbody>\n",
       "</table>\n",
       "</div>"
      ],
      "text/plain": [
       "   행정구        분식  총생활인구수_평일  40~50대 생활인구_평일   대학교(전체)   초중고(전체)      고등학교  \\\n",
       "0  강남구  2.705121   2.478028        2.619554 -0.544698  1.379286  1.782464   \n",
       "1  강동구  0.528200   0.688516        0.709173 -1.605932  0.437794  0.232495   \n",
       "2  강북구 -0.855104  -1.168249       -1.177162 -0.544698 -1.092131 -1.123727   \n",
       "\n",
       "     평균소득금액  폐업점포영업개월       10대       총인구     역(전체)  cluster     pca_x  \\\n",
       "0  2.987365 -1.262784  2.137795  1.198274  2.580687        1  6.600153   \n",
       "1  0.630396 -0.971493  0.615839  0.626343 -0.577496        0  1.612545   \n",
       "2 -1.122244 -0.971493 -0.727745 -0.719299 -0.727886        0 -2.641167   \n",
       "\n",
       "      pca_y  \n",
       "0  1.569940  \n",
       "1 -1.141387  \n",
       "2 -1.257829  "
      ]
     },
     "execution_count": 41,
     "metadata": {},
     "output_type": "execute_result"
    }
   ],
   "source": [
    "### 차원 축소\n",
    "# 평면에 시각화를 위해 PCA를 통해 속성을 2개로 차원 축소\n",
    "# 이후 X좌표, Y좌표로 개별 데이터를 표현\n",
    "\n",
    "from sklearn.decomposition import PCA\n",
    "\n",
    "pca = PCA(n_components = 2)\n",
    "pca_transformed = pca.fit_transform(bunsik_std.iloc[:,1:-1])\n",
    "\n",
    "bunsik_std['pca_x'] = pca_transformed[:,0]\n",
    "bunsik_std['pca_y'] = pca_transformed[:,1]\n",
    "bunsik_std.head(3)"
   ]
  },
  {
   "cell_type": "code",
   "execution_count": 42,
   "id": "0e0ff1b2",
   "metadata": {},
   "outputs": [
    {
     "name": "stderr",
     "output_type": "stream",
     "text": [
      "c:\\users\\doroc\\appdata\\local\\programs\\python\\python37\\lib\\site-packages\\IPython\\core\\pylabtools.py:151: UserWarning: Glyph 8722 (\\N{MINUS SIGN}) missing from current font.\n",
      "  fig.canvas.print_figure(bytes_io, **kw)\n"
     ]
    },
    {
     "data": {
      "image/png": "[encoded data removed]",
      "text/plain": [
       "<Figure size 1200x800 with 1 Axes>"
      ]
     },
     "metadata": {},
     "output_type": "display_data"
    }
   ],
   "source": [
    "### 군집별 산점도 출력\n",
    "\n",
    "# 군집 값이 0, 1인 경우마다 별도의 인덱스로 추출\n",
    "marker0_ind = bunsik_std[bunsik_std['cluster'] == 0].index\n",
    "marker1_ind = bunsik_std[bunsik_std['cluster'] == 1].index\n",
    "\n",
    "# 군집 값 0, 1에 해당하는 인덱스로 각 군집 레벨의 pca_x, pca_y 값 추출. 마커 표시\n",
    "plt.figure(figsize = (12,8))\n",
    "\n",
    "plt.scatter(x = bunsik_std.loc[marker0_ind,'pca_x'],y = bunsik_std.loc[marker0_ind,'pca_y'],marker='o')\n",
    "plt.scatter(x = bunsik_std.loc[marker1_ind,'pca_x'],y = bunsik_std.loc[marker1_ind,'pca_y'], marker='s')\n",
    "\n",
    "plt.legend(['Cluster0','Cluster1'],fontsize = 10)\n",
    "plt.xlabel('PCA 1',size = 15)\n",
    "plt.ylabel('PCA 2',size = 15)\n",
    "plt.title('평균 이동 군집화')\n",
    "plt.show()"
   ]
  },
  {
   "cell_type": "code",
   "execution_count": 43,
   "id": "3692ed7c",
   "metadata": {},
   "outputs": [
    {
     "name": "stdout",
     "output_type": "stream",
     "text": [
      "군집0: ['강동구', '강북구', '관악구', '광진구', '구로구', '금천구', '도봉구', '동대문구', '동작구', '마포구', '서대문구', '성동구', '성북구', '양천구', '영등포구', '용산구', '은평구', '종로구', '중구', '중랑구']\n",
      "\n",
      "군집1: ['강남구', '강서구', '노원구', '서초구', '송파구']\n"
     ]
    }
   ],
   "source": [
    "### 각 군집에 해당하는 행정동 확인하기\n",
    "\n",
    "group0 = list(bunsik_std.loc[bunsik_std['cluster'] == 0,'행정구'])\n",
    "print(\"군집0: \"+ str(group0))\n",
    "print()\n",
    "\n",
    "group1 = list(bunsik_std.loc[bunsik_std['cluster'] == 1,'행정구'])\n",
    "print(\"군집1: \"+ str(group1))"
   ]
  },
  {
   "cell_type": "markdown",
   "id": "f2352428",
   "metadata": {},
   "source": [
    "### **3-2. 군집화 평가**"
   ]
  },
  {
   "cell_type": "markdown",
   "id": "8a85df6c",
   "metadata": {},
   "source": [
    "#### **a) 실루엣 계수**"
   ]
  },
  {
   "cell_type": "code",
   "execution_count": 44,
   "id": "c14c4341",
   "metadata": {},
   "outputs": [
    {
     "name": "stdout",
     "output_type": "stream",
     "text": [
      "실루엣 분석 점수: 0.385\n"
     ]
    },
    {
     "data": {
      "text/plain": [
       "cluster\n",
       "0    0.411979\n",
       "1    0.277826\n",
       "Name: silhouette_coef, dtype: float64"
      ]
     },
     "execution_count": 44,
     "metadata": {},
     "output_type": "execute_result"
    }
   ],
   "source": [
    "### 모든 개별 데이터에 실루엣 계수값 구하기\n",
    "score_samples = silhouette_samples(bunsik_std.iloc[:,1:-3],bunsik_std['cluster'])\n",
    "\n",
    "### 모든 데이터의 평균 실루엣 계수값 구하기\n",
    "average_score = silhouette_score(bunsik_std.iloc[:,1:-3],bunsik_std['cluster'])\n",
    "print(\"실루엣 분석 점수: {0:.3f}\".format(average_score))\n",
    "\n",
    "### 실루엣 계수 컬럼 추가\n",
    "bunsik_std['silhouette_coef'] = score_samples\n",
    "\n",
    "### 군집별로 실루엣 계수의 평균값 구하기\n",
    "bunsik_std.groupby('cluster')['silhouette_coef'].mean()"
   ]
  },
  {
   "cell_type": "markdown",
   "id": "eaa6a5fd",
   "metadata": {},
   "source": [
    "- 각 군집 간의 실루엣 계수의 평균 간 편차가 크다.\n",
    "- 전체 실루엣 계수의 평균값도 높은 편은 아니다."
   ]
  },
  {
   "cell_type": "markdown",
   "id": "5f74639b",
   "metadata": {},
   "source": [
    "#### **b) Davies Bouldin Index**"
   ]
  },
  {
   "cell_type": "code",
   "execution_count": 45,
   "id": "b557d6f7",
   "metadata": {},
   "outputs": [
    {
     "name": "stdout",
     "output_type": "stream",
     "text": [
      "Davies Bouldin Index: 0.972\n"
     ]
    }
   ],
   "source": [
    "### Davies Bouldin Index 값 구하기\n",
    "\n",
    "dbi = davies_bouldin_score(bunsik_std.iloc[:,1:-3],bunsik_std['cluster'])\n",
    "print(\"Davies Bouldin Index: {0:.3f}\".format(dbi))"
   ]
  },
  {
   "cell_type": "markdown",
   "id": "17f24424",
   "metadata": {},
   "source": [
    "# **4. 병합 군집**"
   ]
  },
  {
   "cell_type": "code",
   "execution_count": 46,
   "id": "1135008b",
   "metadata": {},
   "outputs": [
    {
     "data": {
      "text/html": [
       "<div>\n",
       "<style scoped>\n",
       "    .dataframe tbody tr th:only-of-type {\n",
       "        vertical-align: middle;\n",
       "    }\n",
       "\n",
       "    .dataframe tbody tr th {\n",
       "        vertical-align: top;\n",
       "    }\n",
       "\n",
       "    .dataframe thead th {\n",
       "        text-align: right;\n",
       "    }\n",
       "</style>\n",
       "<table border=\"1\" class=\"dataframe\">\n",
       "  <thead>\n",
       "    <tr style=\"text-align: right;\">\n",
       "      <th></th>\n",
       "      <th>행정구</th>\n",
       "      <th>분식</th>\n",
       "      <th>총생활인구수_평일</th>\n",
       "      <th>40~50대 생활인구_평일</th>\n",
       "      <th>대학교(전체)</th>\n",
       "      <th>초중고(전체)</th>\n",
       "      <th>고등학교</th>\n",
       "      <th>평균소득금액</th>\n",
       "      <th>폐업점포영업개월</th>\n",
       "      <th>10대</th>\n",
       "      <th>총인구</th>\n",
       "      <th>역(전체)</th>\n",
       "    </tr>\n",
       "  </thead>\n",
       "  <tbody>\n",
       "    <tr>\n",
       "      <th>0</th>\n",
       "      <td>강남구</td>\n",
       "      <td>2.705121</td>\n",
       "      <td>2.478028</td>\n",
       "      <td>2.619554</td>\n",
       "      <td>-0.544698</td>\n",
       "      <td>1.379286</td>\n",
       "      <td>1.782464</td>\n",
       "      <td>2.987365</td>\n",
       "      <td>-1.262784</td>\n",
       "      <td>2.137795</td>\n",
       "      <td>1.198274</td>\n",
       "      <td>2.580687</td>\n",
       "    </tr>\n",
       "    <tr>\n",
       "      <th>1</th>\n",
       "      <td>강동구</td>\n",
       "      <td>0.528200</td>\n",
       "      <td>0.688516</td>\n",
       "      <td>0.709173</td>\n",
       "      <td>-1.605932</td>\n",
       "      <td>0.437794</td>\n",
       "      <td>0.232495</td>\n",
       "      <td>0.630396</td>\n",
       "      <td>-0.971493</td>\n",
       "      <td>0.615839</td>\n",
       "      <td>0.626343</td>\n",
       "      <td>-0.577496</td>\n",
       "    </tr>\n",
       "    <tr>\n",
       "      <th>2</th>\n",
       "      <td>강북구</td>\n",
       "      <td>-0.855104</td>\n",
       "      <td>-1.168249</td>\n",
       "      <td>-1.177162</td>\n",
       "      <td>-0.544698</td>\n",
       "      <td>-1.092131</td>\n",
       "      <td>-1.123727</td>\n",
       "      <td>-1.122244</td>\n",
       "      <td>-0.971493</td>\n",
       "      <td>-0.727745</td>\n",
       "      <td>-0.719299</td>\n",
       "      <td>-0.727886</td>\n",
       "    </tr>\n",
       "  </tbody>\n",
       "</table>\n",
       "</div>"
      ],
      "text/plain": [
       "   행정구        분식  총생활인구수_평일  40~50대 생활인구_평일   대학교(전체)   초중고(전체)      고등학교  \\\n",
       "0  강남구  2.705121   2.478028        2.619554 -0.544698  1.379286  1.782464   \n",
       "1  강동구  0.528200   0.688516        0.709173 -1.605932  0.437794  0.232495   \n",
       "2  강북구 -0.855104  -1.168249       -1.177162 -0.544698 -1.092131 -1.123727   \n",
       "\n",
       "     평균소득금액  폐업점포영업개월       10대       총인구     역(전체)  \n",
       "0  2.987365 -1.262784  2.137795  1.198274  2.580687  \n",
       "1  0.630396 -0.971493  0.615839  0.626343 -0.577496  \n",
       "2 -1.122244 -0.971493 -0.727745 -0.719299 -0.727886  "
      ]
     },
     "execution_count": 46,
     "metadata": {},
     "output_type": "execute_result"
    }
   ],
   "source": [
    "### 데이터 다시 준비\n",
    "\n",
    "feature_df = df_bunsik.iloc[:,1:] # 로그 변환은 진행됨\n",
    "\n",
    "scaler = StandardScaler()\n",
    "bunsik_std = pd.DataFrame(scaler.fit_transform(feature_df),columns = feature_df.columns)\n",
    "\n",
    "# 결과 확인을 위해 행정구,행정동 컬럼 결합\n",
    "bunsik_std = pd.concat([pd.DataFrame(df_bunsik[['행정구']]),bunsik_std],axis = 1)\n",
    "bunsik_std.head(3) # 표준화된 데이터 확인"
   ]
  },
  {
   "cell_type": "markdown",
   "id": "9ec08dbe",
   "metadata": {},
   "source": [
    "### **4-1. 여러 클러스터 병합 방식 적용하기**"
   ]
  },
  {
   "cell_type": "code",
   "execution_count": 47,
   "id": "26227c8f",
   "metadata": {},
   "outputs": [
    {
     "data": {
      "image/png": "[encoded data removed]",
      "text/plain": [
       "<Figure size 2000x1500 with 4 Axes>"
      ]
     },
     "metadata": {},
     "output_type": "display_data"
    }
   ],
   "source": [
    "### 필요한 라이브러리 준비\n",
    "import scipy\n",
    "import scipy.cluster.hierarchy as sch\n",
    "\n",
    "### dendrogram 그리기\n",
    "fig = plt.figure(figsize=(20, 15))\n",
    "\n",
    "ax1 = fig.add_subplot(2,2,1)\n",
    "ax1.set_title('Ward')\n",
    "link1 = sch.linkage(bunsik_std.iloc[:,1:],method = 'ward')\n",
    "dend1 = sch.dendrogram(link1)\n",
    "\n",
    "ax2 = fig.add_subplot(2,2,2)\n",
    "ax2.set_title('Average')\n",
    "link2 = sch.linkage(bunsik_std.iloc[:,1:],method = 'average')\n",
    "dend2 = sch.dendrogram(link2)\n",
    "\n",
    "ax3 = fig.add_subplot(2,2,3)\n",
    "ax3.set_title('Complete')\n",
    "link3 = sch.linkage(bunsik_std.iloc[:,1:],method = 'complete')\n",
    "dend3 = sch.dendrogram(link3)\n",
    "\n",
    "ax4 = fig.add_subplot(2,2,4)\n",
    "ax4.set_title('Single')\n",
    "link4 = sch.linkage(bunsik_std.iloc[:,1:],method = 'single')\n",
    "dend4 = sch.dendrogram(link4)\n",
    "\n",
    "plt.show()"
   ]
  },
  {
   "cell_type": "markdown",
   "id": "1b84c6fe",
   "metadata": {},
   "source": [
    "- **ward 연결법**이 군집을 가장 잘 군집을 잘 분류한다고 판단된다."
   ]
  },
  {
   "cell_type": "markdown",
   "id": "bafe3a61",
   "metadata": {},
   "source": [
    "### **4-2. 병합 군집 수행**\n",
    "- **ward** 병합 방식 활용\n",
    "- 군집의 개수를 **2개**로 설정"
   ]
  },
  {
   "cell_type": "code",
   "execution_count": 48,
   "id": "4028ea2a",
   "metadata": {},
   "outputs": [
    {
     "name": "stdout",
     "output_type": "stream",
     "text": [
      "cluster labels 유형:  [0 1]\n"
     ]
    }
   ],
   "source": [
    "### 필요한 라이브러리 import\n",
    "from sklearn.cluster import AgglomerativeClustering\n",
    "\n",
    "### 군집화(병합 군집)\n",
    "agg = AgglomerativeClustering(n_clusters = 2, linkage = \"ward\")\n",
    "cluster_labels = agg.fit_predict(bunsik_std.iloc[:,2:])\n",
    "print('cluster labels 유형: ',np.unique(cluster_labels))"
   ]
  },
  {
   "cell_type": "code",
   "execution_count": 49,
   "id": "afe6b508",
   "metadata": {},
   "outputs": [
    {
     "name": "stdout",
     "output_type": "stream",
     "text": [
      "[0 0 1 0 0 1 1 1 0 1 1 1 1 1 0 1 1 0 0 1 1 0 1 1 1]\n",
      "\n",
      "25\n"
     ]
    }
   ],
   "source": [
    "### 각 행정동이 어느 군집에 속하는지 확인\n",
    "\n",
    "bunsik_std['cluster'] = cluster_labels\n",
    "print(cluster_labels)\n",
    "print()\n",
    "print(len(cluster_labels))"
   ]
  },
  {
   "cell_type": "code",
   "execution_count": 50,
   "id": "67131dfa",
   "metadata": {},
   "outputs": [
    {
     "name": "stdout",
     "output_type": "stream",
     "text": [
      "cluster\n",
      "0     9\n",
      "1    16\n",
      "Name: 행정구, dtype: int64\n"
     ]
    }
   ],
   "source": [
    "### 군집화 결과 확인\n",
    "\n",
    "df_result = bunsik_std.groupby(['cluster'])['행정구'].count()\n",
    "print(df_result)"
   ]
  },
  {
   "cell_type": "code",
   "execution_count": 51,
   "id": "4c49cb8b",
   "metadata": {},
   "outputs": [
    {
     "data": {
      "text/html": [
       "<div>\n",
       "<style scoped>\n",
       "    .dataframe tbody tr th:only-of-type {\n",
       "        vertical-align: middle;\n",
       "    }\n",
       "\n",
       "    .dataframe tbody tr th {\n",
       "        vertical-align: top;\n",
       "    }\n",
       "\n",
       "    .dataframe thead th {\n",
       "        text-align: right;\n",
       "    }\n",
       "</style>\n",
       "<table border=\"1\" class=\"dataframe\">\n",
       "  <thead>\n",
       "    <tr style=\"text-align: right;\">\n",
       "      <th></th>\n",
       "      <th>행정구</th>\n",
       "      <th>분식</th>\n",
       "      <th>총생활인구수_평일</th>\n",
       "      <th>40~50대 생활인구_평일</th>\n",
       "      <th>대학교(전체)</th>\n",
       "      <th>초중고(전체)</th>\n",
       "      <th>고등학교</th>\n",
       "      <th>평균소득금액</th>\n",
       "      <th>폐업점포영업개월</th>\n",
       "      <th>10대</th>\n",
       "      <th>총인구</th>\n",
       "      <th>역(전체)</th>\n",
       "      <th>cluster</th>\n",
       "      <th>pca_x</th>\n",
       "      <th>pca_y</th>\n",
       "    </tr>\n",
       "  </thead>\n",
       "  <tbody>\n",
       "    <tr>\n",
       "      <th>0</th>\n",
       "      <td>강남구</td>\n",
       "      <td>2.705121</td>\n",
       "      <td>2.478028</td>\n",
       "      <td>2.619554</td>\n",
       "      <td>-0.544698</td>\n",
       "      <td>1.379286</td>\n",
       "      <td>1.782464</td>\n",
       "      <td>2.987365</td>\n",
       "      <td>-1.262784</td>\n",
       "      <td>2.137795</td>\n",
       "      <td>1.198274</td>\n",
       "      <td>2.580687</td>\n",
       "      <td>0</td>\n",
       "      <td>6.600153</td>\n",
       "      <td>1.569940</td>\n",
       "    </tr>\n",
       "    <tr>\n",
       "      <th>1</th>\n",
       "      <td>강동구</td>\n",
       "      <td>0.528200</td>\n",
       "      <td>0.688516</td>\n",
       "      <td>0.709173</td>\n",
       "      <td>-1.605932</td>\n",
       "      <td>0.437794</td>\n",
       "      <td>0.232495</td>\n",
       "      <td>0.630396</td>\n",
       "      <td>-0.971493</td>\n",
       "      <td>0.615839</td>\n",
       "      <td>0.626343</td>\n",
       "      <td>-0.577496</td>\n",
       "      <td>0</td>\n",
       "      <td>1.612545</td>\n",
       "      <td>-1.141387</td>\n",
       "    </tr>\n",
       "    <tr>\n",
       "      <th>2</th>\n",
       "      <td>강북구</td>\n",
       "      <td>-0.855104</td>\n",
       "      <td>-1.168249</td>\n",
       "      <td>-1.177162</td>\n",
       "      <td>-0.544698</td>\n",
       "      <td>-1.092131</td>\n",
       "      <td>-1.123727</td>\n",
       "      <td>-1.122244</td>\n",
       "      <td>-0.971493</td>\n",
       "      <td>-0.727745</td>\n",
       "      <td>-0.719299</td>\n",
       "      <td>-0.727886</td>\n",
       "      <td>1</td>\n",
       "      <td>-2.641167</td>\n",
       "      <td>-1.257829</td>\n",
       "    </tr>\n",
       "  </tbody>\n",
       "</table>\n",
       "</div>"
      ],
      "text/plain": [
       "   행정구        분식  총생활인구수_평일  40~50대 생활인구_평일   대학교(전체)   초중고(전체)      고등학교  \\\n",
       "0  강남구  2.705121   2.478028        2.619554 -0.544698  1.379286  1.782464   \n",
       "1  강동구  0.528200   0.688516        0.709173 -1.605932  0.437794  0.232495   \n",
       "2  강북구 -0.855104  -1.168249       -1.177162 -0.544698 -1.092131 -1.123727   \n",
       "\n",
       "     평균소득금액  폐업점포영업개월       10대       총인구     역(전체)  cluster     pca_x  \\\n",
       "0  2.987365 -1.262784  2.137795  1.198274  2.580687        0  6.600153   \n",
       "1  0.630396 -0.971493  0.615839  0.626343 -0.577496        0  1.612545   \n",
       "2 -1.122244 -0.971493 -0.727745 -0.719299 -0.727886        1 -2.641167   \n",
       "\n",
       "      pca_y  \n",
       "0  1.569940  \n",
       "1 -1.141387  \n",
       "2 -1.257829  "
      ]
     },
     "execution_count": 51,
     "metadata": {},
     "output_type": "execute_result"
    }
   ],
   "source": [
    "### 차원 축소\n",
    "# 평면에 시각화를 위해 PCA를 통해 속성을 2개로 차원 축소\n",
    "# 이후 X좌표, Y좌표로 개별 데이터를 표현\n",
    "\n",
    "from sklearn.decomposition import PCA\n",
    "\n",
    "pca = PCA(n_components = 2)\n",
    "pca_transformed = pca.fit_transform(bunsik_std.iloc[:,1:-1])\n",
    "\n",
    "bunsik_std['pca_x'] = pca_transformed[:,0]\n",
    "bunsik_std['pca_y'] = pca_transformed[:,1]\n",
    "bunsik_std.head(3)"
   ]
  },
  {
   "cell_type": "code",
   "execution_count": 52,
   "id": "fc2dd667",
   "metadata": {},
   "outputs": [
    {
     "name": "stderr",
     "output_type": "stream",
     "text": [
      "c:\\users\\doroc\\appdata\\local\\programs\\python\\python37\\lib\\site-packages\\IPython\\core\\pylabtools.py:151: UserWarning: Glyph 8722 (\\N{MINUS SIGN}) missing from current font.\n",
      "  fig.canvas.print_figure(bytes_io, **kw)\n"
     ]
    },
    {
     "data": {
      "image/png": "[encoded data removed]",
      "text/plain": [
       "<Figure size 1000x500 with 1 Axes>"
      ]
     },
     "metadata": {},
     "output_type": "display_data"
    }
   ],
   "source": [
    "### 군집별 산점도 출력\n",
    "\n",
    "# 군집 값이 0, 1인 경우마다 별도의 인덱스로 추출\n",
    "marker0_ind = bunsik_std[bunsik_std['cluster'] == 0].index\n",
    "marker1_ind = bunsik_std[bunsik_std['cluster'] == 1].index\n",
    "\n",
    "# 군집 값 0, 1에 해당하는 인덱스로 각 군집 레벨의 pca_x, pca_y 값 추출. 마커 표시\n",
    "plt.figure(figsize = (10,5))\n",
    "\n",
    "plt.scatter(x = bunsik_std.loc[marker0_ind,'pca_x'],y = bunsik_std.loc[marker0_ind,'pca_y'],marker='o')\n",
    "plt.scatter(x = bunsik_std.loc[marker1_ind,'pca_x'],y = bunsik_std.loc[marker1_ind,'pca_y'], marker='s')\n",
    "\n",
    "plt.legend(['Cluster0','Cluster1'],fontsize = 10)\n",
    "plt.xlabel('PCA 1',size = 12)\n",
    "plt.ylabel('PCA 2',size = 12)\n",
    "plt.title('병합 군집화')\n",
    "plt.show()"
   ]
  },
  {
   "cell_type": "code",
   "execution_count": 53,
   "id": "54b4d585",
   "metadata": {},
   "outputs": [
    {
     "name": "stdout",
     "output_type": "stream",
     "text": [
      "군집0: ['강남구', '강동구', '강서구', '관악구', '노원구', '서초구', '송파구', '양천구', '은평구']\n",
      "\n",
      "군집1: ['강북구', '광진구', '구로구', '금천구', '도봉구', '동대문구', '동작구', '마포구', '서대문구', '성동구', '성북구', '영등포구', '용산구', '종로구', '중구', '중랑구']\n"
     ]
    }
   ],
   "source": [
    "### 각 군집에 해당하는 행정동 확인하기\n",
    "\n",
    "group0 = list(bunsik_std.loc[bunsik_std['cluster'] == 0,'행정구'])\n",
    "print(\"군집0: \"+ str(group0))\n",
    "print()\n",
    "\n",
    "group1 = list(bunsik_std.loc[bunsik_std['cluster'] == 1,'행정구'])\n",
    "print(\"군집1: \"+ str(group1))"
   ]
  },
  {
   "cell_type": "markdown",
   "id": "4d20f218",
   "metadata": {},
   "source": [
    "### **4-3. 군집화 평가**"
   ]
  },
  {
   "cell_type": "markdown",
   "id": "6319dcf9",
   "metadata": {},
   "source": [
    "#### **a) 실루엣 계수**"
   ]
  },
  {
   "cell_type": "code",
   "execution_count": 54,
   "id": "d8bb183f",
   "metadata": {},
   "outputs": [
    {
     "name": "stdout",
     "output_type": "stream",
     "text": [
      "실루엣 분석 점수: 0.308\n"
     ]
    },
    {
     "data": {
      "text/plain": [
       "cluster\n",
       "0    0.189383\n",
       "1    0.374658\n",
       "Name: silhouette_coef, dtype: float64"
      ]
     },
     "execution_count": 54,
     "metadata": {},
     "output_type": "execute_result"
    }
   ],
   "source": [
    "### 모든 개별 데이터에 실루엣 계수값 구하기\n",
    "score_samples = silhouette_samples(bunsik_std.iloc[:,1:-3],bunsik_std['cluster'])\n",
    "\n",
    "### 모든 데이터의 평균 실루엣 계수값 구하기\n",
    "average_score = silhouette_score(bunsik_std.iloc[:,1:-3],bunsik_std['cluster'])\n",
    "print(\"실루엣 분석 점수: {0:.3f}\".format(average_score))\n",
    "\n",
    "### 실루엣 계수 컬럼 추가\n",
    "bunsik_std['silhouette_coef'] = score_samples\n",
    "\n",
    "### 군집별로 실루엣 계수의 평균값 구하기\n",
    "bunsik_std.groupby('cluster')['silhouette_coef'].mean()"
   ]
  },
  {
   "cell_type": "markdown",
   "id": "0e7d20ae",
   "metadata": {},
   "source": [
    "- 군집 간의 실루엣 계수 평균의 편차가 큰 편이다.\n",
    "- 전체 실루엣 계수의 평균값이 낮은 편이다."
   ]
  },
  {
   "cell_type": "markdown",
   "id": "2c204536",
   "metadata": {},
   "source": [
    "#### **b) Davies Bouldin Index**"
   ]
  },
  {
   "cell_type": "code",
   "execution_count": 55,
   "id": "8ae68a9e",
   "metadata": {},
   "outputs": [
    {
     "name": "stdout",
     "output_type": "stream",
     "text": [
      "Davies Bouldin Index: 1.148\n"
     ]
    }
   ],
   "source": [
    "### Davies Bouldin Index 값 구하기\n",
    "\n",
    "dbi = davies_bouldin_score(bunsik_std.iloc[:,1:-3],bunsik_std['cluster'])\n",
    "print(\"Davies Bouldin Index: {0:.3f}\".format(dbi))"
   ]
  },
  {
   "cell_type": "markdown",
   "id": "371ee875",
   "metadata": {},
   "source": [
    "# **5. GMM**"
   ]
  },
  {
   "cell_type": "code",
   "execution_count": 56,
   "id": "787f5627",
   "metadata": {},
   "outputs": [],
   "source": [
    "### 필요한 라이브러리 import\n",
    "\n",
    "from sklearn.mixture import GaussianMixture"
   ]
  },
  {
   "cell_type": "code",
   "execution_count": 57,
   "id": "30d23af3",
   "metadata": {},
   "outputs": [
    {
     "data": {
      "text/html": [
       "<div>\n",
       "<style scoped>\n",
       "    .dataframe tbody tr th:only-of-type {\n",
       "        vertical-align: middle;\n",
       "    }\n",
       "\n",
       "    .dataframe tbody tr th {\n",
       "        vertical-align: top;\n",
       "    }\n",
       "\n",
       "    .dataframe thead th {\n",
       "        text-align: right;\n",
       "    }\n",
       "</style>\n",
       "<table border=\"1\" class=\"dataframe\">\n",
       "  <thead>\n",
       "    <tr style=\"text-align: right;\">\n",
       "      <th></th>\n",
       "      <th>행정구</th>\n",
       "      <th>분식</th>\n",
       "      <th>총생활인구수_평일</th>\n",
       "      <th>40~50대 생활인구_평일</th>\n",
       "      <th>대학교(전체)</th>\n",
       "      <th>초중고(전체)</th>\n",
       "      <th>고등학교</th>\n",
       "      <th>평균소득금액</th>\n",
       "      <th>폐업점포영업개월</th>\n",
       "      <th>10대</th>\n",
       "      <th>총인구</th>\n",
       "      <th>역(전체)</th>\n",
       "    </tr>\n",
       "  </thead>\n",
       "  <tbody>\n",
       "    <tr>\n",
       "      <th>0</th>\n",
       "      <td>강남구</td>\n",
       "      <td>2.705121</td>\n",
       "      <td>2.478028</td>\n",
       "      <td>2.619554</td>\n",
       "      <td>-0.544698</td>\n",
       "      <td>1.379286</td>\n",
       "      <td>1.782464</td>\n",
       "      <td>2.987365</td>\n",
       "      <td>-1.262784</td>\n",
       "      <td>2.137795</td>\n",
       "      <td>1.198274</td>\n",
       "      <td>2.580687</td>\n",
       "    </tr>\n",
       "    <tr>\n",
       "      <th>1</th>\n",
       "      <td>강동구</td>\n",
       "      <td>0.528200</td>\n",
       "      <td>0.688516</td>\n",
       "      <td>0.709173</td>\n",
       "      <td>-1.605932</td>\n",
       "      <td>0.437794</td>\n",
       "      <td>0.232495</td>\n",
       "      <td>0.630396</td>\n",
       "      <td>-0.971493</td>\n",
       "      <td>0.615839</td>\n",
       "      <td>0.626343</td>\n",
       "      <td>-0.577496</td>\n",
       "    </tr>\n",
       "    <tr>\n",
       "      <th>2</th>\n",
       "      <td>강북구</td>\n",
       "      <td>-0.855104</td>\n",
       "      <td>-1.168249</td>\n",
       "      <td>-1.177162</td>\n",
       "      <td>-0.544698</td>\n",
       "      <td>-1.092131</td>\n",
       "      <td>-1.123727</td>\n",
       "      <td>-1.122244</td>\n",
       "      <td>-0.971493</td>\n",
       "      <td>-0.727745</td>\n",
       "      <td>-0.719299</td>\n",
       "      <td>-0.727886</td>\n",
       "    </tr>\n",
       "  </tbody>\n",
       "</table>\n",
       "</div>"
      ],
      "text/plain": [
       "   행정구        분식  총생활인구수_평일  40~50대 생활인구_평일   대학교(전체)   초중고(전체)      고등학교  \\\n",
       "0  강남구  2.705121   2.478028        2.619554 -0.544698  1.379286  1.782464   \n",
       "1  강동구  0.528200   0.688516        0.709173 -1.605932  0.437794  0.232495   \n",
       "2  강북구 -0.855104  -1.168249       -1.177162 -0.544698 -1.092131 -1.123727   \n",
       "\n",
       "     평균소득금액  폐업점포영업개월       10대       총인구     역(전체)  \n",
       "0  2.987365 -1.262784  2.137795  1.198274  2.580687  \n",
       "1  0.630396 -0.971493  0.615839  0.626343 -0.577496  \n",
       "2 -1.122244 -0.971493 -0.727745 -0.719299 -0.727886  "
      ]
     },
     "execution_count": 57,
     "metadata": {},
     "output_type": "execute_result"
    }
   ],
   "source": [
    "### 데이터 다시 준비\n",
    "\n",
    "feature_df = df_bunsik.iloc[:,1:] # 로그 변환은 진행됨\n",
    "\n",
    "scaler = StandardScaler()\n",
    "bunsik_std = pd.DataFrame(scaler.fit_transform(feature_df),columns = feature_df.columns)\n",
    "\n",
    "# 결과 확인을 위해 행정구,행정동 컬럼 결합\n",
    "bunsik_std = pd.concat([pd.DataFrame(df_bunsik[['행정구']]),bunsik_std],axis = 1)\n",
    "bunsik_std.head(3) # 표준화된 데이터 확인"
   ]
  },
  {
   "cell_type": "markdown",
   "id": "994971f8",
   "metadata": {},
   "source": [
    "### **5-1. 군집 개수 선택**"
   ]
  },
  {
   "cell_type": "code",
   "execution_count": 58,
   "id": "0826b363",
   "metadata": {},
   "outputs": [
    {
     "name": "stderr",
     "output_type": "stream",
     "text": [
      "c:\\users\\doroc\\appdata\\local\\programs\\python\\python37\\lib\\site-packages\\IPython\\core\\pylabtools.py:151: UserWarning: Glyph 8722 (\\N{MINUS SIGN}) missing from current font.\n",
      "  fig.canvas.print_figure(bytes_io, **kw)\n"
     ]
    },
    {
     "data": {
      "image/png": "[encoded data removed]",
      "text/plain": [
       "<Figure size 700x500 with 1 Axes>"
      ]
     },
     "metadata": {},
     "output_type": "display_data"
    }
   ],
   "source": [
    "### AIC,BIC\n",
    "# 군집 개수(k)를 1 ~ 10까지 조정하며 적정 클러스터 개수 찾기\n",
    "\n",
    "gmm_per_k = [GaussianMixture(n_components = k, n_init = 10, random_state = 0).fit(bunsik_std.iloc[:,1:]) for k in range(1,11)]\n",
    "\n",
    "bics = [model.bic(bunsik_std.iloc[:,1:]) for model in gmm_per_k] # 모델별 bic\n",
    "aics = [model.aic(bunsik_std.iloc[:,1:]) for model in gmm_per_k] # 모댈별 aic\n",
    "\n",
    "plt.figure(figsize = (7,5))\n",
    "plt.plot(range(1,11),aics,'rs--')\n",
    "plt.plot(range(1,11),bics,'bo-')\n",
    "plt.xlabel('k')\n",
    "plt.ylabel('Information Criterion')\n",
    "plt.legend(['AIC','BIC'])\n",
    "plt.show()"
   ]
  },
  {
   "cell_type": "markdown",
   "id": "54b7121a",
   "metadata": {},
   "source": [
    "- **k = 5**가 최선의 선택으로 보인다."
   ]
  },
  {
   "cell_type": "markdown",
   "id": "9973a8d8",
   "metadata": {},
   "source": [
    "### **5-2. GMM 군집화 수행**"
   ]
  },
  {
   "cell_type": "code",
   "execution_count": 59,
   "id": "91ed6969",
   "metadata": {},
   "outputs": [
    {
     "name": "stdout",
     "output_type": "stream",
     "text": [
      "cluster labels 유형:  [0 1 2 3 4]\n"
     ]
    }
   ],
   "source": [
    "### 군집화 수행\n",
    "\n",
    "gmm = GaussianMixture(n_components = 5, random_state = 0).fit(bunsik_std.iloc[:,1:])\n",
    "gmm_cluster_labels = gmm.predict(bunsik_std.iloc[:,1:])\n",
    "print('cluster labels 유형: ',np.unique(gmm_cluster_labels))"
   ]
  },
  {
   "cell_type": "code",
   "execution_count": 60,
   "id": "67252033",
   "metadata": {},
   "outputs": [
    {
     "name": "stdout",
     "output_type": "stream",
     "text": [
      "[2 3 1 4 3 0 3 1 4 1 1 1 0 1 2 1 3 2 3 0 1 3 1 1 0]\n",
      "\n",
      "25\n"
     ]
    }
   ],
   "source": [
    "### 각 행정동이 어느 군집에 속하는지 확인\n",
    "\n",
    "bunsik_std['cluster'] = gmm_cluster_labels\n",
    "print(gmm_cluster_labels)\n",
    "print()\n",
    "print(len(gmm_cluster_labels))"
   ]
  },
  {
   "cell_type": "code",
   "execution_count": 61,
   "id": "e1388fee",
   "metadata": {},
   "outputs": [
    {
     "name": "stdout",
     "output_type": "stream",
     "text": [
      "cluster\n",
      "0     4\n",
      "1    10\n",
      "2     3\n",
      "3     6\n",
      "4     2\n",
      "Name: 행정구, dtype: int64\n"
     ]
    }
   ],
   "source": [
    "### 군집화 결과 확인\n",
    "\n",
    "df_result = bunsik_std.groupby(['cluster'])['행정구'].count()\n",
    "print(df_result)"
   ]
  },
  {
   "cell_type": "code",
   "execution_count": 62,
   "id": "13fc5e43",
   "metadata": {},
   "outputs": [
    {
     "data": {
      "text/html": [
       "<div>\n",
       "<style scoped>\n",
       "    .dataframe tbody tr th:only-of-type {\n",
       "        vertical-align: middle;\n",
       "    }\n",
       "\n",
       "    .dataframe tbody tr th {\n",
       "        vertical-align: top;\n",
       "    }\n",
       "\n",
       "    .dataframe thead th {\n",
       "        text-align: right;\n",
       "    }\n",
       "</style>\n",
       "<table border=\"1\" class=\"dataframe\">\n",
       "  <thead>\n",
       "    <tr style=\"text-align: right;\">\n",
       "      <th></th>\n",
       "      <th>행정구</th>\n",
       "      <th>분식</th>\n",
       "      <th>총생활인구수_평일</th>\n",
       "      <th>40~50대 생활인구_평일</th>\n",
       "      <th>대학교(전체)</th>\n",
       "      <th>초중고(전체)</th>\n",
       "      <th>고등학교</th>\n",
       "      <th>평균소득금액</th>\n",
       "      <th>폐업점포영업개월</th>\n",
       "      <th>10대</th>\n",
       "      <th>총인구</th>\n",
       "      <th>역(전체)</th>\n",
       "      <th>cluster</th>\n",
       "      <th>pca_x</th>\n",
       "      <th>pca_y</th>\n",
       "    </tr>\n",
       "  </thead>\n",
       "  <tbody>\n",
       "    <tr>\n",
       "      <th>0</th>\n",
       "      <td>강남구</td>\n",
       "      <td>2.705121</td>\n",
       "      <td>2.478028</td>\n",
       "      <td>2.619554</td>\n",
       "      <td>-0.544698</td>\n",
       "      <td>1.379286</td>\n",
       "      <td>1.782464</td>\n",
       "      <td>2.987365</td>\n",
       "      <td>-1.262784</td>\n",
       "      <td>2.137795</td>\n",
       "      <td>1.198274</td>\n",
       "      <td>2.580687</td>\n",
       "      <td>2</td>\n",
       "      <td>6.600153</td>\n",
       "      <td>1.569940</td>\n",
       "    </tr>\n",
       "    <tr>\n",
       "      <th>1</th>\n",
       "      <td>강동구</td>\n",
       "      <td>0.528200</td>\n",
       "      <td>0.688516</td>\n",
       "      <td>0.709173</td>\n",
       "      <td>-1.605932</td>\n",
       "      <td>0.437794</td>\n",
       "      <td>0.232495</td>\n",
       "      <td>0.630396</td>\n",
       "      <td>-0.971493</td>\n",
       "      <td>0.615839</td>\n",
       "      <td>0.626343</td>\n",
       "      <td>-0.577496</td>\n",
       "      <td>3</td>\n",
       "      <td>1.612545</td>\n",
       "      <td>-1.141387</td>\n",
       "    </tr>\n",
       "    <tr>\n",
       "      <th>2</th>\n",
       "      <td>강북구</td>\n",
       "      <td>-0.855104</td>\n",
       "      <td>-1.168249</td>\n",
       "      <td>-1.177162</td>\n",
       "      <td>-0.544698</td>\n",
       "      <td>-1.092131</td>\n",
       "      <td>-1.123727</td>\n",
       "      <td>-1.122244</td>\n",
       "      <td>-0.971493</td>\n",
       "      <td>-0.727745</td>\n",
       "      <td>-0.719299</td>\n",
       "      <td>-0.727886</td>\n",
       "      <td>1</td>\n",
       "      <td>-2.641167</td>\n",
       "      <td>-1.257829</td>\n",
       "    </tr>\n",
       "  </tbody>\n",
       "</table>\n",
       "</div>"
      ],
      "text/plain": [
       "   행정구        분식  총생활인구수_평일  40~50대 생활인구_평일   대학교(전체)   초중고(전체)      고등학교  \\\n",
       "0  강남구  2.705121   2.478028        2.619554 -0.544698  1.379286  1.782464   \n",
       "1  강동구  0.528200   0.688516        0.709173 -1.605932  0.437794  0.232495   \n",
       "2  강북구 -0.855104  -1.168249       -1.177162 -0.544698 -1.092131 -1.123727   \n",
       "\n",
       "     평균소득금액  폐업점포영업개월       10대       총인구     역(전체)  cluster     pca_x  \\\n",
       "0  2.987365 -1.262784  2.137795  1.198274  2.580687        2  6.600153   \n",
       "1  0.630396 -0.971493  0.615839  0.626343 -0.577496        3  1.612545   \n",
       "2 -1.122244 -0.971493 -0.727745 -0.719299 -0.727886        1 -2.641167   \n",
       "\n",
       "      pca_y  \n",
       "0  1.569940  \n",
       "1 -1.141387  \n",
       "2 -1.257829  "
      ]
     },
     "execution_count": 62,
     "metadata": {},
     "output_type": "execute_result"
    }
   ],
   "source": [
    "### 차원 축소\n",
    "# 평면에 시각화를 위해 PCA를 통해 속성을 2개로 차원 축소\n",
    "# 이후 X좌표, Y좌표로 개별 데이터를 표현\n",
    "\n",
    "from sklearn.decomposition import PCA\n",
    "\n",
    "pca = PCA(n_components = 2)\n",
    "pca_transformed = pca.fit_transform(bunsik_std.iloc[:,1:-1])\n",
    "\n",
    "bunsik_std['pca_x'] = pca_transformed[:,0]\n",
    "bunsik_std['pca_y'] = pca_transformed[:,1]\n",
    "bunsik_std.head(3)"
   ]
  },
  {
   "cell_type": "code",
   "execution_count": 63,
   "id": "71a9bba9",
   "metadata": {},
   "outputs": [
    {
     "name": "stderr",
     "output_type": "stream",
     "text": [
      "c:\\users\\doroc\\appdata\\local\\programs\\python\\python37\\lib\\site-packages\\IPython\\core\\pylabtools.py:151: UserWarning: Glyph 8722 (\\N{MINUS SIGN}) missing from current font.\n",
      "  fig.canvas.print_figure(bytes_io, **kw)\n"
     ]
    },
    {
     "data": {
      "image/png": "[encoded data removed]",
      "text/plain": [
       "<Figure size 1500x800 with 1 Axes>"
      ]
     },
     "metadata": {},
     "output_type": "display_data"
    }
   ],
   "source": [
    "### 군집별 산점도 출력\n",
    "\n",
    "# 군집 값이 0, 1, 2, 3, 4인 경우마다 별도의 인덱스로 추출\n",
    "marker0_ind = bunsik_std[bunsik_std['cluster'] == 0].index\n",
    "marker1_ind = bunsik_std[bunsik_std['cluster'] == 1].index\n",
    "marker2_ind = bunsik_std[bunsik_std['cluster'] == 2].index\n",
    "marker3_ind = bunsik_std[bunsik_std['cluster'] == 3].index\n",
    "marker4_ind = bunsik_std[bunsik_std['cluster'] == 4].index\n",
    "\n",
    "\n",
    "# 군집 값 0, 1, 2, 3, 4에 해당하는 인덱스로 각 군집 레벨의 pca_x, pca_y 값 추출. 마커 표시\n",
    "plt.figure(figsize = (15,8))\n",
    "\n",
    "plt.scatter(x = bunsik_std.loc[marker0_ind,'pca_x'],y = bunsik_std.loc[marker0_ind,'pca_y'],marker='o')\n",
    "plt.scatter(x = bunsik_std.loc[marker1_ind,'pca_x'],y = bunsik_std.loc[marker1_ind,'pca_y'], marker='s')\n",
    "plt.scatter(x = bunsik_std.loc[marker2_ind,'pca_x'],y = bunsik_std.loc[marker2_ind,'pca_y'], marker='^')\n",
    "plt.scatter(x = bunsik_std.loc[marker3_ind,'pca_x'],y = bunsik_std.loc[marker3_ind,'pca_y'], marker='+')\n",
    "plt.scatter(x = bunsik_std.loc[marker4_ind,'pca_x'],y = bunsik_std.loc[marker4_ind,'pca_y'], marker='x')\n",
    "\n",
    "plt.legend(['Cluster0','Cluster1','Cluster2','Cluster3','Cluster4'],fontsize = 15)\n",
    "plt.xlabel('PCA 1',size = 20)\n",
    "plt.ylabel('PCA 2',size = 20)\n",
    "plt.title('GMM')\n",
    "plt.show()"
   ]
  },
  {
   "cell_type": "code",
   "execution_count": 64,
   "id": "56a4078e",
   "metadata": {},
   "outputs": [
    {
     "name": "stdout",
     "output_type": "stream",
     "text": [
      "군집0: ['광진구', '마포구', '영등포구', '중랑구']\n",
      "\n",
      "군집1: ['강북구', '금천구', '도봉구', '동대문구', '동작구', '서대문구', '성동구', '용산구', '종로구', '중구']\n",
      "\n",
      "군집2: ['강남구', '서초구', '송파구']\n",
      "\n",
      "군집3: ['강동구', '관악구', '구로구', '성북구', '양천구', '은평구']\n",
      "\n",
      "군집4: ['강서구', '노원구']\n",
      "\n"
     ]
    }
   ],
   "source": [
    "### 각 군집에 해당하는 행정구 확인하기\n",
    "\n",
    "group0 = list(bunsik_std.loc[bunsik_std['cluster'] == 0,'행정구'])\n",
    "print(\"군집0: \"+ str(group0))\n",
    "print()\n",
    "\n",
    "group1 = list(bunsik_std.loc[bunsik_std['cluster'] == 1,'행정구'])\n",
    "print(\"군집1: \"+ str(group1))\n",
    "print()\n",
    "\n",
    "group2 = list(bunsik_std.loc[bunsik_std['cluster'] == 2,'행정구'])\n",
    "print(\"군집2: \"+ str(group2))\n",
    "print()\n",
    "\n",
    "group3 = list(bunsik_std.loc[bunsik_std['cluster'] == 3,'행정구'])\n",
    "print(\"군집3: \"+ str(group3))\n",
    "print()\n",
    "\n",
    "group4 = list(bunsik_std.loc[bunsik_std['cluster'] == 4,'행정구'])\n",
    "print(\"군집4: \"+ str(group4))\n",
    "print()"
   ]
  },
  {
   "cell_type": "markdown",
   "id": "8b7ee7b5",
   "metadata": {},
   "source": [
    "### **5-3. 군집화 평가**"
   ]
  },
  {
   "cell_type": "markdown",
   "id": "fe135754",
   "metadata": {},
   "source": [
    "- 가우시안 혼합에서는 클러스터가 타원형이며 크기가 다르므로 관성(이너셔)이나 실루엣 점수를 사용하기 힘들다.\n",
    "    > Davies-Boudlin Index만을 활용"
   ]
  },
  {
   "cell_type": "markdown",
   "id": "4161f840",
   "metadata": {},
   "source": [
    "#### **Davies Bouldin Index**"
   ]
  },
  {
   "cell_type": "code",
   "execution_count": 65,
   "id": "2b561628",
   "metadata": {},
   "outputs": [
    {
     "name": "stdout",
     "output_type": "stream",
     "text": [
      "Davies Bouldin Index: 1.315\n"
     ]
    }
   ],
   "source": [
    "### Davies Bouldin Index 값 구하기\n",
    "\n",
    "dbi = davies_bouldin_score(bunsik_std.iloc[:,1:-3],bunsik_std['cluster'])\n",
    "print(\"Davies Bouldin Index: {0:.3f}\".format(dbi))"
   ]
  },
  {
   "cell_type": "markdown",
   "id": "bf015484",
   "metadata": {},
   "source": [
    "# **6. 베이즈 가우시안 혼합 모델**"
   ]
  },
  {
   "cell_type": "markdown",
   "id": "63dda897",
   "metadata": {},
   "source": [
    "### **6-1. 베이즈 가우시안 군집화 수행**"
   ]
  },
  {
   "cell_type": "code",
   "execution_count": 66,
   "id": "ac883dcd",
   "metadata": {},
   "outputs": [],
   "source": [
    "### 필요한 라이브러리 import\n",
    "\n",
    "from sklearn.mixture import BayesianGaussianMixture"
   ]
  },
  {
   "cell_type": "code",
   "execution_count": 67,
   "id": "849568d6",
   "metadata": {},
   "outputs": [
    {
     "data": {
      "text/html": [
       "<div>\n",
       "<style scoped>\n",
       "    .dataframe tbody tr th:only-of-type {\n",
       "        vertical-align: middle;\n",
       "    }\n",
       "\n",
       "    .dataframe tbody tr th {\n",
       "        vertical-align: top;\n",
       "    }\n",
       "\n",
       "    .dataframe thead th {\n",
       "        text-align: right;\n",
       "    }\n",
       "</style>\n",
       "<table border=\"1\" class=\"dataframe\">\n",
       "  <thead>\n",
       "    <tr style=\"text-align: right;\">\n",
       "      <th></th>\n",
       "      <th>행정구</th>\n",
       "      <th>분식</th>\n",
       "      <th>총생활인구수_평일</th>\n",
       "      <th>40~50대 생활인구_평일</th>\n",
       "      <th>대학교(전체)</th>\n",
       "      <th>초중고(전체)</th>\n",
       "      <th>고등학교</th>\n",
       "      <th>평균소득금액</th>\n",
       "      <th>폐업점포영업개월</th>\n",
       "      <th>10대</th>\n",
       "      <th>총인구</th>\n",
       "      <th>역(전체)</th>\n",
       "    </tr>\n",
       "  </thead>\n",
       "  <tbody>\n",
       "    <tr>\n",
       "      <th>0</th>\n",
       "      <td>강남구</td>\n",
       "      <td>2.705121</td>\n",
       "      <td>2.478028</td>\n",
       "      <td>2.619554</td>\n",
       "      <td>-0.544698</td>\n",
       "      <td>1.379286</td>\n",
       "      <td>1.782464</td>\n",
       "      <td>2.987365</td>\n",
       "      <td>-1.262784</td>\n",
       "      <td>2.137795</td>\n",
       "      <td>1.198274</td>\n",
       "      <td>2.580687</td>\n",
       "    </tr>\n",
       "    <tr>\n",
       "      <th>1</th>\n",
       "      <td>강동구</td>\n",
       "      <td>0.528200</td>\n",
       "      <td>0.688516</td>\n",
       "      <td>0.709173</td>\n",
       "      <td>-1.605932</td>\n",
       "      <td>0.437794</td>\n",
       "      <td>0.232495</td>\n",
       "      <td>0.630396</td>\n",
       "      <td>-0.971493</td>\n",
       "      <td>0.615839</td>\n",
       "      <td>0.626343</td>\n",
       "      <td>-0.577496</td>\n",
       "    </tr>\n",
       "    <tr>\n",
       "      <th>2</th>\n",
       "      <td>강북구</td>\n",
       "      <td>-0.855104</td>\n",
       "      <td>-1.168249</td>\n",
       "      <td>-1.177162</td>\n",
       "      <td>-0.544698</td>\n",
       "      <td>-1.092131</td>\n",
       "      <td>-1.123727</td>\n",
       "      <td>-1.122244</td>\n",
       "      <td>-0.971493</td>\n",
       "      <td>-0.727745</td>\n",
       "      <td>-0.719299</td>\n",
       "      <td>-0.727886</td>\n",
       "    </tr>\n",
       "  </tbody>\n",
       "</table>\n",
       "</div>"
      ],
      "text/plain": [
       "   행정구        분식  총생활인구수_평일  40~50대 생활인구_평일   대학교(전체)   초중고(전체)      고등학교  \\\n",
       "0  강남구  2.705121   2.478028        2.619554 -0.544698  1.379286  1.782464   \n",
       "1  강동구  0.528200   0.688516        0.709173 -1.605932  0.437794  0.232495   \n",
       "2  강북구 -0.855104  -1.168249       -1.177162 -0.544698 -1.092131 -1.123727   \n",
       "\n",
       "     평균소득금액  폐업점포영업개월       10대       총인구     역(전체)  \n",
       "0  2.987365 -1.262784  2.137795  1.198274  2.580687  \n",
       "1  0.630396 -0.971493  0.615839  0.626343 -0.577496  \n",
       "2 -1.122244 -0.971493 -0.727745 -0.719299 -0.727886  "
      ]
     },
     "execution_count": 67,
     "metadata": {},
     "output_type": "execute_result"
    }
   ],
   "source": [
    "### 데이터 다시 준비\n",
    "\n",
    "feature_df = df_bunsik.iloc[:,1:] # 로그 변환은 진행됨\n",
    "\n",
    "scaler = StandardScaler()\n",
    "bunsik_std = pd.DataFrame(scaler.fit_transform(feature_df),columns = feature_df.columns)\n",
    "\n",
    "# 결과 확인을 위해 행정구,행정동 컬럼 결합\n",
    "bunsik_std = pd.concat([pd.DataFrame(df_bunsik['행정구']),bunsik_std],axis = 1)\n",
    "bunsik_std.head(3) # 표준화된 데이터 확인"
   ]
  },
  {
   "cell_type": "code",
   "execution_count": 68,
   "id": "b7a87095",
   "metadata": {},
   "outputs": [
    {
     "name": "stdout",
     "output_type": "stream",
     "text": [
      "[0.08 0.07 0.07 0.07 0.06 0.06 0.06 0.06 0.05 0.05 0.05 0.04 0.04 0.04\n",
      " 0.03 0.03 0.03 0.02 0.02 0.02 0.02 0.01 0.01 0.01 0.  ]\n"
     ]
    },
    {
     "data": {
      "text/plain": [
       "24"
      ]
     },
     "execution_count": 68,
     "metadata": {},
     "output_type": "execute_result"
    }
   ],
   "source": [
    "### 군집화 수행\n",
    "\n",
    "bgm = BayesianGaussianMixture(n_components = 25, n_init = 10,random_state = 0)\n",
    "bgm.fit(bunsik_std.iloc[:,2:])\n",
    "print(np.round(bgm.weights_,2))\n",
    "\n",
    "# 최적 클러스터 개수 확인\n",
    "n_clusters_ = (np.round(bgm.weights_,2) > 0).sum()\n",
    "n_clusters_"
   ]
  },
  {
   "cell_type": "markdown",
   "id": "066399ed",
   "metadata": {},
   "source": [
    "- 너무 많은 군집으로 나누어진다.\n",
    "- 이하 생략.."
   ]
  },
  {
   "cell_type": "markdown",
   "id": "15f5d179",
   "metadata": {},
   "source": [
    "# **7. DBSCAN**"
   ]
  },
  {
   "cell_type": "markdown",
   "id": "c394e1f3",
   "metadata": {},
   "source": [
    "### **7-1. 최적 파라미터 탐색**"
   ]
  },
  {
   "cell_type": "code",
   "execution_count": 69,
   "id": "3ec6ec13",
   "metadata": {},
   "outputs": [],
   "source": [
    "### 필요한 라이브러리 import\n",
    "\n",
    "from sklearn.cluster import DBSCAN\n",
    "from sklearn.neighbors import NearestNeighbors"
   ]
  },
  {
   "cell_type": "code",
   "execution_count": 70,
   "id": "1254ea0a",
   "metadata": {},
   "outputs": [
    {
     "data": {
      "text/html": [
       "<div>\n",
       "<style scoped>\n",
       "    .dataframe tbody tr th:only-of-type {\n",
       "        vertical-align: middle;\n",
       "    }\n",
       "\n",
       "    .dataframe tbody tr th {\n",
       "        vertical-align: top;\n",
       "    }\n",
       "\n",
       "    .dataframe thead th {\n",
       "        text-align: right;\n",
       "    }\n",
       "</style>\n",
       "<table border=\"1\" class=\"dataframe\">\n",
       "  <thead>\n",
       "    <tr style=\"text-align: right;\">\n",
       "      <th></th>\n",
       "      <th>행정구</th>\n",
       "      <th>분식</th>\n",
       "      <th>총생활인구수_평일</th>\n",
       "      <th>40~50대 생활인구_평일</th>\n",
       "      <th>대학교(전체)</th>\n",
       "      <th>초중고(전체)</th>\n",
       "      <th>고등학교</th>\n",
       "      <th>평균소득금액</th>\n",
       "      <th>폐업점포영업개월</th>\n",
       "      <th>10대</th>\n",
       "      <th>총인구</th>\n",
       "      <th>역(전체)</th>\n",
       "    </tr>\n",
       "  </thead>\n",
       "  <tbody>\n",
       "    <tr>\n",
       "      <th>0</th>\n",
       "      <td>강남구</td>\n",
       "      <td>2.705121</td>\n",
       "      <td>2.478028</td>\n",
       "      <td>2.619554</td>\n",
       "      <td>-0.544698</td>\n",
       "      <td>1.379286</td>\n",
       "      <td>1.782464</td>\n",
       "      <td>2.987365</td>\n",
       "      <td>-1.262784</td>\n",
       "      <td>2.137795</td>\n",
       "      <td>1.198274</td>\n",
       "      <td>2.580687</td>\n",
       "    </tr>\n",
       "    <tr>\n",
       "      <th>1</th>\n",
       "      <td>강동구</td>\n",
       "      <td>0.528200</td>\n",
       "      <td>0.688516</td>\n",
       "      <td>0.709173</td>\n",
       "      <td>-1.605932</td>\n",
       "      <td>0.437794</td>\n",
       "      <td>0.232495</td>\n",
       "      <td>0.630396</td>\n",
       "      <td>-0.971493</td>\n",
       "      <td>0.615839</td>\n",
       "      <td>0.626343</td>\n",
       "      <td>-0.577496</td>\n",
       "    </tr>\n",
       "    <tr>\n",
       "      <th>2</th>\n",
       "      <td>강북구</td>\n",
       "      <td>-0.855104</td>\n",
       "      <td>-1.168249</td>\n",
       "      <td>-1.177162</td>\n",
       "      <td>-0.544698</td>\n",
       "      <td>-1.092131</td>\n",
       "      <td>-1.123727</td>\n",
       "      <td>-1.122244</td>\n",
       "      <td>-0.971493</td>\n",
       "      <td>-0.727745</td>\n",
       "      <td>-0.719299</td>\n",
       "      <td>-0.727886</td>\n",
       "    </tr>\n",
       "  </tbody>\n",
       "</table>\n",
       "</div>"
      ],
      "text/plain": [
       "   행정구        분식  총생활인구수_평일  40~50대 생활인구_평일   대학교(전체)   초중고(전체)      고등학교  \\\n",
       "0  강남구  2.705121   2.478028        2.619554 -0.544698  1.379286  1.782464   \n",
       "1  강동구  0.528200   0.688516        0.709173 -1.605932  0.437794  0.232495   \n",
       "2  강북구 -0.855104  -1.168249       -1.177162 -0.544698 -1.092131 -1.123727   \n",
       "\n",
       "     평균소득금액  폐업점포영업개월       10대       총인구     역(전체)  \n",
       "0  2.987365 -1.262784  2.137795  1.198274  2.580687  \n",
       "1  0.630396 -0.971493  0.615839  0.626343 -0.577496  \n",
       "2 -1.122244 -0.971493 -0.727745 -0.719299 -0.727886  "
      ]
     },
     "execution_count": 70,
     "metadata": {},
     "output_type": "execute_result"
    }
   ],
   "source": [
    "### 데이터 다시 준비\n",
    "\n",
    "feature_df = df_bunsik.iloc[:,1:] # 로그 변환은 진행됨\n",
    "\n",
    "scaler = StandardScaler()\n",
    "bunsik_std = pd.DataFrame(scaler.fit_transform(feature_df),columns = feature_df.columns)\n",
    "\n",
    "# 결과 확인을 위해 행정구,행정동 컬럼 결합\n",
    "bunsik_std = pd.concat([pd.DataFrame(df_bunsik['행정구']),bunsik_std],axis = 1)\n",
    "bunsik_std.head(3) # 표준화된 데이터 확인"
   ]
  },
  {
   "cell_type": "markdown",
   "id": "dc385d1d",
   "metadata": {},
   "source": [
    "#### **✔ Eps 구하기**"
   ]
  },
  {
   "cell_type": "code",
   "execution_count": 71,
   "id": "6304aed4",
   "metadata": {},
   "outputs": [
    {
     "data": {
      "image/png": "[encoded data removed]",
      "text/plain": [
       "<Figure size 700x300 with 1 Axes>"
      ]
     },
     "metadata": {},
     "output_type": "display_data"
    }
   ],
   "source": [
    "### K-dist 계산\n",
    "# 유클리디안(euclidean) 거리\n",
    "\n",
    "neigh = NearestNeighbors(n_neighbors = 2) # 두 개의 데이터, 1개의 거리\n",
    "nbrs = neigh.fit(bunsik_std.iloc[:,1:])\n",
    "# 각 개체마다 거리를 계산해서 거리와 그 떄의 index 반환\n",
    "distances, indices = nbrs.kneighbors(bunsik_std.iloc[:,1:]) \n",
    "\n",
    "# 거리 정렬\n",
    "distances = np.sort(distances, axis = 0)\n",
    "distances = distances[:,1]\n",
    "\n",
    "### Plotting\n",
    "plt.figure(figsize = (7,3))\n",
    "plt.plot(distances)\n",
    "plt.axvline(x = 6, color = 'g', lw = 2, ls='--')\n",
    "plt.axhline(y = 1.7, color = 'g', lw = 2, ls='--')\n",
    "plt.scatter(6,1.7,marker = '*',color = 'r',s = 500)\n",
    "plt.ylabel('distance(= eps)',fontsize = 15)\n",
    "plt.show()"
   ]
  },
  {
   "cell_type": "markdown",
   "id": "8992f054",
   "metadata": {},
   "source": [
    "- 급격히 dist가 증가한 지점의 distance인 **1.7**를 **eps**로 설정"
   ]
  },
  {
   "cell_type": "markdown",
   "id": "ab719b74",
   "metadata": {},
   "source": [
    "### **7-2. DBSCAN 군집화 수행**"
   ]
  },
  {
   "cell_type": "markdown",
   "id": "ff7314cb",
   "metadata": {},
   "source": [
    "- eps = 1.7\n",
    "- min_points를 2로 설정\n",
    "- min_sample = 3(min points + 1)"
   ]
  },
  {
   "cell_type": "code",
   "execution_count": 72,
   "id": "c653c2f8",
   "metadata": {},
   "outputs": [
    {
     "name": "stdout",
     "output_type": "stream",
     "text": [
      "cluster labels 유형:  [-1  0]\n"
     ]
    }
   ],
   "source": [
    "### DBSCAN 군집화 수행\n",
    "\n",
    "dbscan = DBSCAN(eps = 1.7, min_samples = 3, metric = 'euclidean')\n",
    "dbscan_labels = dbscan.fit_predict(bunsik_std.iloc[:,1:])\n",
    "print('cluster labels 유형: ',np.unique(dbscan_labels))"
   ]
  },
  {
   "cell_type": "markdown",
   "id": "dcf921ab",
   "metadata": {},
   "source": [
    "- 단일 군집으로 군집화되는 것을 확인할 수 있다.\n",
    "- 이하 생략.."
   ]
  },
  {
   "cell_type": "markdown",
   "id": "781993dd",
   "metadata": {},
   "source": [
    "# **8. 결과 정리**"
   ]
  },
  {
   "cell_type": "code",
   "execution_count": 73,
   "id": "c6e82df7",
   "metadata": {},
   "outputs": [
    {
     "data": {
      "text/html": [
       "<div>\n",
       "<style scoped>\n",
       "    .dataframe tbody tr th:only-of-type {\n",
       "        vertical-align: middle;\n",
       "    }\n",
       "\n",
       "    .dataframe tbody tr th {\n",
       "        vertical-align: top;\n",
       "    }\n",
       "\n",
       "    .dataframe thead th {\n",
       "        text-align: right;\n",
       "    }\n",
       "</style>\n",
       "<table border=\"1\" class=\"dataframe\">\n",
       "  <thead>\n",
       "    <tr style=\"text-align: right;\">\n",
       "      <th></th>\n",
       "      <th>Algorithm</th>\n",
       "      <th>실루엣 점수</th>\n",
       "      <th>DBI</th>\n",
       "    </tr>\n",
       "  </thead>\n",
       "  <tbody>\n",
       "    <tr>\n",
       "      <th>0</th>\n",
       "      <td>GMM</td>\n",
       "      <td>-</td>\n",
       "      <td>1.309</td>\n",
       "    </tr>\n",
       "    <tr>\n",
       "      <th>1</th>\n",
       "      <td>베이즈 가우시안</td>\n",
       "      <td>-</td>\n",
       "      <td>-</td>\n",
       "    </tr>\n",
       "    <tr>\n",
       "      <th>2</th>\n",
       "      <td>DBSCAN</td>\n",
       "      <td>-</td>\n",
       "      <td>-</td>\n",
       "    </tr>\n",
       "    <tr>\n",
       "      <th>3</th>\n",
       "      <td>평균 이동</td>\n",
       "      <td>0.385</td>\n",
       "      <td>0.993</td>\n",
       "    </tr>\n",
       "    <tr>\n",
       "      <th>4</th>\n",
       "      <td>병합 군집</td>\n",
       "      <td>0.307</td>\n",
       "      <td>1.178</td>\n",
       "    </tr>\n",
       "    <tr>\n",
       "      <th>5</th>\n",
       "      <td>K-Means</td>\n",
       "      <td>0.217</td>\n",
       "      <td>1.192</td>\n",
       "    </tr>\n",
       "  </tbody>\n",
       "</table>\n",
       "</div>"
      ],
      "text/plain": [
       "  Algorithm 실루엣 점수    DBI\n",
       "0       GMM      -  1.309\n",
       "1  베이즈 가우시안      -      -\n",
       "2    DBSCAN      -      -\n",
       "3     평균 이동  0.385  0.993\n",
       "4     병합 군집  0.307  1.178\n",
       "5   K-Means  0.217  1.192"
      ]
     },
     "execution_count": 73,
     "metadata": {},
     "output_type": "execute_result"
    }
   ],
   "source": [
    "result = [['K-Means',0.218,1.191],\n",
    "         ['평균 이동',0.385,0.972],\n",
    "         ['병합 군집',0.308,1.148],\n",
    "         ['GMM','-',1.315],\n",
    "         ['베이즈 가우시안','-','-'],\n",
    "         ['DBSCAN','-','-']]\n",
    "cols = ['Algorithm','실루엣 점수','DBI']\n",
    "result_df = pd.DataFrame(result,columns = cols)\n",
    "result_df.sort_values(by = ['실루엣 점수','DBI'],ascending = [False, True]).reset_index(drop = True)"
   ]
  },
  {
   "cell_type": "markdown",
   "id": "ff04eae1",
   "metadata": {},
   "source": [
    "- **평균 이동** 군집화 결과가 가장 유의미하다고 판단된다."
   ]
  }
 ],
 "metadata": {
  "kernelspec": {
   "display_name": "Python 3 (ipykernel)",
   "language": "python",
   "name": "python3"
  },
  "language_info": {
   "codemirror_mode": {
    "name": "ipython",
    "version": 3
   },
   "file_extension": ".py",
   "mimetype": "text/x-python",
   "name": "python",
   "nbconvert_exporter": "python",
   "pygments_lexer": "ipython3",
   "version": "3.7.7"
  }
 },
 "nbformat": 4,
 "nbformat_minor": 5
}
