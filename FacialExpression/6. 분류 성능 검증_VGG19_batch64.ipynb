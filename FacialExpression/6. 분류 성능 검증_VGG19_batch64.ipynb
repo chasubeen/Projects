{
 "cells": [
  {
   "cell_type": "code",
   "execution_count": null,
   "id": "7ebaad9f",
   "metadata": {},
   "outputs": [],
   "source": [
    "### 필요한 라이브러리 준비\n",
    "\n",
    "import torch\n",
    "import pandas as pd\n",
    "import numpy as np\n",
    "import matplotlib.pyplot as plt\n",
    "import os\n",
    "import cv2\n",
    "import copy\n",
    "\n",
    "from torch import nn\n",
    "from torch.utils.data import Dataset, DataLoader\n",
    "from torchvision import transforms, models\n",
    "from ipywidgets import interact"
   ]
  },
  {
   "cell_type": "code",
   "execution_count": null,
   "id": "14eff388",
   "metadata": {},
   "outputs": [],
   "source": [
    "test_data_dir = './DataSet/archive/test'\n",
    "\n",
    "# 분류에 사용할 class 정의(7개의 감정들)\n",
    "feelings_list = ['angry', 'disgust', 'fear', 'happy', 'neutral', 'sad', 'surprise']"
   ]
  },
  {
   "cell_type": "code",
   "execution_count": null,
   "id": "b202728c",
   "metadata": {},
   "outputs": [],
   "source": [
    "IMAGE_SIZE = 48\n",
    "\n",
    "### 이미지 파일 경로를 리스트 형태로 저장하기 위한 함수\n",
    "def list_image_file(data_dir,sub_dir):\n",
    "    image_files = []\n",
    "    \n",
    "    images_dir = os.path.join(data_dir,sub_dir)\n",
    "    for file_path in os.listdir(images_dir):\n",
    "        image_files.append(os.path.join(sub_dir,file_path))\n",
    "    return image_files"
   ]
  },
  {
   "cell_type": "code",
   "execution_count": null,
   "id": "6d145b78",
   "metadata": {},
   "outputs": [],
   "source": [
    "test_angry_imgs = list_image_file(test_data_dir,'angry')\n",
    "test_disgust_imgs = list_image_file(test_data_dir,'disgust')\n",
    "test_fear_imgs = list_image_file(test_data_dir,'fear')\n",
    "test_happy_imgs = list_image_file(test_data_dir,'happy')\n",
    "test_neutral_imgs = list_image_file(test_data_dir,'neutral')\n",
    "test_sad_imgs = list_image_file(test_data_dir,'sad')\n",
    "test_surprise_imgs = list_image_file(test_data_dir,'surprise')"
   ]
  },
  {
   "cell_type": "code",
   "execution_count": null,
   "id": "9be3df1c",
   "metadata": {},
   "outputs": [],
   "source": [
    "### 테스트 이미지 전처리\n",
    "\n",
    "def preprocess_image(image):\n",
    "    transformer = transforms.Compose([\n",
    "        transforms.ToTensor(),\n",
    "        transforms.Resize((224, 224)),\n",
    "        transforms.Normalize(mean = [0.5, 0.5, 0.5], std = [0.5, 0.5, 0.5])\n",
    "    ])\n",
    "    \n",
    "    tensor_image = transformer(image) # image: (C,H,W)\n",
    "    tensor_image = tensor_image.unsqueeze(0) # (B(batch),C,H,W)\n",
    "    \n",
    "    return tensor_image"
   ]
  },
  {
   "cell_type": "code",
   "execution_count": null,
   "id": "54aed5dd",
   "metadata": {},
   "outputs": [],
   "source": [
    "### 예측을 위한 함수\n",
    "\n",
    "def model_predict(image,model):\n",
    "    tensor_image = preprocess_image(image) # 이미지(feature data)\n",
    "    prediction = model(tensor_image) # 예측\n",
    "    \n",
    "    _, pred_label1 = torch.max(prediction.detach(),dim = 1) # dim = 1 : 1차원으로 이미지를 가져오겠다.\n",
    "    print('pred_label1: ',pred_label1)\n",
    "    \n",
    "    pred_label = pred_label1.squeeze(0) # 차원 증가\n",
    "    print('pred_label2: ',pred_label)\n",
    "    \n",
    "    return pred_label.item() "
   ]
  },
  {
   "cell_type": "code",
   "execution_count": null,
   "id": "24d96c71",
   "metadata": {},
   "outputs": [],
   "source": [
    "### 학습된 모델 불러오기\n",
    "\n",
    "ckpt = torch.load('./best_model/model22_gpu.pth')\n",
    "\n",
    "model = build_vgg19_based_model()\n",
    "model.load_state_dict(ckpt)\n",
    "model.eval()"
   ]
  },
  {
   "cell_type": "code",
   "execution_count": null,
   "id": "e331fa64",
   "metadata": {},
   "outputs": [],
   "source": [
    "### 이미지 파일을 RGB 3차원 배열로 가져오는 함수\n",
    "\n",
    "def get_RGB_image(data_dir,file_name):\n",
    "    image_file = os.path.join(data_dir,file_name) # 이미지 경로 설정\n",
    "    image = cv2.imread(image_file) # 이미지 열기\n",
    "    image = cv2.cvtColor(image,cv2.COLOR_BGR2RGB) # BGR -> RGB\n",
    "    \n",
    "    return image"
   ]
  },
  {
   "cell_type": "code",
   "execution_count": null,
   "id": "424e74b3",
   "metadata": {},
   "outputs": [],
   "source": [
    "# 가장 개수가 적은 감정에 개수 맞추기\n",
    "\n",
    "min_num_files = min(len(test_angry_imgs), len(test_disgust_imgs), len(test_fear_imgs),len(test_happy_imgs),\n",
    "                    len(test_neutral_imgs),len(test_sad_imgs),len(test_surprise_imgs))"
   ]
  },
  {
   "cell_type": "code",
   "execution_count": null,
   "id": "8a9dd58e",
   "metadata": {},
   "outputs": [],
   "source": [
    "### 예측 결과 시각화\n",
    "\n",
    "@interact(index = (0, min_num_files - 1))\n",
    "def show_result(index = 0):\n",
    "    angry_image = get_RGB_image(test_data_dir, test_angry_imgs[index])\n",
    "    disgust_image = get_RGB_image(test_data_dir, test_disgust_imgs[index])\n",
    "    fear_image = get_RGB_image(test_data_dir, test_fear_imgs[index])\n",
    "    happy_image = get_RGB_image(test_data_dir, test_happy_imgs[index])\n",
    "    neutral_image = get_RGB_image(test_data_dir, test_neutral_imgs[index])\n",
    "    sad_image = get_RGB_image(test_data_dir, test_sad_imgs[index])\n",
    "    surprise_image = get_RGB_image(test_data_dir, test_surprise_imgs[index])\n",
    "    \n",
    "    prediction_1 = model_predict(angry_image, model)\n",
    "    prediction_2 = model_predict(disgust_image, model)\n",
    "    prediction_3 = model_predict(fear_image, model)\n",
    "    prediction_4 = model_predict(happy_image, model)\n",
    "    prediction_5 = model_predict(neutral_image, model)\n",
    "    prediction_6 = model_predict(sad_image, model)\n",
    "    prediction_7 = model_predict(surprise_image, model)\n",
    "    \n",
    "    \n",
    "    plt.figure(figsize=(21, 15))\n",
    "    plt.subplot(141)\n",
    "    plt.title(f'Pred: {feelings_list[prediction_1]} | GT: Angry')\n",
    "    plt.imshow(angry_image)\n",
    "    \n",
    "    plt.subplot(142)\n",
    "    plt.title(f'Pred: {feelings_list[prediction_2]} | GT: Disgust')\n",
    "    plt.imshow(disgust_image)\n",
    "    \n",
    "    plt.subplot(143)\n",
    "    plt.title(f'Pred: {feelings_list[prediction_3]} | GT: Fear')\n",
    "    plt.imshow(fear_image)\n",
    "    \n",
    "    plt.subplot(144)\n",
    "    plt.title(f'Pred: {feelings_list[prediction_4]} | GT: Happy')\n",
    "    plt.imshow(happy_image)\n",
    "    \n",
    "    plt.subplot(241)\n",
    "    plt.title(f'Pred: {feelings_list[prediction_5]} | GT: Neutral')\n",
    "    plt.imshow(neutral_image)\n",
    "    \n",
    "    plt.subplot(242)\n",
    "    plt.title(f'Pred: {feelings_list[prediction_6]} | GT: Sad')\n",
    "    plt.imshow(sad_image)\n",
    "    \n",
    "    plt.subplot(243)\n",
    "    plt.title(f'Pred: {feelings_list[prediction_7]} | GT: Surprise')\n",
    "    plt.imshow(surprise_image)\n",
    "    \n",
    "    plt.tight_layout()"
   ]
  }
 ],
 "metadata": {
  "kernelspec": {
   "display_name": "Python 3 (ipykernel)",
   "language": "python",
   "name": "python3"
  },
  "language_info": {
   "codemirror_mode": {
    "name": "ipython",
    "version": 3
   },
   "file_extension": ".py",
   "mimetype": "text/x-python",
   "name": "python",
   "nbconvert_exporter": "python",
   "pygments_lexer": "ipython3",
   "version": "3.7.7"
  }
 },
 "nbformat": 4,
 "nbformat_minor": 5
}
