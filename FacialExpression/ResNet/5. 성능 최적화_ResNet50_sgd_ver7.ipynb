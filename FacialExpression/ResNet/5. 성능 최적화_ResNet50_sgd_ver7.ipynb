{
 "cells": [
  {
   "cell_type": "markdown",
   "id": "90aa61b5",
   "metadata": {},
   "source": [
    "# **1. 데이터 차원**\n",
    "- 불균형 데이터에 대한 처리 부분 추가  \n",
    "  -> **가중 무작위 샘플링(Weighted Random Sampling)** 활용\n",
    "- Albumentation 적용"
   ]
  },
  {
   "cell_type": "markdown",
   "id": "a95c9b54",
   "metadata": {},
   "source": [
    "# **2. 알고리즘 차원**\n",
    "- 학습률(learning rate)\n",
    "    - Learning rate Scheduler 활용\n",
    "- 활성화 함수/손실함수\n",
    "    - 활성화 함수: softmax\n",
    "    - 손실 함수: CrossEntropyLoss --- 가중치 적용\n",
    "- 배치/ Epoch\n",
    "    - batch size: 128\n",
    "    - Epoch: 100\n",
    "    - EarlyStopping 적용\n",
    "      - 사용자 정의 모듈\n",
    "      - https://github.com/Bjarten/early-stopping-pytorch"
   ]
  },
  {
   "cell_type": "markdown",
   "id": "d89069eb",
   "metadata": {},
   "source": [
    "# **3. 하드웨어 차원**\n",
    "- gpu 활용"
   ]
  },
  {
   "cell_type": "code",
   "execution_count": 1,
   "id": "511168c4",
   "metadata": {},
   "outputs": [],
   "source": [
    "### 필요한 라이브러리 준비\n",
    "\n",
    "import torch\n",
    "import pandas as pd\n",
    "import numpy as np\n",
    "import matplotlib.pyplot as plt\n",
    "import os\n",
    "import cv2\n",
    "import copy\n",
    "import argparse\n",
    "\n",
    "from torch import nn\n",
    "from torch.utils.data import Dataset, DataLoader\n",
    "from torchvision import transforms, models\n",
    "from ipywidgets import interact\n",
    "from module.pytorchtools import EarlyStopping # 사용자 정의 모듈\n",
    "                                              # 외부 py파일을 모듈로 import하여 EarlyStopping 함수 사용"
   ]
  },
  {
   "cell_type": "code",
   "execution_count": 2,
   "id": "41ffb691",
   "metadata": {
    "scrolled": true
   },
   "outputs": [
    {
     "name": "stdout",
     "output_type": "stream",
     "text": [
      "1.12.1+cu116\n",
      "NVIDIA GeForce GTX 1660 SUPER\n"
     ]
    }
   ],
   "source": [
    "### gpu 장치 확인\n",
    "print(torch.__version__) \n",
    "print(torch.cuda.get_device_name(0))"
   ]
  },
  {
   "cell_type": "markdown",
   "id": "5e43f906",
   "metadata": {},
   "source": [
    "### **Random Sampling**"
   ]
  },
  {
   "cell_type": "code",
   "execution_count": 3,
   "id": "db13b43a",
   "metadata": {},
   "outputs": [],
   "source": [
    "### 가중치 함수\n",
    "\n",
    "def make_weights(df,classes):\n",
    "    weight_list = []   # 가중치를 저장하는 배열을 생성한다.\n",
    " \n",
    "    for c in classes:\n",
    "        count = len(df[df['emotion'] == str(c)]) #각 클래스의 데이터 수 카운트 \n",
    "        weight = 1 / count    \n",
    "        weights = [weight] * count    # 라벨이 뽑힐 가중치를 count의 역수로 동일하게 전체 라벨에 할당 \n",
    "        weight_list += weights\n",
    " \n",
    "    return weight_list"
   ]
  },
  {
   "cell_type": "code",
   "execution_count": 4,
   "id": "a04747fe",
   "metadata": {},
   "outputs": [],
   "source": [
    "### 데이터 가져오기\n",
    "train_data_dir = './DataSet/archive/train/'\n",
    "train_data_df = pd.read_csv(os.path.join(train_data_dir,'train.csv'))"
   ]
  },
  {
   "cell_type": "code",
   "execution_count": 5,
   "id": "5381c99c",
   "metadata": {},
   "outputs": [],
   "source": [
    "### 가중치 생성\n",
    "\n",
    "feelings_list = ['angry', 'disgust', 'fear', 'happy', 'neutral', 'sad', 'surprise']\n",
    "weights = make_weights(train_data_df,feelings_list)\n",
    "# print(weights)"
   ]
  },
  {
   "cell_type": "markdown",
   "id": "3bc18c93",
   "metadata": {},
   "source": [
    "### **DataLoader**"
   ]
  },
  {
   "cell_type": "code",
   "execution_count": 6,
   "id": "be5d8b00",
   "metadata": {},
   "outputs": [],
   "source": [
    "train_data_dir = './DataSet/archive/train/'\n",
    "train_data_df = pd.read_csv(os.path.join(train_data_dir,'train.csv'))\n",
    "\n",
    "# 분류에 사용할 class 정의(7개의 감정들)\n",
    "feelings_list = ['angry', 'disgust', 'fear', 'happy', 'neutral', 'sad', 'surprise']"
   ]
  },
  {
   "cell_type": "code",
   "execution_count": 7,
   "id": "965a7e85",
   "metadata": {},
   "outputs": [],
   "source": [
    "IMAGE_SIZE = 48\n",
    "\n",
    "### 이미지 파일 경로를 리스트 형태로 저장하기 위한 함수\n",
    "def list_image_file(data_dir,sub_dir):\n",
    "    image_files = []\n",
    "    \n",
    "    images_dir = os.path.join(data_dir,sub_dir)\n",
    "    for file_path in os.listdir(images_dir):\n",
    "        image_files.append(os.path.join(sub_dir,file_path))\n",
    "    return image_files"
   ]
  },
  {
   "cell_type": "code",
   "execution_count": 8,
   "id": "bc9ba21c",
   "metadata": {},
   "outputs": [],
   "source": [
    "### 학습 데이터셋 클래스\n",
    "\n",
    "class Feeling_dataset(Dataset):\n",
    "    ### 생성자\n",
    "    def __init__(self,data_dir,transform = None):\n",
    "        self.data_dir = data_dir # 데이터가 저장된 상위 directory\n",
    "        angry_imgs = list_image_file(data_dir,'angry')\n",
    "        disgust_imgs = list_image_file(data_dir,'disgust')\n",
    "        fear_imgs = list_image_file(data_dir,'fear')\n",
    "        happy_imgs = list_image_file(data_dir,'happy')\n",
    "        neutral_imgs = list_image_file(data_dir,'neutral')\n",
    "        sad_imgs = list_image_file(data_dir,'sad')\n",
    "        surprise_imgs = list_image_file(data_dir,'surprise')\n",
    "        \n",
    "        # 모든 사진들의 경로를 하나의 리스트에 저장\n",
    "        self.files_path = angry_imgs + disgust_imgs + fear_imgs + happy_imgs + neutral_imgs + sad_imgs + surprise_imgs\n",
    "        self.transform = transform\n",
    "    \n",
    "    ### 데이터 개수 확인\n",
    "    def __len__(self):\n",
    "        return len(self.files_path) # 전체 데이터 개수\n",
    "    \n",
    "    ### getitem\n",
    "    def __getitem__(self,index):\n",
    "        # image(feature data)\n",
    "        image_file = os.path.join(self.data_dir,self.files_path[index])\n",
    "        image = cv2.imread(image_file)\n",
    "        image = cv2.resize(image,dsize = (IMAGE_SIZE,IMAGE_SIZE),interpolation = cv2.INTER_LINEAR)\n",
    "        image = cv2.cvtColor(image,cv2.COLOR_BGR2RGB)\n",
    "        \n",
    "        # feeling(target data)\n",
    "        target = feelings_list.index(self.files_path[index].split(os.sep)[0])\n",
    "        \n",
    "        if self.transform:\n",
    "            image = self.transform(image) # feature data에 대해서만 데이터 변형 수행\n",
    "            target = torch.Tensor([target]).long()\n",
    "            \n",
    "        return {'image':image,'target':target}"
   ]
  },
  {
   "cell_type": "code",
   "execution_count": 9,
   "id": "1f3fde09",
   "metadata": {},
   "outputs": [],
   "source": [
    "### Transformation\n",
    "\n",
    "# 학습 feature data 변환\n",
    "train_transformer = transforms.Compose([\n",
    "    transforms.ToPILImage(),\n",
    "    transforms.RandomHorizontalFlip(), # 수평으로 뒤집기\n",
    "    transforms.RandomVerticalFlip(), # 수직으로 뒤집기\n",
    "    transforms.ToTensor(), # 텐서로 변환\n",
    "    transforms.Normalize(mean = [0.485, 0.456, 0.406], std = [0.229, 0.224, 0.225]) # 정규화\n",
    "])\n",
    "\n",
    "# 검증 feature data 변환\n",
    "val_transformer = transforms.Compose([\n",
    "    transforms.ToTensor(), # 텐서로 변환\n",
    "    transforms.Normalize(mean = [0.485, 0.456, 0.406], std = [0.229, 0.224, 0.225]) # 정규화\n",
    "])"
   ]
  },
  {
   "cell_type": "code",
   "execution_count": 10,
   "id": "8c087452",
   "metadata": {},
   "outputs": [],
   "source": [
    "### 데이터로더 구현\n",
    "def build_dataloader(train_data_dir,val_data_dir):\n",
    "    dataloaders = {}\n",
    "    train_dset = Feeling_dataset(train_data_dir,train_transformer)\n",
    "    dataloaders['train'] = DataLoader(train_dset,batch_size = 128,shuffle = True,drop_last = True)\n",
    "    \n",
    "    val_dset = Feeling_dataset(val_data_dir,val_transformer)\n",
    "    dataloaders['val'] = DataLoader(val_dset,batch_size = 128,shuffle = False,drop_last = False)\n",
    "    \n",
    "    return dataloaders"
   ]
  },
  {
   "cell_type": "code",
   "execution_count": 11,
   "id": "30ce035f",
   "metadata": {},
   "outputs": [],
   "source": [
    "train_data_dir = './DataSet/archive/train/'\n",
    "val_data_dir = train_data_dir = './DataSet/archive/valid/'\n",
    "dataloaders = build_dataloader(train_data_dir,val_data_dir)"
   ]
  },
  {
   "cell_type": "markdown",
   "id": "07fd26bd",
   "metadata": {},
   "source": [
    "### **Modeling**"
   ]
  },
  {
   "cell_type": "code",
   "execution_count": 12,
   "id": "8b7ae64f",
   "metadata": {},
   "outputs": [],
   "source": [
    "from torchsummary import summary"
   ]
  },
  {
   "cell_type": "code",
   "execution_count": 13,
   "id": "eca7935b",
   "metadata": {},
   "outputs": [],
   "source": [
    "### 모델 생성 함수\n",
    "# 기존의 ResNet50 모델 호출 -> head 부분 수정\n",
    "def build_resnet50_based_model():\n",
    "    device = torch.device(\"cuda:0\" if torch.cuda.is_available() else \"cpu\")\n",
    "    \n",
    "    model = models.resnet50(pretrained = True) # 이미 학습된 resnet50 모델 불러오기\n",
    "    \n",
    "    # 일반 NN layer(FC layer)\n",
    "    model.avgpool = nn.AdaptiveAvgPool2d(output_size = (1,1))\n",
    "    model.fc = nn.Linear(2048,7) # 7개의 감정으로 분류\n",
    "    \n",
    "    return model.to(device)"
   ]
  },
  {
   "cell_type": "markdown",
   "id": "eae75459",
   "metadata": {},
   "source": [
    "### **Estimation**"
   ]
  },
  {
   "cell_type": "code",
   "execution_count": 14,
   "id": "d8b8eb25",
   "metadata": {},
   "outputs": [],
   "source": [
    "### 모델 검증을 위한 accuracy\n",
    "\n",
    "@torch.no_grad() \n",
    "def get_accuracy(image,target,model):\n",
    "    batch_size = image.shape[0] \n",
    "    prediction = model(image) # 예측 \n",
    "    _,pred_label = torch.max(prediction,dim = 1) # 예측이 어느 클래스에 속하는지 확률이 가장 높은 1개 선택\n",
    "    is_correct = (pred_label == target)\n",
    "    \n",
    "    return is_correct.cpu().numpy().sum() / batch_size"
   ]
  },
  {
   "cell_type": "markdown",
   "id": "a3f48844",
   "metadata": {},
   "source": [
    "### **Training**"
   ]
  },
  {
   "cell_type": "code",
   "execution_count": 15,
   "id": "c37532fc",
   "metadata": {},
   "outputs": [],
   "source": [
    "device = torch.device(\"cuda:0\" if torch.cuda.is_available() else \"cpu\")\n",
    "\n",
    "### Epoch을 1번 수행\n",
    "def train_one_epoch(dataloaders,model,optimizer,loss_func,device):\n",
    "    losses = {} # loss값 저장\n",
    "    accuracies = {} # 정확도 값 저장\n",
    "    \n",
    "    for tv in ['train','val']:\n",
    "        ### loss, accuracy를 계속 갱신\n",
    "        running_loss = 0.0\n",
    "        running_correct = 0\n",
    "        \n",
    "        if tv == 'train': # 학습\n",
    "            model.train()\n",
    "        else: # 검증\n",
    "            model.eval()\n",
    "        \n",
    "        for index,batch in enumerate(dataloaders[tv]):\n",
    "            image = batch['image'].to(device) # feature data(이미지)\n",
    "            target = batch['target'].squeeze(dim = 1).to(device) # label data(감정), 1차원으로 차원 축소 진행\n",
    "            \n",
    "            ### 역전파 적용\n",
    "            with torch.set_grad_enabled(tv == 'train'): \n",
    "                prediction = model(image) # label 예측\n",
    "                loss = loss_func(prediction,target) # loss값 계산\n",
    "                \n",
    "                if tv == 'train':\n",
    "                    optimizer.zero_grad() # 한 번의 학습 완료 -> gradient를 0으로 초기화\n",
    "                    loss.backward() # 역전파\n",
    "                    optimizer.step() # 가중치 업데이트\n",
    "                    \n",
    "            running_loss += loss.item()\n",
    "            running_correct += get_accuracy(image,target,model)\n",
    "            \n",
    "            if tv == 'train':\n",
    "                if index % 30 == 0:\n",
    "                    print(f\"{index}/{len(dataloaders['train'])} - Running loss: {loss.item()}\")\n",
    "        losses[tv] = running_loss / len(dataloaders[tv])\n",
    "        accuracies[tv] = running_correct / len(dataloaders[tv])\n",
    "    return losses, accuracies"
   ]
  },
  {
   "cell_type": "code",
   "execution_count": 16,
   "id": "cb3fd788",
   "metadata": {},
   "outputs": [],
   "source": [
    "### 학습이 잘 된 모델 저장\n",
    "def save_best_model(model_state,model_name,save_dir = './best_model'):\n",
    "    os.makedirs(save_dir,exist_ok = True) # 경로 존재 시 덮어쓰기, 없는 경우 새로 생성\n",
    "    torch.save(model_state,os.path.join(save_dir,model_name)) # 모델 저장"
   ]
  },
  {
   "cell_type": "code",
   "execution_count": 17,
   "id": "ab48c464",
   "metadata": {},
   "outputs": [],
   "source": [
    "### 가중 손실 함수\n",
    "\n",
    "def get_class_weights(df,classes):\n",
    "    cnt_lists = [] # 각 클래스의 데이터 수 저장\n",
    "    weight_list = []   # 가중치 배열\n",
    " \n",
    "    for c in classes:\n",
    "        count = len(df[df['emotion'] == str(c)]) # 각 클래스의 데이터 수 카운트 \n",
    "        cnt_lists.append(count)\n",
    "    \n",
    "    weights = [1-(x / sum(cnt_lists)) for x in cnt_lists]\n",
    "    class_weights = torch.cuda.FloatTensor(weights).to(device) # 가중치 설정\n",
    "    \n",
    "    return class_weights\n",
    "\n",
    "\n",
    "### 가중치 생성\n",
    "feelings_list = ['angry', 'disgust', 'fear', 'happy', 'neutral', 'sad', 'surprise']\n",
    "class_weights = get_class_weights(train_data_df,feelings_list)\n",
    "# print(class_weights)"
   ]
  },
  {
   "cell_type": "code",
   "execution_count": 18,
   "id": "ac16bd77",
   "metadata": {},
   "outputs": [
    {
     "name": "stderr",
     "output_type": "stream",
     "text": [
      "c:\\users\\bin\\appdata\\local\\programs\\python\\python38\\lib\\site-packages\\torchvision\\models\\_utils.py:208: UserWarning: The parameter 'pretrained' is deprecated since 0.13 and will be removed in 0.15, please use 'weights' instead.\n",
      "  warnings.warn(\n",
      "c:\\users\\bin\\appdata\\local\\programs\\python\\python38\\lib\\site-packages\\torchvision\\models\\_utils.py:223: UserWarning: Arguments other than a weight enum or `None` for 'weights' are deprecated since 0.13 and will be removed in 0.15. The current behavior is equivalent to passing `weights=ResNet50_Weights.IMAGENET1K_V1`. You can also use `weights=ResNet50_Weights.DEFAULT` to get the most up-to-date weights.\n",
      "  warnings.warn(msg)\n"
     ]
    }
   ],
   "source": [
    "device = torch.device(\"cuda:0\" if torch.cuda.is_available() else \"cpu\")\n",
    "\n",
    "### 경로 설정\n",
    "train_data_dir = './DataSet/archive/train/'\n",
    "val_data_dir = './DataSet/archive/valid/'\n",
    "\n",
    "### 필요한 요소들 준비\n",
    "dataloaders = build_dataloader(train_data_dir,val_data_dir)\n",
    "model = build_resnet50_based_model()\n",
    "loss_func = nn.CrossEntropyLoss(weight = class_weights, reduction = 'mean') # 가중 손실 함수\n",
    "optimizer = torch.optim.SGD(model.parameters(),lr = 1e-2,momentum = 0.9)\n",
    "scheduler = torch.optim.lr_scheduler.ReduceLROnPlateau(optimizer, mode = 'min', patience = 5, factor = 0.1,\n",
    "                                                       min_lr = 1e-10,verbose = True)  # lr scheduling\n",
    "early_stopping = EarlyStopping(patience = 10, verbose = False) # 조기 종료(사용자 정의 모듈)"
   ]
  },
  {
   "cell_type": "code",
   "execution_count": 19,
   "id": "1b285105",
   "metadata": {},
   "outputs": [
    {
     "name": "stdout",
     "output_type": "stream",
     "text": [
      "0/227 - Running loss: 1.9739084243774414\n",
      "30/227 - Running loss: 1.8439345359802246\n",
      "60/227 - Running loss: 1.4384163618087769\n",
      "90/227 - Running loss: 1.5073895454406738\n",
      "120/227 - Running loss: 1.322618007659912\n",
      "150/227 - Running loss: 1.394619345664978\n",
      "180/227 - Running loss: 1.3608605861663818\n",
      "210/227 - Running loss: 1.1744152307510376\n",
      "1/100-Train Loss:1.4735980060132063, Val Loss:1.2789219062903832\n",
      "1/100-Train Acc:0.5350702092511013, Val Acc:0.5078353302162478\n",
      "0/227 - Running loss: 1.1955022811889648\n",
      "30/227 - Running loss: 1.3236348628997803\n",
      "60/227 - Running loss: 1.1200345754623413\n",
      "90/227 - Running loss: 1.21686589717865\n",
      "120/227 - Running loss: 1.2476723194122314\n",
      "150/227 - Running loss: 1.0352492332458496\n",
      "180/227 - Running loss: 1.1849305629730225\n",
      "210/227 - Running loss: 0.9906342029571533\n",
      "2/100-Train Loss:1.1658069118529164, Val Loss:1.1246944028755714\n",
      "2/100-Train Acc:0.6071379405286343, Val Acc:0.5804902104032729\n",
      "0/227 - Running loss: 1.0478298664093018\n",
      "30/227 - Running loss: 0.9673969149589539\n",
      "60/227 - Running loss: 1.0392906665802002\n",
      "90/227 - Running loss: 1.0104986429214478\n",
      "120/227 - Running loss: 1.1144295930862427\n",
      "150/227 - Running loss: 0.8912200927734375\n",
      "180/227 - Running loss: 0.9775946736335754\n",
      "210/227 - Running loss: 0.9291670918464661\n",
      "3/100-Train Loss:1.0651292404414274, Val Loss:1.112310908991715\n",
      "3/100-Train Acc:0.6503648127753304, Val Acc:0.5884442577440093\n",
      "0/227 - Running loss: 1.031930923461914\n",
      "30/227 - Running loss: 0.9923714995384216\n",
      "60/227 - Running loss: 1.0139763355255127\n",
      "90/227 - Running loss: 1.0651226043701172\n",
      "120/227 - Running loss: 0.9521949887275696\n",
      "150/227 - Running loss: 1.0177260637283325\n",
      "180/227 - Running loss: 1.0731298923492432\n",
      "210/227 - Running loss: 1.1903698444366455\n",
      "4/100-Train Loss:0.9902631503894991, Val Loss:1.0360636495310684\n",
      "4/100-Train Acc:0.6810297356828194, Val Acc:0.6086444330800702\n",
      "0/227 - Running loss: 1.1026606559753418\n",
      "30/227 - Running loss: 0.8076566457748413\n",
      "60/227 - Running loss: 0.877118706703186\n",
      "90/227 - Running loss: 0.8584555387496948\n",
      "120/227 - Running loss: 1.111979365348816\n",
      "150/227 - Running loss: 1.034825086593628\n",
      "180/227 - Running loss: 1.055668592453003\n",
      "210/227 - Running loss: 0.9713901877403259\n",
      "EarlyStopping counter: 1 out of 10\n",
      "5/100-Train Loss:0.9274128142432494, Val Loss:1.0520696989421188\n",
      "5/100-Train Acc:0.7162720264317181, Val Acc:0.6156076490356517\n",
      "0/227 - Running loss: 0.9437657594680786\n",
      "30/227 - Running loss: 1.0109227895736694\n",
      "60/227 - Running loss: 0.9967429041862488\n",
      "90/227 - Running loss: 1.1132307052612305\n",
      "120/227 - Running loss: 0.9718205332756042\n",
      "150/227 - Running loss: 0.9802670478820801\n",
      "180/227 - Running loss: 0.9140126705169678\n",
      "210/227 - Running loss: 0.8664283156394958\n",
      "6/100-Train Loss:0.8764240833631171, Val Loss:1.0201667721929222\n",
      "6/100-Train Acc:0.737885462555066, Val Acc:0.626342416715371\n",
      "0/227 - Running loss: 0.7830346822738647\n",
      "30/227 - Running loss: 0.9665723443031311\n",
      "60/227 - Running loss: 0.768515944480896\n",
      "90/227 - Running loss: 0.8305099606513977\n",
      "120/227 - Running loss: 0.9677525758743286\n",
      "150/227 - Running loss: 0.7880967855453491\n",
      "180/227 - Running loss: 0.6986762881278992\n",
      "210/227 - Running loss: 0.7908615469932556\n",
      "EarlyStopping counter: 1 out of 10\n",
      "7/100-Train Loss:0.8404786389829829, Val Loss:1.0399214594528592\n",
      "7/100-Train Acc:0.7596709801762115, Val Acc:0.6224338836937463\n",
      "0/227 - Running loss: 0.7309255003929138\n",
      "30/227 - Running loss: 0.8927592635154724\n",
      "60/227 - Running loss: 0.7568733096122742\n",
      "90/227 - Running loss: 0.8647232055664062\n",
      "120/227 - Running loss: 0.8795015811920166\n",
      "150/227 - Running loss: 0.6746806502342224\n",
      "180/227 - Running loss: 0.7217401266098022\n",
      "210/227 - Running loss: 0.8128822445869446\n",
      "EarlyStopping counter: 2 out of 10\n",
      "8/100-Train Loss:0.7998228952748134, Val Loss:1.0673786216768726\n",
      "8/100-Train Acc:0.7793226872246696, Val Acc:0.623374488603156\n",
      "0/227 - Running loss: 0.5373655557632446\n",
      "30/227 - Running loss: 0.6058139204978943\n",
      "60/227 - Running loss: 0.9162419438362122\n",
      "90/227 - Running loss: 0.6563799381256104\n",
      "120/227 - Running loss: 0.8718242645263672\n",
      "150/227 - Running loss: 0.6070542335510254\n",
      "180/227 - Running loss: 0.6726455688476562\n",
      "210/227 - Running loss: 0.6409273743629456\n",
      "EarlyStopping counter: 3 out of 10\n",
      "9/100-Train Loss:0.7443269919193789, Val Loss:1.0434766062374772\n",
      "9/100-Train Acc:0.8043433370044053, Val Acc:0.6323102352425483\n",
      "0/227 - Running loss: 0.6253868341445923\n",
      "30/227 - Running loss: 0.6887586116790771\n",
      "60/227 - Running loss: 0.635087788105011\n",
      "90/227 - Running loss: 0.7150144577026367\n",
      "120/227 - Running loss: 0.6080891489982605\n",
      "150/227 - Running loss: 0.6859143972396851\n",
      "180/227 - Running loss: 0.6926369667053223\n",
      "210/227 - Running loss: 0.7525007128715515\n",
      "EarlyStopping counter: 4 out of 10\n",
      "10/100-Train Loss:0.7208689473536571, Val Loss:1.0400557929071887\n",
      "10/100-Train Acc:0.8181786894273128, Val Acc:0.6299724210987727\n",
      "0/227 - Running loss: 0.725753903388977\n",
      "30/227 - Running loss: 0.5935760736465454\n",
      "60/227 - Running loss: 0.5786235928535461\n",
      "90/227 - Running loss: 0.6852823495864868\n",
      "120/227 - Running loss: 0.595975399017334\n",
      "150/227 - Running loss: 0.8757463693618774\n",
      "180/227 - Running loss: 0.6072932481765747\n",
      "210/227 - Running loss: 0.6609057784080505\n",
      "EarlyStopping counter: 5 out of 10\n",
      "11/100-Train Loss:0.6920628833875783, Val Loss:1.0798223213902836\n",
      "11/100-Train Acc:0.8362472466960352, Val Acc:0.6176258401519579\n",
      "0/227 - Running loss: 0.7251381874084473\n",
      "30/227 - Running loss: 0.6312770843505859\n",
      "60/227 - Running loss: 0.6617588400840759\n",
      "90/227 - Running loss: 0.6258983612060547\n",
      "120/227 - Running loss: 0.5285147428512573\n",
      "150/227 - Running loss: 0.7513607740402222\n",
      "180/227 - Running loss: 0.6363909244537354\n",
      "210/227 - Running loss: 0.6172080636024475\n",
      "Epoch 00012: reducing learning rate of group 0 to 1.0000e-03.\n",
      "EarlyStopping counter: 6 out of 10\n",
      "12/100-Train Loss:0.6576062811103687, Val Loss:1.0537981863679557\n",
      "12/100-Train Acc:0.8546599669603524, Val Acc:0.6342827659263589\n",
      "0/227 - Running loss: 0.671788215637207\n",
      "30/227 - Running loss: 0.6079510450363159\n",
      "60/227 - Running loss: 0.4213300943374634\n",
      "90/227 - Running loss: 0.3927692174911499\n",
      "120/227 - Running loss: 0.5188871026039124\n",
      "150/227 - Running loss: 0.5067391991615295\n",
      "180/227 - Running loss: 0.5316352844238281\n",
      "210/227 - Running loss: 0.4041560888290405\n",
      "EarlyStopping counter: 7 out of 10\n",
      "13/100-Train Loss:0.5118788138097603, Val Loss:1.0272106024725685\n",
      "13/100-Train Acc:0.8304997246696035, Val Acc:0.6579029076563414\n",
      "0/227 - Running loss: 0.3961750566959381\n",
      "30/227 - Running loss: 0.48950642347335815\n",
      "60/227 - Running loss: 0.5047880411148071\n",
      "90/227 - Running loss: 0.4854961633682251\n",
      "120/227 - Running loss: 0.4180963337421417\n",
      "150/227 - Running loss: 0.5306403040885925\n",
      "180/227 - Running loss: 0.4282993972301483\n",
      "210/227 - Running loss: 0.37876686453819275\n",
      "EarlyStopping counter: 8 out of 10\n",
      "14/100-Train Loss:0.4384870149753167, Val Loss:1.0405160476421487\n",
      "14/100-Train Acc:0.8593405837004405, Val Acc:0.6668386542957334\n",
      "0/227 - Running loss: 0.37864378094673157\n",
      "30/227 - Running loss: 0.43246904015541077\n",
      "60/227 - Running loss: 0.33679452538490295\n",
      "90/227 - Running loss: 0.40016570687294006\n",
      "120/227 - Running loss: 0.39255186915397644\n",
      "150/227 - Running loss: 0.42453432083129883\n",
      "180/227 - Running loss: 0.4407210052013397\n",
      "210/227 - Running loss: 0.3159373104572296\n",
      "EarlyStopping counter: 9 out of 10\n",
      "15/100-Train Loss:0.3868306787922519, Val Loss:1.0941749235679363\n",
      "15/100-Train Acc:0.8794397026431718, Val Acc:0.6581723042080655\n",
      "0/227 - Running loss: 0.3792390823364258\n",
      "30/227 - Running loss: 0.3518604636192322\n",
      "60/227 - Running loss: 0.22016850113868713\n",
      "90/227 - Running loss: 0.30869412422180176\n",
      "120/227 - Running loss: 0.3669287860393524\n",
      "150/227 - Running loss: 0.4042578339576721\n",
      "180/227 - Running loss: 0.31657475233078003\n",
      "210/227 - Running loss: 0.3693123161792755\n",
      "EarlyStopping counter: 10 out of 10\n",
      "Bset Accuracy: 0.6668386542957334\n"
     ]
    }
   ],
   "source": [
    "num_epochs = 100\n",
    "\n",
    "best_acc = 0.0\n",
    "train_loss,train_accuracy = [],[]\n",
    "val_loss,val_accuracy = [],[]\n",
    "\n",
    "for epoch in range(num_epochs):\n",
    "    ### 1 Epoch 수행\n",
    "    losses, accuracies = train_one_epoch(dataloaders, model, optimizer, loss_func, device)\n",
    "    \n",
    "    ### LR Scheduling\n",
    "    scheduler.step(losses['val']) # 1 Epoch 수행 후 learning rate 조정\n",
    "    # EarlyStopping\n",
    "    early_stopping(losses['val'], model) # 현재 과적합 상황 추적\n",
    "    if early_stopping.early_stop: # 조건 만족 시 조기 종료\n",
    "        break\n",
    "        \n",
    "    train_loss.append(losses['train'])\n",
    "    val_loss.append(losses['val'])\n",
    "    train_accuracy.append(accuracies['train'])\n",
    "    val_accuracy.append(accuracies['val'])\n",
    "    \n",
    "    print(f\"{epoch+1}/{num_epochs}-Train Loss:{losses['train']}, Val Loss:{losses['val']}\")\n",
    "    print(f\"{epoch+1}/{num_epochs}-Train Acc:{accuracies['train']}, Val Acc:{accuracies['val']}\")\n",
    "    \n",
    "    # deepcopy: 배열의 내부 객체까지 복사를 해서 사용\n",
    "    # copy: 배열의 내부 객체까지 깊은 복사를 해주지 않음\n",
    "    if (epoch > 3) and (accuracies['val'] > best_acc):\n",
    "        best_acc = accuracies['val']\n",
    "        best_model = copy.deepcopy(model.state_dict()) \n",
    "        save_best_model(best_model, f'model_{epoch+1:02d}.pth')\n",
    "\n",
    "print(f'Bset Accuracy: {best_acc}')"
   ]
  },
  {
   "cell_type": "code",
   "execution_count": 20,
   "id": "3656ccdd",
   "metadata": {},
   "outputs": [
    {
     "data": {
      "image/png": "[encoded data removed]",
      "text/plain": [
       "<Figure size 432x360 with 2 Axes>"
      ]
     },
     "metadata": {
      "needs_background": "light"
     },
     "output_type": "display_data"
    }
   ],
   "source": [
    "### Loss, Accuracy 시각화\n",
    "\n",
    "plt.figure(figsize = (6,5))\n",
    "\n",
    "# Loss\n",
    "plt.subplot(211)\n",
    "plt.plot(train_loss,label = \"train\")\n",
    "plt.plot(val_loss,label = \"val\")\n",
    "plt.xlabel(\"epoch\")\n",
    "plt.ylabel(\"loss\")\n",
    "plt.grid(\"on\")\n",
    "plt.legend()\n",
    "\n",
    "# Accuracy\n",
    "plt.subplot(212)\n",
    "plt.plot(train_accuracy,label = \"train\")\n",
    "plt.plot(val_accuracy,label = \"val\")\n",
    "plt.xlabel(\"epoch\")\n",
    "plt.ylabel(\"accuracy\")\n",
    "plt.grid(\"on\")\n",
    "plt.legend()\n",
    "\n",
    "plt.tight_layout()"
   ]
  }
 ],
 "metadata": {
  "kernelspec": {
   "display_name": "Python 3 (ipykernel)",
   "language": "python",
   "name": "python3"
  },
  "language_info": {
   "codemirror_mode": {
    "name": "ipython",
    "version": 3
   },
   "file_extension": ".py",
   "mimetype": "text/x-python",
   "name": "python",
   "nbconvert_exporter": "python",
   "pygments_lexer": "ipython3",
   "version": "3.8.9"
  }
 },
 "nbformat": 4,
 "nbformat_minor": 5
}
