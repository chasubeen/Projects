{
 "cells": [
  {
   "cell_type": "markdown",
   "id": "26419bb5",
   "metadata": {},
   "source": [
    "# **1. 라이브러리 import**"
   ]
  },
  {
   "cell_type": "code",
   "execution_count": 1,
   "id": "648a5059",
   "metadata": {},
   "outputs": [],
   "source": [
    "import torch\n",
    "import pandas as pd\n",
    "import numpy as np\n",
    "import matplotlib.pyplot as plt\n",
    "import os\n",
    "import cv2\n",
    "import copy\n",
    "from torch import nn\n",
    "from torch.utils.data import Dataset, DataLoader\n",
    "from torchvision import transforms, models\n",
    "from ipywidgets import interact"
   ]
  },
  {
   "cell_type": "markdown",
   "id": "4a97338d",
   "metadata": {},
   "source": [
    "# **2. Data Descrpition**"
   ]
  },
  {
   "cell_type": "code",
   "execution_count": null,
   "id": "485c0049",
   "metadata": {},
   "outputs": [],
   "source": [
    "'''\n",
    "DataSet\n",
    "ㄴ train\n",
    "  ㄴ angry\n",
    "  ㄴ disgust\n",
    "  ㄴ fear\n",
    "  ㄴ happy\n",
    "  ㄴ neutral\n",
    "  ㄴ sad\n",
    "  ㄴ surprise\n",
    "ㄴ valid\n",
    "  ㄴ angry\n",
    "  ㄴ disgust\n",
    "  ㄴ fear\n",
    "  ㄴ happy\n",
    "  ㄴ neutral\n",
    "  ㄴ sad\n",
    "  ㄴ surprise\n",
    "ㄴ test\n",
    "  ㄴ angry\n",
    "  ㄴ disgust\n",
    "  ㄴ fear\n",
    "  ㄴ happy\n",
    "  ㄴ neutral\n",
    "  ㄴ sad\n",
    "  ㄴ surprise\n",
    "'''\n",
    "print()"
   ]
  },
  {
   "cell_type": "markdown",
   "id": "c04d09ed",
   "metadata": {},
   "source": [
    "- train, test dataset으로 이미 분리가 되어있는 상태\n",
    "- train data : test data가 4:1 정도 -> 둘을 합친 후 다시 8:2 비율로 나누어준다.\n",
    "- 각각의 데이터는 다시 7개의 감정(angry, disgust, fear, happy, neutral, sad, surprise)으로 분류\n",
    "- 현재 데이터 셋에서 폴더는 정렬되어 있지만, 사진명은 정렬이 되어 있지 않다.\n",
    "> 사진명의 형식을 모두 통일시켜 이후의 데이터 처리 작업을 원할하게 진행하고자 한다.\n",
    "\n",
    "- 각 사진의 크기는 48 * 48 size 흑백 사진\n",
    "- 사람 얼굴이 아닌 것들도 포함되어 있음(캐릭터 등) -> 삭제"
   ]
  },
  {
   "cell_type": "markdown",
   "id": "f4774ad4",
   "metadata": {},
   "source": [
    "### **2-1.Train/Test 재분배**\n",
    "- train:val:test = 8:1:1로 분할 후, 각각의 폴더에 저장"
   ]
  },
  {
   "cell_type": "code",
   "execution_count": 2,
   "id": "1f10d96d",
   "metadata": {},
   "outputs": [],
   "source": [
    "dataset_path = \"C:\\\\waterbean\\\\Personal_proj\\\\FacialExpression\\\\DataSet\\\\archive\""
   ]
  },
  {
   "cell_type": "code",
   "execution_count": 3,
   "id": "101d114c",
   "metadata": {},
   "outputs": [],
   "source": [
    "# 필요한 모듈 import\n",
    "import os\n",
    "import shutil\n",
    "\n",
    "from glob import glob\n",
    "from sklearn.model_selection import train_test_split"
   ]
  },
  {
   "cell_type": "markdown",
   "id": "a8a59254",
   "metadata": {},
   "source": [
    "- 아래의 코드는 최초 1번만 시행한다.(이후 시행 시 에러)"
   ]
  },
  {
   "cell_type": "code",
   "execution_count": null,
   "id": "80fb0bc4",
   "metadata": {},
   "outputs": [],
   "source": [
    "# 전체 데이터셋은 각 감정별로 7개의 폴더로 구성됨\n",
    "feelings_list = ['angry', 'disgust', 'fear', 'happy', 'neutral', 'sad', 'surprise']\n",
    "\n",
    "# 각 폴더에 접근하여 train/valid/test로 split\n",
    "for feeling in feelings_list:\n",
    "    feeling_path = dataset_path + '\\\\'+feeling\n",
    "    # 이미지 목록 받기\n",
    "    image_files = glob(feeling_path+'\\\\*')\n",
    "    \n",
    "    images = [name.replace(\".jpg\",\"\") for name in image_files]\n",
    "    \n",
    "    # 이미지 분할\n",
    "    # train:val:test = 8:1:1\n",
    "    train_names,test_names = train_test_split(images,test_size = 0.2,random_state = 42,shuffle = True)\n",
    "    val_names,test_names = train_test_split(test_names,test_size = 0.5,random_state = 42,shuffle = True)\n",
    "    \n",
    "    \n",
    "    def batch_move_files(file_list,source_path,destination_path):\n",
    "        for file in file_list:\n",
    "            # 경로에서 마지막 파일명만 가져와서 확장자 붙여주기\n",
    "            image = file.split('\\\\')[-1] + '.jpg'\n",
    "            shutil.copy(os.path.join(source_path,image),destination_path)\n",
    "        return\n",
    "    \n",
    "    # 경로 설정하기\n",
    "    source_dir = feeling_path\n",
    "    \n",
    "    train_dir = dataset_path + \"\\\\train\" +'\\\\'+feeling\n",
    "    val_dir = dataset_path + \"\\\\valid\" +'\\\\'+feeling\n",
    "    test_dir = dataset_path + \"\\\\test\" +'\\\\'+feeling\n",
    "    \n",
    "    batch_move_files(train_names,source_dir,train_dir)\n",
    "    batch_move_files(val_names,source_dir,val_dir)\n",
    "    batch_move_files(test_names,source_dir,test_dir)"
   ]
  },
  {
   "cell_type": "markdown",
   "id": "d8cff100",
   "metadata": {},
   "source": [
    "### **2-2. 이름 재정의하기**"
   ]
  },
  {
   "cell_type": "code",
   "execution_count": 4,
   "id": "9d19f716",
   "metadata": {},
   "outputs": [],
   "source": [
    "### train, test에 따라 경로에 접근\n",
    "\n",
    "purposes_list = ['test', 'train', 'valid']\n",
    "feelings_list = ['angry', 'disgust', 'fear', 'happy', 'neutral', 'sad', 'surprise']"
   ]
  },
  {
   "cell_type": "markdown",
   "id": "c945111a",
   "metadata": {},
   "source": [
    "- 해당 코드를 여러 번 수행 시 파일명이 변경되어 파일 계층 구조가 바뀔 수 있으므로 최초 1회만 시행한다."
   ]
  },
  {
   "cell_type": "code",
   "execution_count": null,
   "id": "b78df54d",
   "metadata": {
    "scrolled": false
   },
   "outputs": [],
   "source": [
    "dataset_path = \"C:\\\\waterbean\\\\Personal_proj\\\\FacialExpression\\\\DataSet\\\\archive\" \n",
    "# 폴더 이름에 따라 파일이름을 바꿀 것이므로 그 상위 폴더인 Archive을 path로 설정\n",
    "\n",
    "for purpose in purposes_list :                                                    \n",
    "    ### 각 목적 폴더 경로 생성\n",
    "    purpose_path = dataset_path + \"\\\\\" + purpose                                    \n",
    "    # 예시> purpose_path = C:\\\\waterbean\\\\Personal_proj\\\\FacialExpression\\\\DataSet\\\\archive\\\\test\n",
    "    \n",
    "    for feeling in feelings_list:\n",
    "        ### 7개의 감정이 분류된 폴더 경로 설정\n",
    "        \n",
    "        feeling_path = purpose_path + \"\\\\\" + feeling\n",
    "        # 예시> feeling_path = C:\\\\waterbean\\\\Personal_proj\\\\FacialExpression\\\\DataSet\\\\archive\\\\test\\\\angry\n",
    "        file_list = os.listdir(feeling_path)\n",
    "        # file_list[0] = 폴더 경로 + 이미지명.jpg\n",
    "        \n",
    "        print(\"-------------------------------------------------\")\n",
    "        print(feeling + \" have \" + str(len(file_list)) + \" files.\")\n",
    "        print(\"feeling_path : \" + feeling_path)\n",
    "        \n",
    "        ### 이미 이름이 있는 파일이면 오류가 나기에, 먼저 숫자로 된 아무 이름 짓기\n",
    "        count = 1\n",
    "        for file_name in file_list :\n",
    "            old_name = feeling_path + \"\\\\\" + file_name                                     \n",
    "            new_name = feeling_path + \"\\\\\" + str(count) + \".jpg\"                           \n",
    "            # new_name = C:\\\\waterbean\\\\Personal_proj\\\\FacialExpression\\\\DataSet\\\\archive\\\\test\\\\angry\\\\1.jpg\n",
    "            \n",
    "            try:\n",
    "                os.rename(old_name, new_name)\n",
    "                print(\"success : \" + old_name + \" -> \" + new_name)\n",
    "            except:\n",
    "                print(\"fail : \" + old_name + \" -> \" + new_name)\n",
    "                print(\"이미 존재하는 파일명입니다.\")\n",
    "            count = count + 1\n",
    "        \n",
    "        ### 원하는 형식으로 이름 다시 지정\n",
    "        \n",
    "        file_list = os.listdir(feeling_path)                                               \n",
    "        \n",
    "        # 1.jpg 로 바뀐 이름을 가져와야 되기 때문에 다시 로드\n",
    "        count = 1\n",
    "        for file_name in file_list :\n",
    "            old_name = feeling_path + \"\\\\\" + file_name  # old_name = 1.jpg\n",
    "            new_name = feeling_path + \"\\\\\" + feeling + \"_\" + str(count) + \".jpg\"  # new_name = angry_1.jpg\n",
    "\n",
    "            try:\n",
    "                os.rename(old_name, new_name)\n",
    "                print(\"success : \" + old_name + \" -> \" + new_name)\n",
    "            except:\n",
    "                print(\"fail : \" + old_name + \" -> \" + new_name)\n",
    "                print(\"이미 존재하는 파일명입니다.\")\n",
    "                break\n",
    "            count = count + 1"
   ]
  },
  {
   "cell_type": "markdown",
   "id": "84bf43e2",
   "metadata": {},
   "source": [
    "# **3. 이미지 파일 경로 불러오기**"
   ]
  },
  {
   "cell_type": "code",
   "execution_count": 5,
   "id": "14a8449b",
   "metadata": {},
   "outputs": [],
   "source": [
    "### 이미지 파일 경로를 리스트 형태로 저장하기 위한 함수\n",
    "\n",
    "def list_image_file(data_dir,sub_dir):\n",
    "    image_files = []\n",
    "    \n",
    "    images_dir = os.path.join(data_dir,sub_dir)\n",
    "    for file_path in os.listdir(images_dir):\n",
    "        image_files.append(os.path.join(sub_dir,file_path))\n",
    "    return image_files"
   ]
  },
  {
   "cell_type": "code",
   "execution_count": 6,
   "id": "118231a5",
   "metadata": {},
   "outputs": [],
   "source": [
    "data_dir = './DataSet/archive/train' # 상위 폴더 경로\n",
    "\n",
    "angry_list = list_image_file(data_dir,'angry')\n",
    "disgust_list = list_image_file(data_dir,'disgust')\n",
    "fear_list = list_image_file(data_dir,'fear')\n",
    "happy_list = list_image_file(data_dir,'happy')\n",
    "neutral_list = list_image_file(data_dir,'neutral')\n",
    "sad_list = list_image_file(data_dir,'sad')\n",
    "surprise_list = list_image_file(data_dir,'surprise')"
   ]
  },
  {
   "cell_type": "code",
   "execution_count": 7,
   "id": "5164a2c7",
   "metadata": {},
   "outputs": [
    {
     "name": "stdout",
     "output_type": "stream",
     "text": [
      "angry\\angry_1.jpg\n",
      "disgust\\disgust_1.jpg\n",
      "fear\\fear_1.jpg\n",
      "happy\\happy_1.jpg\n",
      "neutral\\neutral_1.jpg\n",
      "sad\\sad_1.jpg\n",
      "surprise\\surprise_1.jpg\n"
     ]
    }
   ],
   "source": [
    "### 데이터 경로가 잘 저장되었는지 확인\n",
    "\n",
    "print(angry_list[0])\n",
    "print(disgust_list[0])\n",
    "print(fear_list[0])\n",
    "print(happy_list[0])\n",
    "print(neutral_list[0])\n",
    "print(sad_list[0])\n",
    "print(surprise_list[0])"
   ]
  },
  {
   "cell_type": "markdown",
   "id": "94449c64",
   "metadata": {},
   "source": [
    "# **4. 이미지 데이터 시각화**"
   ]
  },
  {
   "cell_type": "code",
   "execution_count": 8,
   "id": "e4e524d9",
   "metadata": {},
   "outputs": [],
   "source": [
    "### 이미지 파일을 RGB 3차원 배열로 가져오는 함수\n",
    "\n",
    "def get_RGB_image(data_dir,file_name):\n",
    "    image_file = os.path.join(data_dir,file_name) # 이미지 경로 설정\n",
    "    image = cv2.imread(image_file) # 이미지 열기\n",
    "    image = cv2.cvtColor(image,cv2.COLOR_BGR2RGB) # BGR -> RGB\n",
    "    \n",
    "    return image"
   ]
  },
  {
   "cell_type": "code",
   "execution_count": 9,
   "id": "bdd988a3",
   "metadata": {},
   "outputs": [
    {
     "name": "stdout",
     "output_type": "stream",
     "text": [
      "angry 이미지 개수: 3962\n",
      "disgust 이미지 개수: 875\n",
      "fear 이미지 개수: 4096\n",
      "happy 이미지 개수: 7191\n",
      "neutral 이미지 개수: 4958\n",
      "sad 이미지 개수: 4861\n",
      "surprise 이미지 개수: 3201\n"
     ]
    }
   ],
   "source": [
    "### 데이터의 분포 확인\n",
    "\n",
    "print('angry 이미지 개수: {}'.format(len(angry_list)))\n",
    "print('disgust 이미지 개수: {}'.format(len(disgust_list)))\n",
    "print('fear 이미지 개수: {}'.format(len(fear_list)))\n",
    "print('happy 이미지 개수: {}'.format(len(happy_list)))\n",
    "print('neutral 이미지 개수: {}'.format(len(neutral_list)))\n",
    "print('sad 이미지 개수: {}'.format(len(sad_list)))\n",
    "print('surprise 이미지 개수: {}'.format(len(surprise_list)))"
   ]
  },
  {
   "cell_type": "code",
   "execution_count": 16,
   "id": "4e74e6e9",
   "metadata": {},
   "outputs": [
    {
     "data": {
      "application/vnd.jupyter.widget-view+json": {
       "model_id": "35781801d62d4ba09b91dde2b733d32d",
       "version_major": 2,
       "version_minor": 0
      },
      "text/plain": [
       "interactive(children=(IntSlider(value=0, description='index', max=874), Output()), _dom_classes=('widget-inter…"
      ]
     },
     "metadata": {},
     "output_type": "display_data"
    }
   ],
   "source": [
    "### 이미지 데이터 시각화\n",
    "\n",
    "min_num_files = 875 # disgust 데이터의 개수\n",
    "\n",
    "@interact(index = (0,min_num_files - 1)) # index를 변경해가며 사진 확인\n",
    "def show_sample(index = 0):\n",
    "    angry_image = get_RGB_image(data_dir,angry_list[index])\n",
    "    disgust_image = get_RGB_image(data_dir,disgust_list[index])\n",
    "    fear_image = get_RGB_image(data_dir,fear_list[index])\n",
    "    happy_image = get_RGB_image(data_dir,happy_list[index])\n",
    "    neutral_image = get_RGB_image(data_dir,neutral_list[index])\n",
    "    sad_image = get_RGB_image(data_dir,sad_list[index])\n",
    "    surprise_image = get_RGB_image(data_dir,surprise_list[index])\n",
    "    \n",
    "    plt.figure(figsize = (12,12))\n",
    "    plt.subplot(241)\n",
    "    plt.title('angry')\n",
    "    plt.imshow(angry_image)\n",
    "    \n",
    "    plt.subplot(242)\n",
    "    plt.title('disgust')\n",
    "    plt.imshow(disgust_image)\n",
    "    \n",
    "    plt.subplot(243)\n",
    "    plt.title('fear')\n",
    "    plt.imshow(fear_image)\n",
    "    \n",
    "    plt.subplot(244)\n",
    "    plt.title('happy')\n",
    "    plt.imshow(happy_image)\n",
    "    \n",
    "    plt.subplot(245)\n",
    "    plt.title('neutral')\n",
    "    plt.imshow(neutral_image)\n",
    "    \n",
    "    plt.subplot(246)\n",
    "    plt.title('sad')\n",
    "    plt.imshow(sad_image)\n",
    "    \n",
    "    plt.subplot(247)\n",
    "    plt.title('surprise')\n",
    "    plt.imshow(surprise_image)\n",
    "    \n",
    "    plt.tight_layout(h_pad=-1)"
   ]
  },
  {
   "cell_type": "markdown",
   "id": "1b054114",
   "metadata": {},
   "source": [
    "# **5. DataFrame 형태로 정렬**"
   ]
  },
  {
   "cell_type": "code",
   "execution_count": 17,
   "id": "da6a9445",
   "metadata": {},
   "outputs": [],
   "source": [
    "feeling_images = [] #감정이 labeling 된 data 전체가 담길 빈 리스트\n",
    "\n",
    "### 각 이미지 파일에 대해 감정을 labeling하는 함수\n",
    "def put_label(feeling,emotion):\n",
    "    for i in range(len(feeling)):\n",
    "        file = str(feeling[i]).split('\\\\')[-1]\n",
    "        feeling_images.append([file,str(emotion)])  # 매개변수로 넘어오는 감정을 label로 같이 저장"
   ]
  },
  {
   "cell_type": "code",
   "execution_count": 18,
   "id": "0bf6659e",
   "metadata": {},
   "outputs": [],
   "source": [
    "put_label(angry_list,'angry')\n",
    "put_label(disgust_list,'disgust')\n",
    "put_label(fear_list,'fear')\n",
    "put_label(happy_list,'happy')\n",
    "put_label(neutral_list,'neutral')\n",
    "put_label(sad_list,'sad')\n",
    "put_label(surprise_list,'surprise')"
   ]
  },
  {
   "cell_type": "code",
   "execution_count": 19,
   "id": "261547a8",
   "metadata": {},
   "outputs": [
    {
     "data": {
      "text/html": [
       "<div>\n",
       "<style scoped>\n",
       "    .dataframe tbody tr th:only-of-type {\n",
       "        vertical-align: middle;\n",
       "    }\n",
       "\n",
       "    .dataframe tbody tr th {\n",
       "        vertical-align: top;\n",
       "    }\n",
       "\n",
       "    .dataframe thead th {\n",
       "        text-align: right;\n",
       "    }\n",
       "</style>\n",
       "<table border=\"1\" class=\"dataframe\">\n",
       "  <thead>\n",
       "    <tr style=\"text-align: right;\">\n",
       "      <th></th>\n",
       "      <th>file</th>\n",
       "      <th>emotion</th>\n",
       "    </tr>\n",
       "  </thead>\n",
       "  <tbody>\n",
       "    <tr>\n",
       "      <th>0</th>\n",
       "      <td>angry_1.jpg</td>\n",
       "      <td>angry</td>\n",
       "    </tr>\n",
       "    <tr>\n",
       "      <th>1</th>\n",
       "      <td>angry_10.jpg</td>\n",
       "      <td>angry</td>\n",
       "    </tr>\n",
       "    <tr>\n",
       "      <th>2</th>\n",
       "      <td>angry_100.jpg</td>\n",
       "      <td>angry</td>\n",
       "    </tr>\n",
       "    <tr>\n",
       "      <th>3</th>\n",
       "      <td>angry_1000.jpg</td>\n",
       "      <td>angry</td>\n",
       "    </tr>\n",
       "    <tr>\n",
       "      <th>4</th>\n",
       "      <td>angry_1001.jpg</td>\n",
       "      <td>angry</td>\n",
       "    </tr>\n",
       "    <tr>\n",
       "      <th>...</th>\n",
       "      <td>...</td>\n",
       "      <td>...</td>\n",
       "    </tr>\n",
       "    <tr>\n",
       "      <th>29139</th>\n",
       "      <td>surprise_995.jpg</td>\n",
       "      <td>surprise</td>\n",
       "    </tr>\n",
       "    <tr>\n",
       "      <th>29140</th>\n",
       "      <td>surprise_996.jpg</td>\n",
       "      <td>surprise</td>\n",
       "    </tr>\n",
       "    <tr>\n",
       "      <th>29141</th>\n",
       "      <td>surprise_997.jpg</td>\n",
       "      <td>surprise</td>\n",
       "    </tr>\n",
       "    <tr>\n",
       "      <th>29142</th>\n",
       "      <td>surprise_998.jpg</td>\n",
       "      <td>surprise</td>\n",
       "    </tr>\n",
       "    <tr>\n",
       "      <th>29143</th>\n",
       "      <td>surprise_999.jpg</td>\n",
       "      <td>surprise</td>\n",
       "    </tr>\n",
       "  </tbody>\n",
       "</table>\n",
       "<p>29144 rows × 2 columns</p>\n",
       "</div>"
      ],
      "text/plain": [
       "                   file   emotion\n",
       "0           angry_1.jpg     angry\n",
       "1          angry_10.jpg     angry\n",
       "2         angry_100.jpg     angry\n",
       "3        angry_1000.jpg     angry\n",
       "4        angry_1001.jpg     angry\n",
       "...                 ...       ...\n",
       "29139  surprise_995.jpg  surprise\n",
       "29140  surprise_996.jpg  surprise\n",
       "29141  surprise_997.jpg  surprise\n",
       "29142  surprise_998.jpg  surprise\n",
       "29143  surprise_999.jpg  surprise\n",
       "\n",
       "[29144 rows x 2 columns]"
      ]
     },
     "execution_count": 19,
     "metadata": {},
     "output_type": "execute_result"
    }
   ],
   "source": [
    "### Dataframe 생성\n",
    "colnames = ['file','emotion']  \n",
    "\n",
    "feelings_df= pd.DataFrame(feeling_images,columns = colnames)\n",
    "feelings_df"
   ]
  },
  {
   "cell_type": "code",
   "execution_count": 20,
   "id": "bae7c2fa",
   "metadata": {},
   "outputs": [
    {
     "data": {
      "image/png": "[encoded data removed]",
      "text/plain": [
       "<Figure size 640x480 with 1 Axes>"
      ]
     },
     "metadata": {},
     "output_type": "display_data"
    }
   ],
   "source": [
    "value_counts = feelings_df['emotion'].value_counts().sort_index()\n",
    "\n",
    "plt.bar(range(len(value_counts)),value_counts.values,align = \"center\")\n",
    "plt.xticks(range(len(value_counts)),value_counts.index.values)\n",
    "\n",
    "plt.tight_layout()\n",
    "plt.show()"
   ]
  },
  {
   "cell_type": "markdown",
   "id": "0bbe0020",
   "metadata": {},
   "source": [
    "- disgust의 경우 다른 감정들의 데이터에 비해 개수가 현저히 적다.\n",
    "> 불균형한 데이터이다.\n",
    "- 불균형한 데이터에 대한 처리가 필요하다."
   ]
  },
  {
   "cell_type": "code",
   "execution_count": 21,
   "id": "6d136a1b",
   "metadata": {},
   "outputs": [],
   "source": [
    "### csv 파일 형태로 저장\n",
    "\n",
    "# 이후 모델 학습 시 데이터를 편리하게 가져오기 위함\n",
    "# 앞에 붙여진 index를 날리고 저장\n",
    "\n",
    "feelings_df.to_csv('train.csv',index = False)"
   ]
  }
 ],
 "metadata": {
  "kernelspec": {
   "display_name": "Python 3 (ipykernel)",
   "language": "python",
   "name": "python3"
  },
  "language_info": {
   "codemirror_mode": {
    "name": "ipython",
    "version": 3
   },
   "file_extension": ".py",
   "mimetype": "text/x-python",
   "name": "python",
   "nbconvert_exporter": "python",
   "pygments_lexer": "ipython3",
   "version": "3.7.7"
  }
 },
 "nbformat": 4,
 "nbformat_minor": 5
}
