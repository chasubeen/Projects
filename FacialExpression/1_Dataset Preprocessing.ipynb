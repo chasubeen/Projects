{
 "cells": [
  {
   "cell_type": "markdown",
   "id": "26419bb5",
   "metadata": {},
   "source": [
    "# **1. 라이브러리 import**"
   ]
  },
  {
   "cell_type": "code",
   "execution_count": null,
   "id": "648a5059",
   "metadata": {},
   "outputs": [],
   "source": [
    "import torch\n",
    "import pandas as pd\n",
    "import numpy as np\n",
    "import matplotlib.pyplot as plt\n",
    "import os\n",
    "import cv2\n",
    "import copy\n",
    "from torch import nn\n",
    "from torch.utils.data import Dataset, DataLoader\n",
    "from torchvision import transforms, models\n",
    "from ipywidgets import interact"
   ]
  },
  {
   "cell_type": "markdown",
   "id": "6293e977",
   "metadata": {},
   "source": [
    "# **2. Train/ Valid/ Test 분할하기**"
   ]
  },
  {
   "cell_type": "markdown",
   "id": "2c766f4e",
   "metadata": {},
   "source": [
    "- 원본 데이터셋에서 이미지의 비율이 일정하지 않다.\n",
    "- 3개의 폴더를 모두 합친 이후, 적절한 비율로 다시 나누어 데이터 셋을 새로 생성한다."
   ]
  },
  {
   "cell_type": "markdown",
   "id": "5c45bf3e",
   "metadata": {},
   "source": [
    "# **3. 이미지 파일 정렬하기**"
   ]
  },
  {
   "cell_type": "code",
   "execution_count": null,
   "id": "bb7aa2bb",
   "metadata": {},
   "outputs": [],
   "source": [
    "from IPython.display import Image"
   ]
  },
  {
   "cell_type": "code",
   "execution_count": null,
   "id": "13010961",
   "metadata": {},
   "outputs": [],
   "source": [
    "Image(\"datapath.png\")"
   ]
  },
  {
   "cell_type": "markdown",
   "id": "64d7286a",
   "metadata": {},
   "source": [
    "- 현재 데이터 셋에서 폴더는 정렬되어 있지만, 사진명은 정렬이 되어 있지 않다.\n",
    "- 사진명의 형식을 모두 통일시켜 이후의 데이터 처리 작업을 원할하게 진행하고자 한댜."
   ]
  },
  {
   "cell_type": "code",
   "execution_count": null,
   "id": "69387b10",
   "metadata": {},
   "outputs": [],
   "source": [
    "### 이미지 처리에 필요한 모듈 import\n",
    "import os"
   ]
  },
  {
   "cell_type": "markdown",
   "id": "d8cff100",
   "metadata": {},
   "source": [
    "### **이름 재정의하기**"
   ]
  },
  {
   "cell_type": "code",
   "execution_count": null,
   "id": "9d19f716",
   "metadata": {},
   "outputs": [],
   "source": [
    "### train, valid, test에 따라 경로에 접근\n",
    "\n",
    "dataset_path = \"C:\\\\waterbean\\\\Personal_proj\\\\FacialExpression\\\\testing\"\n",
    "purposes_list = ['test', 'train', 'valid']\n",
    "feelings_list = ['angry', 'disgust', 'fear', 'happy', 'neutral', 'sad', 'surprise']"
   ]
  },
  {
   "cell_type": "code",
   "execution_count": null,
   "id": "b78df54d",
   "metadata": {},
   "outputs": [],
   "source": [
    "dataset_path = \"C:\\\\waterbean\\\\Personal_proj\\\\FacialExpression\\\\DataSet\" \n",
    "# 폴더 이름에 따라 파일이름을 바꿀 것이므로 그 상위 폴더인 Dataset을 path로 설정\n",
    "\n",
    "for purpose in purposes_list :                                                    \n",
    "    ### 각 목적 폴더 경로 생성\n",
    "    purpose_path = dataset_path + \"\\\\\" + purpose                                    \n",
    "    # 예시> purpose_path = C:\\\\waterbean\\\\Personal_proj\\\\FacialExpression\\\\DataSet\\\\test\n",
    "    for feeling in feelings_list:\n",
    "        ### 7개의 감정이 분류된 폴더 경로 설정\n",
    "        feeling_path = purpose_path + \"\\\\\" + feeling\n",
    "        # 예시> feeling_path = C:\\\\waterbean\\\\Personal_proj\\\\FacialExpression\\\\DataSet\\\\test\\\\angry\n",
    "        file_list = os.listdir(feeling_path)\n",
    "        # file_list[0] = C:\\\\waterbean\\\\Personal_proj\\\\FacialExpression\\\\DataSet\\\\test\\\\angry\\\\1Exp0angry_actor_104.jpg\n",
    "        \n",
    "        print(\"-------------------------------------------------\")\n",
    "        print(feeling + \" have \" + str(len(file_list)) + \" files.\")\n",
    "        print(\"feeling_path : \" + feeling_path)\n",
    "        \n",
    "        # 이미 이름이 있는 파일이면 오류가 나기에 먼저 숫자로된 아무 이름으로 만들고, 다시 이름을 지정\n",
    "        count = 1\n",
    "        for file_name in file_list :\n",
    "            old_name = feeling_path + \"\\\\\" + file_name                                     \n",
    "            # old_name = C:\\\\waterbean\\\\Personal_proj\\\\FacialExpression\\\\DataSet\\\\test\\\\angry\\\\1Exp0angry_actor_104.jpg\n",
    "            new_name = feeling_path + \"\\\\\" + str(count) + \".jpg\"                           \n",
    "            # new_name = C:\\\\waterbean\\\\Personal_proj\\\\FacialExpression\\\\DataSet\\\\test\\\\angry\\\\1.jpg\n",
    "            \n",
    "            try:\n",
    "                os.rename(old_name, new_name)\n",
    "                print(\"success : \" + old_name + \" -> \" + new_name)\n",
    "            except:\n",
    "                print(\"fail : \" + old_name + \" -> \" + new_name)\n",
    "                print(\"이미 존재하는 파일명입니다.\")\n",
    "            count = count + 1\n",
    "        \n",
    "        ### count 값을 다시 지정해 이름 지정\n",
    "        file_list = os.listdir(feeling_path)                                               \n",
    "        \n",
    "        # 1.jpg 로 바뀐 이름을 가져와야 되기 때문에 다시 로드\n",
    "        count = 1\n",
    "        for file_name in file_list :\n",
    "            old_name = feeling_path + \"\\\\\" + file_name  # old_name = 1.jpg\n",
    "            new_name = feeling_path + \"\\\\\" + feeling + \"_\" + str(count) + \".jpg\"  # new_name = angry_1.jpg\n",
    "\n",
    "            try:\n",
    "                os.rename(old_name, new_name)\n",
    "                print(\"success : \" + old_name + \" -> \" + new_name)\n",
    "            except:\n",
    "                print(\"fail : \" + old_name + \" -> \" + new_name)\n",
    "                print(\"이미 존재하는 파일명입니다.\")\n",
    "                break\n",
    "            count = count + 1"
   ]
  },
  {
   "cell_type": "markdown",
   "id": "c945111a",
   "metadata": {},
   "source": [
    "- 해당 코드를 여러 번 수행 시 파일명이 변경되어 파일 계층 구조가 바뀔 수 있으므로 최초 1회만 시행한다."
   ]
  }
 ],
 "metadata": {
  "kernelspec": {
   "display_name": "Python 3 (ipykernel)",
   "language": "python",
   "name": "python3"
  },
  "language_info": {
   "codemirror_mode": {
    "name": "ipython",
    "version": 3
   },
   "file_extension": ".py",
   "mimetype": "text/x-python",
   "name": "python",
   "nbconvert_exporter": "python",
   "pygments_lexer": "ipython3",
   "version": "3.7.7"
  }
 },
 "nbformat": 4,
 "nbformat_minor": 5
}
