{
 "cells": [
  {
   "cell_type": "markdown",
   "id": "90aa61b5",
   "metadata": {},
   "source": [
    "# **1. 데이터 차원**\n",
    "- 데이터 자체는 충분함\n",
    "- 불균형 데이터 -> Data Augmentation\n",
    "- 데이터 범위(scale) 조정: 정규화/규제화/표준화"
   ]
  },
  {
   "cell_type": "markdown",
   "id": "a95c9b54",
   "metadata": {},
   "source": [
    "# **2. 알고리즘 차원**\n",
    "- 학습률(learning rate)\n",
    "    - Adam의 경우 옵티마이져 자체에서 lr scheduling이 일어남 -> lr scheduler 적용x\n",
    "- 활성화 함수/손실함수\n",
    "    - 활성화 함수: softmax\n",
    "    - 손실 함수: CrossEntropyLoss\n",
    "- 배치/ Epoch\n",
    "    - batch size: 64\n",
    "    - Epoch: 100"
   ]
  },
  {
   "cell_type": "markdown",
   "id": "d89069eb",
   "metadata": {},
   "source": [
    "# **3. 하드웨어 차원**\n",
    "- 역전파처럼 복잡한 미적분 연산의 경우 병렬 연산을 해야 속도/ 정확도 증가\n",
    "- 장치를 cpu에서 gpu로 변경"
   ]
  },
  {
   "cell_type": "code",
   "execution_count": 1,
   "id": "511168c4",
   "metadata": {},
   "outputs": [],
   "source": [
    "### 필요한 라이브러리 준비\n",
    "\n",
    "import torch\n",
    "import pandas as pd\n",
    "import numpy as np\n",
    "import matplotlib.pyplot as plt\n",
    "import os\n",
    "import cv2\n",
    "import copy\n",
    "import argparse\n",
    "\n",
    "from torch import nn\n",
    "from torch.utils.data import Dataset, DataLoader\n",
    "from torchvision import transforms, models\n",
    "from ipywidgets import interact\n",
    "from module.pytorchtools import EarlyStopping # 사용자 정의 모듈\n",
    "                                              # 외부 py파일을 모듈로 import하여 EarlyStopping 함수 사용"
   ]
  },
  {
   "cell_type": "code",
   "execution_count": 2,
   "id": "41ffb691",
   "metadata": {},
   "outputs": [
    {
     "name": "stdout",
     "output_type": "stream",
     "text": [
      "1.12.1+cu116\n"
     ]
    }
   ],
   "source": [
    "### gpu 장치 확인\n",
    "print(torch.__version__) "
   ]
  },
  {
   "cell_type": "markdown",
   "id": "3bc18c93",
   "metadata": {},
   "source": [
    "### **DataLoader**"
   ]
  },
  {
   "cell_type": "code",
   "execution_count": 3,
   "id": "be5d8b00",
   "metadata": {},
   "outputs": [],
   "source": [
    "train_data_dir = './DataSet/archive/train/'\n",
    "train_data_df = pd.read_csv(os.path.join(train_data_dir,'train.csv'))\n",
    "\n",
    "# 분류에 사용할 class 정의(7개의 감정들)\n",
    "feelings_list = ['angry', 'disgust', 'fear', 'happy', 'neutral', 'sad', 'surprise']"
   ]
  },
  {
   "cell_type": "code",
   "execution_count": 4,
   "id": "965a7e85",
   "metadata": {},
   "outputs": [],
   "source": [
    "IMAGE_SIZE = 48\n",
    "\n",
    "### 이미지 파일 경로를 리스트 형태로 저장하기 위한 함수\n",
    "def list_image_file(data_dir,sub_dir):\n",
    "    image_files = []\n",
    "    \n",
    "    images_dir = os.path.join(data_dir,sub_dir)\n",
    "    for file_path in os.listdir(images_dir):\n",
    "        image_files.append(os.path.join(sub_dir,file_path))\n",
    "    return image_files"
   ]
  },
  {
   "cell_type": "code",
   "execution_count": 5,
   "id": "bc9ba21c",
   "metadata": {},
   "outputs": [],
   "source": [
    "### 학습 데이터셋 클래스\n",
    "class Feeling_dataset(Dataset):\n",
    "    ### 생성자\n",
    "    def __init__(self,data_dir,transform = None):\n",
    "        self.data_dir = data_dir # 데이터가 저장된 상위 directory\n",
    "        angry_imgs = list_image_file(data_dir,'angry')\n",
    "        disgust_imgs = list_image_file(data_dir,'disgust')\n",
    "        fear_imgs = list_image_file(data_dir,'fear')\n",
    "        happy_imgs = list_image_file(data_dir,'happy')\n",
    "        neutral_imgs = list_image_file(data_dir,'neutral')\n",
    "        sad_imgs = list_image_file(data_dir,'sad')\n",
    "        surprise_imgs = list_image_file(data_dir,'surprise')\n",
    "        \n",
    "        # 모든 사진들의 경로를 하나의 리스트에 저장\n",
    "        self.files_path = angry_imgs + disgust_imgs + fear_imgs + happy_imgs + neutral_imgs + sad_imgs + surprise_imgs\n",
    "        self.transform = transform\n",
    "    \n",
    "    ### 데이터 개수 확인\n",
    "    def __len__(self):\n",
    "        return len(self.files_path) # 전체 데이터 개수\n",
    "    \n",
    "    ### getitem\n",
    "    def __getitem__(self,index):\n",
    "        # image(feature data)\n",
    "        image_file = os.path.join(self.data_dir,self.files_path[index])\n",
    "        image = cv2.imread(image_file)\n",
    "        image = cv2.resize(image,dsize = (IMAGE_SIZE,IMAGE_SIZE),interpolation = cv2.INTER_LINEAR)\n",
    "        image = cv2.cvtColor(image,cv2.COLOR_BGR2RGB)\n",
    "        \n",
    "        # feeling(target data)\n",
    "        target = feelings_list.index(self.files_path[index].split(os.sep)[0])\n",
    "        \n",
    "        if self.transform:\n",
    "            image = self.transform(image) # feature data에 대해서만 데이터 변형 수행\n",
    "            target = torch.Tensor([target]).long()\n",
    "            \n",
    "        return {'image':image,'target':target}"
   ]
  },
  {
   "cell_type": "code",
   "execution_count": 6,
   "id": "1f3fde09",
   "metadata": {},
   "outputs": [],
   "source": [
    "### Transformation\n",
    "\n",
    "# 학습 feature data 변환\n",
    "train_transformer = transforms.Compose([\n",
    "    transforms.ToPILImage(),\n",
    "    transforms.RandomHorizontalFlip(), # 수평으로 뒤집기\n",
    "    transforms.RandomVerticalFlip(), # 수직으로 뒤집기\n",
    "    transforms.ToTensor(), # 텐서로 변환\n",
    "    transforms.Normalize(mean = [0.485, 0.456, 0.406], std = [0.229, 0.224, 0.225]) # 정규화\n",
    "])\n",
    "\n",
    "# 검증 feature data 변환\n",
    "val_transformer = transforms.Compose([\n",
    "    transforms.ToTensor(), # 텐서로 변환\n",
    "    transforms.Normalize(mean = [0.485, 0.456, 0.406], std = [0.229, 0.224, 0.225]) # 정규화\n",
    "])"
   ]
  },
  {
   "cell_type": "code",
   "execution_count": 7,
   "id": "8c087452",
   "metadata": {},
   "outputs": [],
   "source": [
    "### 데이터로더 구현\n",
    "def build_dataloader(train_data_dir,val_data_dir):\n",
    "    dataloaders = {}\n",
    "    train_dset = Feeling_dataset(train_data_dir,train_transformer)\n",
    "    dataloaders['train'] = DataLoader(train_dset,batch_size = 128,shuffle = True,drop_last = True)\n",
    "    \n",
    "    val_dset = Feeling_dataset(val_data_dir,val_transformer)\n",
    "    dataloaders['val'] = DataLoader(val_dset,batch_size = 128,shuffle = False,drop_last = False)\n",
    "    \n",
    "    return dataloaders"
   ]
  },
  {
   "cell_type": "code",
   "execution_count": 8,
   "id": "30ce035f",
   "metadata": {},
   "outputs": [],
   "source": [
    "train_data_dir = './DataSet/archive/train/'\n",
    "val_data_dir = train_data_dir = './DataSet/archive/valid/'\n",
    "dataloaders = build_dataloader(train_data_dir,val_data_dir)"
   ]
  },
  {
   "cell_type": "markdown",
   "id": "07fd26bd",
   "metadata": {},
   "source": [
    "### **Modeling**"
   ]
  },
  {
   "cell_type": "code",
   "execution_count": 9,
   "id": "8b7ae64f",
   "metadata": {},
   "outputs": [],
   "source": [
    "from torchsummary import summary"
   ]
  },
  {
   "cell_type": "code",
   "execution_count": 10,
   "id": "eca7935b",
   "metadata": {},
   "outputs": [],
   "source": [
    "### 모델 생성 함수\n",
    "# 기존의 VGG19 모델 호출 -> head 부분 수정\n",
    "def build_vgg19_based_model():\n",
    "    device = torch.device(\"cuda:0\" if torch.cuda.is_available() else \"cpu\")\n",
    "    model = models.vgg19(pretrained = True) # 이미 학습된 vgg19 모델 불러오기\n",
    "    # 일반 NN Layer(FC Layer)\n",
    "    model.avgpool = nn.AdaptiveAvgPool2d(output_size = (1,1)) # 각 구역의 평균값 출력\n",
    "    model.classifier = nn.Sequential(\n",
    "        nn.Flatten(), # 평탄화\n",
    "        nn.Linear(512,256), # 512 -> 256\n",
    "        nn.ReLU(), # 활성화 함수\n",
    "        nn.Dropout(0.1), # 과적합 방지\n",
    "        nn.Linear(256,7), # 256 -> 7(7개의 감정으로 분류되니)\n",
    "        nn.Softmax() # 활성화 함수(각 클래스에 속할 확률 추정)\n",
    "    )\n",
    "    \n",
    "    return model.to(device)"
   ]
  },
  {
   "cell_type": "markdown",
   "id": "eae75459",
   "metadata": {},
   "source": [
    "### **Estimation**"
   ]
  },
  {
   "cell_type": "code",
   "execution_count": 11,
   "id": "d8b8eb25",
   "metadata": {},
   "outputs": [],
   "source": [
    "### 모델 검증을 위한 accuracy\n",
    "\n",
    "@torch.no_grad() \n",
    "def get_accuracy(image,target,model):\n",
    "    device = torch.device(\"cuda:0\" if torch.cuda.is_available() else \"cpu\")\n",
    "    batch_size = image.shape[0] \n",
    "    prediction = model(image).to(device) # 예측 \n",
    "    _,pred_label = torch.max(prediction,dim = 1) # 예측이 어느 클래스에 속하는지 확률이 가장 높은 1개 선택\n",
    "    is_correct = (pred_label == target)\n",
    "    \n",
    "    return is_correct.cpu().numpy().sum() / batch_size"
   ]
  },
  {
   "cell_type": "markdown",
   "id": "a3f48844",
   "metadata": {},
   "source": [
    "### **Training**"
   ]
  },
  {
   "cell_type": "code",
   "execution_count": 12,
   "id": "c37532fc",
   "metadata": {},
   "outputs": [],
   "source": [
    "### Epoch을 1번 수행\n",
    "def train_one_epoch(dataloaders,model,optimizer,loss_func,device):\n",
    "    losses = {} # loss값 저장\n",
    "    accuracies = {} # 정확도 값 저장\n",
    "    \n",
    "    for tv in ['train','val']:\n",
    "        ### loss, accuracy를 계속 갱신\n",
    "        running_loss = 0.0\n",
    "        running_correct = 0\n",
    "        \n",
    "        if tv == 'train': # 학습\n",
    "            model.train()\n",
    "        else: # 검증\n",
    "            model.eval()\n",
    "        \n",
    "        for index,batch in enumerate(dataloaders[tv]):\n",
    "            image = batch['image'].to(device) # feature data(이미지)\n",
    "            target = batch['target'].squeeze(dim = 1).to(device) # label data(감정), 1차원으로 차원 축소 진행\n",
    "            \n",
    "            ### 역전파 적용\n",
    "            with torch.set_grad_enabled(tv == 'train'): \n",
    "                prediction = model(image).to(device) # label 예측\n",
    "                loss = loss_func(prediction,target) # loss값 계산\n",
    "                \n",
    "                if tv == 'train':\n",
    "                    optimizer.zero_grad() # 한 번의 학습 완료 -> gradient를 0으로 초기화\n",
    "                    loss.backward() # 역전파\n",
    "                    optimizer.step() # 가중치 업데이트\n",
    "                \n",
    "                running_loss += loss.item()\n",
    "                running_correct += get_accuracy(image,target,model)\n",
    "            \n",
    "            if tv == 'train':\n",
    "                if index % 30 == 0:\n",
    "                    print(f\"{index}/{len(dataloaders['train'])} - Running loss: {loss.item()}\")\n",
    "        losses[tv] = running_loss / len(dataloaders[tv])\n",
    "        accuracies[tv] = running_correct / len(dataloaders[tv])\n",
    "    \n",
    "    return losses, accuracies"
   ]
  },
  {
   "cell_type": "code",
   "execution_count": 13,
   "id": "cb3fd788",
   "metadata": {},
   "outputs": [],
   "source": [
    "### 학습이 잘 된 모델 저장\n",
    "def save_best_model(model_state,model_name,save_dir = './best_model'):\n",
    "    os.makedirs(save_dir,exist_ok = True) # 경로 존재 시 덮어쓰기, 없는 경우 새로 생성\n",
    "    torch.save(model_state,os.path.join(save_dir,model_name)) # 모델 저장"
   ]
  },
  {
   "cell_type": "code",
   "execution_count": 14,
   "id": "ac16bd77",
   "metadata": {},
   "outputs": [
    {
     "name": "stderr",
     "output_type": "stream",
     "text": [
      "c:\\users\\bin\\appdata\\local\\programs\\python\\python38\\lib\\site-packages\\torchvision\\models\\_utils.py:208: UserWarning: The parameter 'pretrained' is deprecated since 0.13 and will be removed in 0.15, please use 'weights' instead.\n",
      "  warnings.warn(\n",
      "c:\\users\\bin\\appdata\\local\\programs\\python\\python38\\lib\\site-packages\\torchvision\\models\\_utils.py:223: UserWarning: Arguments other than a weight enum or `None` for 'weights' are deprecated since 0.13 and will be removed in 0.15. The current behavior is equivalent to passing `weights=VGG19_Weights.IMAGENET1K_V1`. You can also use `weights=VGG19_Weights.DEFAULT` to get the most up-to-date weights.\n",
      "  warnings.warn(msg)\n"
     ]
    }
   ],
   "source": [
    "device = torch.device(\"cuda:0\" if torch.cuda.is_available() else \"cpu\") # 장치 얻어오기\n",
    "\n",
    "### 경로 설정\n",
    "train_data_dir = './DataSet/archive/train/'\n",
    "val_data_dir = './DataSet/archive/valid/'\n",
    "\n",
    "### 필요한 요소들 준비\n",
    "dataloaders = build_dataloader(train_data_dir,val_data_dir)\n",
    "model = build_vgg19_based_model()\n",
    "loss_func = nn.CrossEntropyLoss(reduction = 'mean').to(device)\n",
    "optimizer = torch.optim.Adam(model.parameters(),lr = 0.001)\n",
    "scheduler = torch.optim.lr_scheduler.ReduceLROnPlateau(optimizer, mode = 'min', patience = 5, factor = 0.1,\n",
    "                                                       min_lr = 1e-10,verbose = True)  # lr scheduling\n",
    "early_stopping = EarlyStopping(patience = 10, verbose = False) # 조기 종료(사용자 정의 모듈)"
   ]
  },
  {
   "cell_type": "code",
   "execution_count": 15,
   "id": "1b285105",
   "metadata": {
    "scrolled": true
   },
   "outputs": [
    {
     "name": "stderr",
     "output_type": "stream",
     "text": [
      "c:\\users\\bin\\appdata\\local\\programs\\python\\python38\\lib\\site-packages\\torch\\nn\\modules\\container.py:139: UserWarning: Implicit dimension choice for softmax has been deprecated. Change the call to include dim=X as an argument.\n",
      "  input = module(input)\n"
     ]
    },
    {
     "name": "stdout",
     "output_type": "stream",
     "text": [
      "0/227 - Running loss: 1.9594776630401611\n",
      "30/227 - Running loss: 1.9857338666915894\n",
      "60/227 - Running loss: 1.923233985900879\n",
      "90/227 - Running loss: 1.860733985900879\n",
      "120/227 - Running loss: 1.938858985900879\n",
      "150/227 - Running loss: 1.9388588666915894\n",
      "180/227 - Running loss: 1.962296485900879\n",
      "210/227 - Running loss: 1.931046485900879\n",
      "1/100-Train Loss:1.9192601783685221, Val Loss:1.923234121552829\n",
      "1/100-Train Acc:0.24617979074889867, Val Acc:0.2421875\n",
      "0/227 - Running loss: 1.923233985900879\n",
      "30/227 - Running loss: 1.946671485900879\n",
      "60/227 - Running loss: 1.954483985900879\n",
      "90/227 - Running loss: 1.860733985900879\n",
      "120/227 - Running loss: 1.915421485900879\n",
      "150/227 - Running loss: 1.931046485900879\n",
      "180/227 - Running loss: 1.954483985900879\n",
      "210/227 - Running loss: 1.938858985900879\n",
      "2/100-Train Loss:1.9188975263797239, Val Loss:1.923234121552829\n",
      "2/100-Train Acc:0.2465239537444934, Val Acc:0.2421875\n",
      "0/227 - Running loss: 1.9544838666915894\n",
      "30/227 - Running loss: 1.884171485900879\n",
      "60/227 - Running loss: 1.946671485900879\n",
      "90/227 - Running loss: 1.985733985900879\n",
      "120/227 - Running loss: 1.915421485900879\n",
      "150/227 - Running loss: 1.915421485900879\n",
      "180/227 - Running loss: 1.938858985900879\n",
      "210/227 - Running loss: 1.962296485900879\n",
      "3/100-Train Loss:1.918587781784293, Val Loss:1.923234121552829\n",
      "3/100-Train Acc:0.24683370044052863, Val Acc:0.2421875\n",
      "0/227 - Running loss: 1.938858985900879\n",
      "30/227 - Running loss: 1.954483985900879\n"
     ]
    },
    {
     "name": "stderr",
     "output_type": "stream",
     "text": [
      "\n",
      "KeyboardInterrupt\n",
      "\n"
     ]
    }
   ],
   "source": [
    "num_epochs = 100\n",
    "\n",
    "best_acc = 0.0\n",
    "train_loss,train_accuracy = [],[]\n",
    "val_loss,val_accuracy = [],[]\n",
    "\n",
    "for epoch in range(num_epochs):\n",
    "    ### 1 Epoch 수행\n",
    "    losses, accuracies = train_one_epoch(dataloaders, model, optimizer, loss_func, device)\n",
    "    \n",
    "    ### LR Scheduling\n",
    "    scheduler.step(losses['val']) # 1 Epoch 수행 후 learning rate 조정\n",
    "    # EarlyStopping\n",
    "    early_stopping(losses['val'], model) # 현재 과적합 상황 추적\n",
    "    if early_stopping.early_stop: # 조건 만족 시 조기 종료\n",
    "        break\n",
    "        \n",
    "    train_loss.append(losses['train'])\n",
    "    val_loss.append(losses['val'])\n",
    "    train_accuracy.append(accuracies['train'])\n",
    "    val_accuracy.append(accuracies['val'])\n",
    "    \n",
    "    print(f\"{epoch+1}/{num_epochs}-Train Loss:{losses['train']}, Val Loss:{losses['val']}\")\n",
    "    print(f\"{epoch+1}/{num_epochs}-Train Acc:{accuracies['train']}, Val Acc:{accuracies['val']}\")\n",
    "    \n",
    "    # deepcopy: 배열의 내부 객체까지 복사를 해서 사용\n",
    "    # copy: 배열의 내부 객체까지 깊은 복사를 해주지 않음\n",
    "    if (epoch > 3) and (accuracies['val'] > best_acc):\n",
    "        best_acc = accuracies['val']\n",
    "        best_model = copy.deepcopy(model.state_dict()) \n",
    "        save_best_model(best_model, f'model_{epoch+1:02d}.pth')\n",
    "\n",
    "print(f'Bset Accuracy: {best_acc}')"
   ]
  },
  {
   "cell_type": "code",
   "execution_count": null,
   "id": "3656ccdd",
   "metadata": {},
   "outputs": [],
   "source": [
    "### Loss, Accuracy 시각화\n",
    "\n",
    "plt.figure(figsize = (6,5))\n",
    "\n",
    "# Loss\n",
    "plt.subplot(211)\n",
    "plt.plot(train_loss,label = \"train\")\n",
    "plt.plot(val_loss,label = \"val\")\n",
    "plt.xlabel(\"epoch\")\n",
    "plt.ylabel(\"loss\")\n",
    "plt.grid(\"on\")\n",
    "plt.legend()\n",
    "\n",
    "# Accuracy\n",
    "plt.subplot(212)\n",
    "plt.plot(train_accuracy,label = \"train\")\n",
    "plt.plot(val_accuracy,label = \"val\")\n",
    "plt.xlabel(\"epoch\")\n",
    "plt.ylabel(\"accuracy\")\n",
    "plt.grid(\"on\")\n",
    "plt.legend()\n",
    "\n",
    "plt.tight_layout()"
   ]
  }
 ],
 "metadata": {
  "kernelspec": {
   "display_name": "Python 3 (ipykernel)",
   "language": "python",
   "name": "python3"
  },
  "language_info": {
   "codemirror_mode": {
    "name": "ipython",
    "version": 3
   },
   "file_extension": ".py",
   "mimetype": "text/x-python",
   "name": "python",
   "nbconvert_exporter": "python",
   "pygments_lexer": "ipython3",
   "version": "3.8.9"
  }
 },
 "nbformat": 4,
 "nbformat_minor": 5
}
