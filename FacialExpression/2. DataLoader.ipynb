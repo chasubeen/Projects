{
 "cells": [
  {
   "cell_type": "code",
   "execution_count": 1,
   "id": "6667ccbe",
   "metadata": {},
   "outputs": [],
   "source": [
    "import torch\n",
    "import pandas as pd\n",
    "import numpy as np\n",
    "import matplotlib.pyplot as plt\n",
    "import os\n",
    "import cv2\n",
    "import copy\n",
    "from torch import nn\n",
    "from torch.utils.data import Dataset, DataLoader\n",
    "from torchvision import transforms, models\n",
    "from ipywidgets import interact"
   ]
  },
  {
   "cell_type": "markdown",
   "id": "61d8ba63",
   "metadata": {},
   "source": [
    "# **1. 학습 데이터 셋 클래스 만들기**"
   ]
  },
  {
   "cell_type": "code",
   "execution_count": 2,
   "id": "e808eb95",
   "metadata": {},
   "outputs": [
    {
     "data": {
      "text/html": [
       "<div>\n",
       "<style scoped>\n",
       "    .dataframe tbody tr th:only-of-type {\n",
       "        vertical-align: middle;\n",
       "    }\n",
       "\n",
       "    .dataframe tbody tr th {\n",
       "        vertical-align: top;\n",
       "    }\n",
       "\n",
       "    .dataframe thead th {\n",
       "        text-align: right;\n",
       "    }\n",
       "</style>\n",
       "<table border=\"1\" class=\"dataframe\">\n",
       "  <thead>\n",
       "    <tr style=\"text-align: right;\">\n",
       "      <th></th>\n",
       "      <th>file</th>\n",
       "      <th>emotion</th>\n",
       "    </tr>\n",
       "  </thead>\n",
       "  <tbody>\n",
       "    <tr>\n",
       "      <th>0</th>\n",
       "      <td>angry_1.jpg</td>\n",
       "      <td>angry</td>\n",
       "    </tr>\n",
       "    <tr>\n",
       "      <th>1</th>\n",
       "      <td>angry_10.jpg</td>\n",
       "      <td>angry</td>\n",
       "    </tr>\n",
       "    <tr>\n",
       "      <th>2</th>\n",
       "      <td>angry_100.jpg</td>\n",
       "      <td>angry</td>\n",
       "    </tr>\n",
       "    <tr>\n",
       "      <th>3</th>\n",
       "      <td>angry_1000.jpg</td>\n",
       "      <td>angry</td>\n",
       "    </tr>\n",
       "    <tr>\n",
       "      <th>4</th>\n",
       "      <td>angry_1001.jpg</td>\n",
       "      <td>angry</td>\n",
       "    </tr>\n",
       "  </tbody>\n",
       "</table>\n",
       "</div>"
      ],
      "text/plain": [
       "             file emotion\n",
       "0     angry_1.jpg   angry\n",
       "1    angry_10.jpg   angry\n",
       "2   angry_100.jpg   angry\n",
       "3  angry_1000.jpg   angry\n",
       "4  angry_1001.jpg   angry"
      ]
     },
     "execution_count": 2,
     "metadata": {},
     "output_type": "execute_result"
    }
   ],
   "source": [
    "train_data_dir = './DataSet/archive/train/'\n",
    "train_data_df = pd.read_csv(os.path.join(train_data_dir,'train.csv'))\n",
    "train_data_df.head()"
   ]
  },
  {
   "cell_type": "code",
   "execution_count": 6,
   "id": "2e9ad9f1",
   "metadata": {},
   "outputs": [
    {
     "name": "stdout",
     "output_type": "stream",
     "text": [
      "./DataSet/archive/train/\n"
     ]
    }
   ],
   "source": [
    "'''\n",
    "DataSet\n",
    "ㄴ train\n",
    "  ㄴ angry\n",
    "  ㄴ disgust\n",
    "  ㄴ fear\n",
    "  ㄴ happy\n",
    "  ㄴ neutral\n",
    "  ㄴ sad\n",
    "  ㄴ surprise\n",
    "ㄴ valid\n",
    "  ㄴ angry\n",
    "  ㄴ disgust\n",
    "  ㄴ fear\n",
    "  ㄴ happy\n",
    "  ㄴ neutral\n",
    "  ㄴ sad\n",
    "  ㄴ surprise\n",
    "ㄴ test\n",
    "  ㄴ angry\n",
    "  ㄴ disgust\n",
    "  ㄴ fear\n",
    "  ㄴ happy\n",
    "  ㄴ neutral\n",
    "  ㄴ sad\n",
    "  ㄴ surprise\n",
    "'''\n",
    "print(train_data_dir)"
   ]
  },
  {
   "cell_type": "code",
   "execution_count": 7,
   "id": "42b52c8e",
   "metadata": {},
   "outputs": [],
   "source": [
    "train_data_dir = './DataSet/archive/train/' # 상위 폴더 경로\n",
    "\n",
    "# 분류에 사용할 class 정의(7개의 감정들)\n",
    "feelings_list = ['angry', 'disgust', 'fear', 'happy', 'neutral', 'sad', 'surprise']"
   ]
  },
  {
   "cell_type": "code",
   "execution_count": 8,
   "id": "e207f99e",
   "metadata": {},
   "outputs": [],
   "source": [
    "IMAGE_SIZE = 48"
   ]
  },
  {
   "cell_type": "code",
   "execution_count": 9,
   "id": "9d4fe223",
   "metadata": {},
   "outputs": [],
   "source": [
    "### 이미지 파일 경로를 리스트 형태로 저장하기 위한 함수\n",
    "\n",
    "def list_image_file(data_dir,sub_dir):\n",
    "    image_files = []\n",
    "    \n",
    "    images_dir = os.path.join(data_dir,sub_dir)\n",
    "    for file_path in os.listdir(images_dir):\n",
    "        image_files.append(os.path.join(sub_dir,file_path))\n",
    "    return image_files"
   ]
  },
  {
   "cell_type": "code",
   "execution_count": 15,
   "id": "787c445c",
   "metadata": {},
   "outputs": [],
   "source": [
    "class Feeling_dataset(Dataset):\n",
    "    ### 생성자\n",
    "    def __init__(self,data_dir,transform = None):\n",
    "        self.data_dir = data_dir # 데이터가 저장된 상위 directory\n",
    "        \n",
    "        angry_imgs = list_image_file(data_dir,'angry')\n",
    "        disgust_imgs = list_image_file(data_dir,'disgust')\n",
    "        fear_imgs = list_image_file(data_dir,'fear')\n",
    "        happy_imgs = list_image_file(data_dir,'happy')\n",
    "        neutral_imgs = list_image_file(data_dir,'neutral')\n",
    "        sad_imgs = list_image_file(data_dir,'sad')\n",
    "        surprise_imgs = list_image_file(data_dir,'surprise')\n",
    "        \n",
    "        # 모든 사진들의 경로를 하나의 리스트에 저장\n",
    "        self.files_path = angry_imgs + disgust_imgs + fear_imgs + happy_imgs + neutral_imgs + sad_imgs + surprise_imgs\n",
    "        self.transform = transform\n",
    "    \n",
    "    ### 데이터 개수\n",
    "    def __len__(self):\n",
    "        return len(self.files_path) # 전체 데이터 개수\n",
    "    \n",
    "    ### getitem\n",
    "    def __getitem__(self,index):\n",
    "        # image(feature data)\n",
    "        image_file = os.path.join(self.data_dir,self.files_path[index])\n",
    "        image = cv2.imread(image_file)\n",
    "        image = cv2.resize(image,dsize = (IMAGE_SIZE,IMAGE_SIZE),interpolation = cv2.INTER_LINEAR)\n",
    "        image = cv2.cvtColor(image,cv2.COLOR_BGR2RGB)\n",
    "        \n",
    "        # feeling(target data)\n",
    "        target = feelings_list.index(self.files_path[index].split(os.sep)[0])\n",
    "        \n",
    "        if self.transform:\n",
    "            image = self.transform(image)\n",
    "            target = torch.Tensor([target]).long()\n",
    "            \n",
    "        return {'image':image,'target':target}"
   ]
  },
  {
   "cell_type": "code",
   "execution_count": 16,
   "id": "ea5858bb",
   "metadata": {},
   "outputs": [],
   "source": [
    "### 데이터가 잘 load되는지 확인하기\n",
    "\n",
    "dset = Feeling_dataset(train_data_dir)"
   ]
  },
  {
   "cell_type": "code",
   "execution_count": 17,
   "id": "e5dbe70c",
   "metadata": {},
   "outputs": [
    {
     "data": {
      "text/plain": [
       "<matplotlib.image.AxesImage at 0x1dca699b3c8>"
      ]
     },
     "execution_count": 17,
     "metadata": {},
     "output_type": "execute_result"
    },
    {
     "data": {
      "image/png": "[encoded data removed]",
      "text/plain": [
       "<Figure size 640x480 with 1 Axes>"
      ]
     },
     "metadata": {},
     "output_type": "display_data"
    }
   ],
   "source": [
    "index = 0 # 제일 처음 사진 가져오기\n",
    "plt.title(feelings_list[dset[index]['target']])\n",
    "plt.imshow(dset[index]['image'])"
   ]
  },
  {
   "cell_type": "markdown",
   "id": "9d27d0e6",
   "metadata": {},
   "source": [
    "# **2. 텐서 변환**"
   ]
  },
  {
   "cell_type": "code",
   "execution_count": 27,
   "id": "7f1d1d80",
   "metadata": {},
   "outputs": [],
   "source": [
    "transformer = transforms.Compose([\n",
    "    transforms.ToTensor(),\n",
    "    # 정규화\n",
    "    transforms.Normalize(mean = [0.485, 0.456, 0.406],\n",
    "                         std = [0.229, 0.224, 0.225]) \n",
    "    # ImageNet이 학습한 수백만장의 이미지의 RGB 각각의 채널 값을 주로 default로 활용\n",
    "])"
   ]
  },
  {
   "cell_type": "code",
   "execution_count": 28,
   "id": "ba9a07b7",
   "metadata": {},
   "outputs": [],
   "source": [
    "train_dset = Feeling_dataset(train_data_dir,transformer)"
   ]
  },
  {
   "cell_type": "code",
   "execution_count": 33,
   "id": "f7f42d3f",
   "metadata": {},
   "outputs": [],
   "source": [
    "### 데이터가 잘 변환되었는지 확인\n",
    "\n",
    "index = 0\n",
    "image = train_dset[index]['image']\n",
    "feeling = train_dset[index]['target']"
   ]
  },
  {
   "cell_type": "code",
   "execution_count": 34,
   "id": "b8e1b705",
   "metadata": {},
   "outputs": [
    {
     "name": "stdout",
     "output_type": "stream",
     "text": [
      "torch.Size([3, 48, 48]) tensor([0])\n"
     ]
    }
   ],
   "source": [
    "print(image.shape,feeling)"
   ]
  },
  {
   "cell_type": "markdown",
   "id": "abb1b054",
   "metadata": {},
   "source": [
    "# **3. 데이터로더 구현**"
   ]
  },
  {
   "cell_type": "code",
   "execution_count": 35,
   "id": "ae9eb25d",
   "metadata": {},
   "outputs": [],
   "source": [
    "def build_dataloader(train_data_dir,val_data_dir):\n",
    "    dataloaders = {}\n",
    "    train_dset = Feeling_dataset(train_data_dir,transformer)\n",
    "    dataloaders['train'] = DataLoader(train_dset,batch_size = 4,shuffle = True,drop_last = True)\n",
    "    \n",
    "    val_dset = Feeling_dataset(val_data_dir,transformer)\n",
    "    dataloaders['val'] = DataLoader(val_dset,batch_size = 1,shuffle = False,drop_last = False)\n",
    "    \n",
    "    return dataloaders"
   ]
  },
  {
   "cell_type": "markdown",
   "id": "79a67a34",
   "metadata": {},
   "source": [
    "- batch_size에 대한 고려/ 수정 필요\n",
    "- AutoML 등으로 hyper parameter tuning이 들어가야 하는 부분인가..?"
   ]
  },
  {
   "cell_type": "code",
   "execution_count": 36,
   "id": "ccff6bdb",
   "metadata": {},
   "outputs": [],
   "source": [
    "train_data_dir = './DataSet/archive/train/'\n",
    "val_data_dir = train_data_dir = './DataSet/archive/valid/'\n",
    "dataloaders = build_dataloader(train_data_dir,val_data_dir)"
   ]
  },
  {
   "cell_type": "code",
   "execution_count": 37,
   "id": "09f19b53",
   "metadata": {},
   "outputs": [
    {
     "name": "stdout",
     "output_type": "stream",
     "text": [
      "0 {'image': tensor([[[[-0.6452, -0.7137, -0.1999,  ..., -0.5596, -0.3369, -0.0458],\n",
      "          [-1.1760, -0.4739,  0.0056,  ..., -0.6281, -0.3198, -0.0801],\n",
      "          [-1.0048, -0.3027, -0.8849,  ..., -0.5767, -0.4397, -0.1314],\n",
      "          ...,\n",
      "          [-2.1179, -1.9295, -2.1179,  ..., -2.0323, -2.0837, -2.0152],\n",
      "          [-2.0837, -2.0665, -1.9295,  ..., -2.0665, -1.9809, -1.8610],\n",
      "          [-2.0665, -2.1179, -1.4672,  ..., -2.0665, -2.1179, -1.9638]],\n",
      "\n",
      "         [[-0.5301, -0.6001, -0.0749,  ..., -0.4426, -0.2150,  0.0826],\n",
      "          [-1.0728, -0.3550,  0.1352,  ..., -0.5126, -0.1975,  0.0476],\n",
      "          [-0.8978, -0.1800, -0.7752,  ..., -0.4601, -0.3200, -0.0049],\n",
      "          ...,\n",
      "          [-2.0357, -1.8431, -2.0357,  ..., -1.9482, -2.0007, -1.9307],\n",
      "          [-2.0007, -1.9832, -1.8431,  ..., -1.9832, -1.8957, -1.7731],\n",
      "          [-1.9832, -2.0357, -1.3704,  ..., -1.9832, -2.0357, -1.8782]],\n",
      "\n",
      "         [[-0.3055, -0.3753,  0.1476,  ..., -0.2184,  0.0082,  0.3045],\n",
      "          [-0.8458, -0.1312,  0.3568,  ..., -0.2881,  0.0256,  0.2696],\n",
      "          [-0.6715,  0.0431, -0.5495,  ..., -0.2358, -0.0964,  0.2173],\n",
      "          ...,\n",
      "          [-1.8044, -1.6127, -1.8044,  ..., -1.7173, -1.7696, -1.6999],\n",
      "          [-1.7696, -1.7522, -1.6127,  ..., -1.7522, -1.6650, -1.5430],\n",
      "          [-1.7522, -1.8044, -1.1421,  ..., -1.7522, -1.8044, -1.6476]]],\n",
      "\n",
      "\n",
      "        [[[-1.0904, -1.1760, -1.0904,  ..., -1.3644, -1.3473, -1.2617],\n",
      "          [-1.0733, -1.0048, -1.1418,  ..., -1.3987, -1.3987, -1.3644],\n",
      "          [-1.0390, -1.0048, -1.0733,  ..., -1.4158, -1.3987, -1.4329],\n",
      "          ...,\n",
      "          [-1.3815, -1.4500, -1.6384,  ..., -1.1075, -1.1418, -1.0733],\n",
      "          [-1.3302, -1.3815, -1.5528,  ..., -1.1247, -1.1247, -1.0390],\n",
      "          [-1.4158, -1.3987, -1.4672,  ..., -1.3302, -1.4158, -1.3473]],\n",
      "\n",
      "         [[-0.9853, -1.0728, -0.9853,  ..., -1.2654, -1.2479, -1.1604],\n",
      "          [-0.9678, -0.8978, -1.0378,  ..., -1.3004, -1.3004, -1.2654],\n",
      "          [-0.9328, -0.8978, -0.9678,  ..., -1.3179, -1.3004, -1.3354],\n",
      "          ...,\n",
      "          [-1.2829, -1.3529, -1.5455,  ..., -1.0028, -1.0378, -0.9678],\n",
      "          [-1.2304, -1.2829, -1.4580,  ..., -1.0203, -1.0203, -0.9328],\n",
      "          [-1.3179, -1.3004, -1.3704,  ..., -1.2304, -1.3179, -1.2479]],\n",
      "\n",
      "         [[-0.7587, -0.8458, -0.7587,  ..., -1.0376, -1.0201, -0.9330],\n",
      "          [-0.7413, -0.6715, -0.8110,  ..., -1.0724, -1.0724, -1.0376],\n",
      "          [-0.7064, -0.6715, -0.7413,  ..., -1.0898, -1.0724, -1.1073],\n",
      "          ...,\n",
      "          [-1.0550, -1.1247, -1.3164,  ..., -0.7761, -0.8110, -0.7413],\n",
      "          [-1.0027, -1.0550, -1.2293,  ..., -0.7936, -0.7936, -0.7064],\n",
      "          [-1.0898, -1.0724, -1.1421,  ..., -1.0027, -1.0898, -1.0201]]],\n",
      "\n",
      "\n",
      "        [[[-1.4672, -1.2788, -1.1932,  ..., -0.0458, -1.1932, -1.1760],\n",
      "          [-1.4329, -1.3302, -1.2788,  ...,  0.0056, -1.2274, -1.2959],\n",
      "          [-1.2788, -1.3473, -1.4158,  ..., -0.0801, -1.1418, -1.3302],\n",
      "          ...,\n",
      "          [ 1.9407,  1.8208,  0.9988,  ...,  0.9817,  0.9817,  0.9474],\n",
      "          [ 2.0092,  1.9064,  1.6667,  ...,  0.9646,  0.9817,  0.9646],\n",
      "          [ 1.9920,  1.9578,  1.9235,  ...,  0.9646,  0.9988,  0.9474]],\n",
      "\n",
      "         [[-1.3704, -1.1779, -1.0903,  ...,  0.0826, -1.0903, -1.0728],\n",
      "          [-1.3354, -1.2304, -1.1779,  ...,  0.1352, -1.1253, -1.1954],\n",
      "          [-1.1779, -1.2479, -1.3179,  ...,  0.0476, -1.0378, -1.2304],\n",
      "          ...,\n",
      "          [ 2.1134,  1.9909,  1.1506,  ...,  1.1331,  1.1331,  1.0980],\n",
      "          [ 2.1835,  2.0784,  1.8333,  ...,  1.1155,  1.1331,  1.1155],\n",
      "          [ 2.1660,  2.1310,  2.0959,  ...,  1.1155,  1.1506,  1.0980]],\n",
      "\n",
      "         [[-1.1421, -0.9504, -0.8633,  ...,  0.3045, -0.8633, -0.8458],\n",
      "          [-1.1073, -1.0027, -0.9504,  ...,  0.3568, -0.8981, -0.9678],\n",
      "          [-0.9504, -1.0201, -1.0898,  ...,  0.2696, -0.8110, -1.0027],\n",
      "          ...,\n",
      "          [ 2.3263,  2.2043,  1.3677,  ...,  1.3502,  1.3502,  1.3154],\n",
      "          [ 2.3960,  2.2914,  2.0474,  ...,  1.3328,  1.3502,  1.3328],\n",
      "          [ 2.3786,  2.3437,  2.3088,  ...,  1.3328,  1.3677,  1.3154]]],\n",
      "\n",
      "\n",
      "        [[[ 1.0844,  0.9988, -0.7308,  ..., -0.7650,  0.6734,  1.8037],\n",
      "          [ 0.6906, -0.5424, -1.2959,  ..., -0.1143,  1.4954,  1.5639],\n",
      "          [-0.8335, -0.7308, -0.7479,  ...,  0.3823,  0.7762,  1.7694],\n",
      "          ...,\n",
      "          [ 2.2489,  2.2489,  2.2318,  ...,  2.2318,  2.2318,  2.2318],\n",
      "          [ 2.2318,  2.1975,  2.2489,  ...,  2.2318,  2.2318,  2.2318],\n",
      "          [ 2.2489,  2.2147,  2.2147,  ...,  2.2489,  2.2318,  2.2318]],\n",
      "\n",
      "         [[ 1.2381,  1.1506, -0.6176,  ..., -0.6527,  0.8179,  1.9734],\n",
      "          [ 0.8354, -0.4251, -1.1954,  ...,  0.0126,  1.6583,  1.7283],\n",
      "          [-0.7227, -0.6176, -0.6352,  ...,  0.5203,  0.9230,  1.9384],\n",
      "          ...,\n",
      "          [ 2.4286,  2.4286,  2.4111,  ...,  2.4111,  2.4111,  2.4111],\n",
      "          [ 2.4111,  2.3761,  2.4286,  ...,  2.4111,  2.4111,  2.4111],\n",
      "          [ 2.4286,  2.3936,  2.3936,  ...,  2.4286,  2.4111,  2.4111]],\n",
      "\n",
      "         [[ 1.4548,  1.3677, -0.3927,  ..., -0.4275,  1.0365,  2.1868],\n",
      "          [ 1.0539, -0.2010, -0.9678,  ...,  0.2348,  1.8731,  1.9428],\n",
      "          [-0.4973, -0.3927, -0.4101,  ...,  0.7402,  1.1411,  2.1520],\n",
      "          ...,\n",
      "          [ 2.6400,  2.6400,  2.6226,  ...,  2.6226,  2.6226,  2.6226],\n",
      "          [ 2.6226,  2.5877,  2.6400,  ...,  2.6226,  2.6226,  2.6226],\n",
      "          [ 2.6400,  2.6051,  2.6051,  ...,  2.6400,  2.6226,  2.6226]]]]), 'target': tensor([[0],\n",
      "        [4],\n",
      "        [5],\n",
      "        [2]])}\n"
     ]
    }
   ],
   "source": [
    "for i,d in enumerate(dataloaders['train']):\n",
    "    print(i,d)\n",
    "    if i == 0:\n",
    "        break"
   ]
  },
  {
   "cell_type": "code",
   "execution_count": 39,
   "id": "902adaa1",
   "metadata": {},
   "outputs": [
    {
     "data": {
      "text/plain": [
       "torch.Size([4, 1])"
      ]
     },
     "execution_count": 39,
     "metadata": {},
     "output_type": "execute_result"
    }
   ],
   "source": [
    "d['target'].shape"
   ]
  },
  {
   "cell_type": "code",
   "execution_count": 40,
   "id": "fa4ae1f0",
   "metadata": {},
   "outputs": [
    {
     "data": {
      "text/plain": [
       "tensor([0, 4, 5, 2])"
      ]
     },
     "execution_count": 40,
     "metadata": {},
     "output_type": "execute_result"
    }
   ],
   "source": [
    "# squeeze(): size가 1인 차원 전체를 삭제\n",
    "\n",
    "d['target'].squeeze()"
   ]
  }
 ],
 "metadata": {
  "kernelspec": {
   "display_name": "Python 3 (ipykernel)",
   "language": "python",
   "name": "python3"
  },
  "language_info": {
   "codemirror_mode": {
    "name": "ipython",
    "version": 3
   },
   "file_extension": ".py",
   "mimetype": "text/x-python",
   "name": "python",
   "nbconvert_exporter": "python",
   "pygments_lexer": "ipython3",
   "version": "3.7.7"
  }
 },
 "nbformat": 4,
 "nbformat_minor": 5
}
